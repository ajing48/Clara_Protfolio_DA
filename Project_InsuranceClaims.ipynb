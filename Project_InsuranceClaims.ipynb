{
  "cells": [
    {
      "cell_type": "markdown",
      "metadata": {
        "id": "0_lEuDL4JSNB"
      },
      "source": [
        "# Project: Insurance Policy Cancellation (DS)\n",
        "---------------------------------------------"
      ]
    },
    {
      "cell_type": "markdown",
      "metadata": {
        "id": "NSQWgmi5P5ad"
      },
      "source": [
        "*This dataset comes from the 2022 NESS Statathon (Theme 1) from 2022. An archived version of the website and related data has been posted on HuskyCT.*"
      ]
    },
    {
      "cell_type": "markdown",
      "metadata": {
        "id": "gwjL6cYoI4Va"
      },
      "source": [
        "**Challenge:** Using historical policy data, create a multiclass predictive model to predict the policies that are most likely to be canceled and those most likely to be renewed, as well as understand what variables are most influential in causing a policy cancellation. \n",
        "\n",
        "For this theme, there are true answers, and a team should focus on proposing the best predictive model. The performance of a team will be mainly based on the predictive performance of the propose method measured by accuracy and the quality of the code. You can use Python's weighted F1 score to calculate the performance of for your model on the test partition.\n",
        "  * Make sure you use the 'weighted' F1 score\n",
        "    * https://scikit-learn.org/stable/modules/generated/sklearn.metrics.f1_score.html"
      ]
    },
    {
      "cell_type": "markdown",
      "metadata": {
        "id": "ACRLrWJPPhDD"
      },
      "source": [
        "# Dataset Description\n",
        "The Kangaroo data set is based on 4 years of property insurance policies from 2013 to 2017. There are roughly 1 million policies in the training data and each policy only has one observation. There were almost 230,000 policies canceled during the effective term. Your work is to build a model on the training data and use your best model to predict the cancelation indicator for each policy in test data.\n",
        "\n",
        "Variable descriptions\n",
        "* id - Policy id (cannot be used in model)\n",
        "* tenure - Number of years with Kangaroo\n",
        "* claim.ind - Occurrence of claim (0=no, 1=yes)\n",
        "* n.adults - Number of adults in the property\n",
        "* n.children - Number of children in the property\n",
        "* ni.gender - Gender of policyholder\n",
        "* ni.marital.status - Marital status of policyholder (0=no, 1=yes)\n",
        "* premium - Price of the policy\n",
        "* sales.channel - Medium through which policy was purchased\n",
        "* coverage.type - Type of coverage\n",
        "* dwelling.type - Type of dwelling\n",
        "* len.at.res - Length at residence (how long policyholder lived at property)\n",
        "* credit - Financial credit level of policyholder\n",
        "* house.color - Color of house\n",
        "* ni.age - Age of policholder\n",
        "* year - Year of the policy\n",
        "* zip.code - Zip code of the property\n",
        "* cancel - cancelation indicator (0=not cancel, 1=may cancel but can be convinced, 2=cancel). **This is the response variable.** "
      ]
    },
    {
      "cell_type": "code",
      "execution_count": 5,
      "metadata": {
        "colab": {
          "base_uri": "https://localhost:8080/"
        },
        "id": "EANyiNl8RpFe",
        "outputId": "a3339f05-1573-4f16-92ff-bfc813572e11"
      },
      "outputs": [
        {
          "output_type": "stream",
          "name": "stdout",
          "text": [
            "Downloading...\n",
            "From: https://drive.google.com/uc?id=1cF4YgsHb6jWoM8s1oMckCE5DXz71dJIr\n",
            "To: /content/X_test.csv\n",
            "100% 31.5M/31.5M [00:00<00:00, 73.9MB/s]\n",
            "Downloading...\n",
            "From: https://drive.google.com/uc?id=1k8asF0dptYNn1DFkylSEpr0D9FstpIO4\n",
            "To: /content/X_train.csv\n",
            "100% 63.9M/63.9M [00:00<00:00, 127MB/s]\n",
            "Downloading...\n",
            "From: https://drive.google.com/uc?id=1nldFnY3-FBKDvfpyLXjD9uxm7d7SLo6n\n",
            "To: /content/y_test.csv\n",
            "100% 690k/690k [00:00<00:00, 154MB/s]\n",
            "Downloading...\n",
            "From: https://drive.google.com/uc?id=1VirvGGFaqg1ifPjgO0MzHg3Bc7KuwotG\n",
            "To: /content/y_train.csv\n",
            "100% 1.40M/1.40M [00:00<00:00, 9.87MB/s]\n"
          ]
        }
      ],
      "source": [
        "# https://drive.google.com/file/d/1cF4YgsHb6jWoM8s1oMckCE5DXz71dJIr/view?usp=share_link\n",
        "# https://drive.google.com/file/d/1k8asF0dptYNn1DFkylSEpr0D9FstpIO4/view?usp=share_link\n",
        "# https://drive.google.com/file/d/1nldFnY3-FBKDvfpyLXjD9uxm7d7SLo6n/view?usp=share_link\n",
        "# https://drive.google.com/file/d/1VirvGGFaqg1ifPjgO0MzHg3Bc7KuwotG/view?usp=share_link\n",
        "\n",
        "!gdown 1cF4YgsHb6jWoM8s1oMckCE5DXz71dJIr\n",
        "!gdown 1k8asF0dptYNn1DFkylSEpr0D9FstpIO4\n",
        "!gdown 1nldFnY3-FBKDvfpyLXjD9uxm7d7SLo6n\n",
        "!gdown 1VirvGGFaqg1ifPjgO0MzHg3Bc7KuwotG"
      ]
    },
    {
      "cell_type": "code",
      "execution_count": 6,
      "metadata": {
        "colab": {
          "base_uri": "https://localhost:8080/"
        },
        "id": "kGSu2WWYRS8u",
        "outputId": "d27cb344-316f-4abd-d78d-50d40cc39dd9"
      },
      "outputs": [
        {
          "output_type": "stream",
          "name": "stdout",
          "text": [
            "Downloading...\n",
            "From: https://drive.google.com/uc?id=14-Mw8S_oEg2MhbIkB1j_FAnSwQOEOHF6\n",
            "To: /content/test_df.csv\n",
            "100% 32.2M/32.2M [00:00<00:00, 47.3MB/s]\n",
            "Downloading...\n",
            "From: https://drive.google.com/uc?id=1M_bC8pnGxpg7mfp4yKdyAqoC3qgv49Bo\n",
            "To: /content/train_df.csv\n",
            "100% 65.3M/65.3M [00:01<00:00, 46.5MB/s]\n"
          ]
        }
      ],
      "source": [
        "!gdown 14-Mw8S_oEg2MhbIkB1j_FAnSwQOEOHF6\n",
        "!gdown 1M_bC8pnGxpg7mfp4yKdyAqoC3qgv49Bo\n",
        "\n",
        "#https://drive.google.com/file/d/14-Mw8S_oEg2MhbIkB1j_FAnSwQOEOHF6/view?usp=share_link\n",
        "#https://drive.google.com/file/d/1M_bC8pnGxpg7mfp4yKdyAqoC3qgv49Bo/view?usp=share_link"
      ]
    },
    {
      "cell_type": "markdown",
      "metadata": {
        "id": "Smvua3WmGii1"
      },
      "source": [
        "##Import the Modules and load data\n"
      ]
    },
    {
      "cell_type": "code",
      "execution_count": 7,
      "metadata": {
        "id": "COxRfN16lrzO"
      },
      "outputs": [],
      "source": [
        "# import modules we need for EDA and wrangling\n",
        "import pandas as pd\n",
        "import numpy as np\n",
        "import matplotlib.pyplot as plt\n",
        "import seaborn as sns\n",
        "from collections import Counter\n",
        "\n",
        "# these functions are useful for splitting and normalization\n",
        "from sklearn.preprocessing import  MinMaxScaler\n",
        "from sklearn.model_selection import train_test_split\n",
        "\n",
        "# import other functions we'll need for classification modeling\n",
        "from sklearn.linear_model import LogisticRegression # LR\n",
        "from sklearn.tree import DecisionTreeClassifier # DTC\n",
        "from sklearn.ensemble import RandomForestClassifier # RFC\n",
        "from sklearn.ensemble import GradientBoostingClassifier #GBC\n",
        "\n",
        "# Classification error metrics\n",
        "from sklearn.metrics import classification_report\n",
        "from sklearn.metrics import confusion_matrix"
      ]
    },
    {
      "cell_type": "code",
      "execution_count": 8,
      "metadata": {
        "id": "iEk_845iL_YQ"
      },
      "outputs": [],
      "source": [
        "# Read the dataframe and store\n",
        "train_df=pd.read_csv('train_df.csv')\n",
        "test_df=pd.read_csv('test_df.csv')"
      ]
    },
    {
      "cell_type": "code",
      "execution_count": 9,
      "metadata": {
        "colab": {
          "base_uri": "https://localhost:8080/",
          "height": 270
        },
        "id": "9D_3nhOCgVZG",
        "outputId": "67d4b309-11f0-4099-b00c-8d67cac7d35c"
      },
      "outputs": [
        {
          "output_type": "execute_result",
          "data": {
            "text/plain": [
              "       id  year  zip.code house.color  ni.age  len.at.res  credit  \\\n",
              "0  942391  2013   15056.0      yellow    55.0        15.0    high   \n",
              "1    2792  2014   80014.0         red    60.0        17.0  medium   \n",
              "2  282556  2014   85002.0       white    48.0        15.0    high   \n",
              "3  738330  2014   85051.0         red    57.0        15.0    high   \n",
              "4  243724  2013   85077.0       white    42.0        16.0    high   \n",
              "\n",
              "  coverage.type dwelling.type     premium sales.channel ni.gender  \\\n",
              "0             A         House  935.554116         Phone         F   \n",
              "1             A         House  835.804218         Phone         F   \n",
              "2             A         Condo  958.488416        Broker         M   \n",
              "3             A         House  963.496010         Phone         F   \n",
              "4             B         House  803.088375        Broker         F   \n",
              "\n",
              "   ni.marital.status  n.adults  n.children  tenure  claim.ind  cancel  \n",
              "0                1.0       1.0         1.0    14.0        0.0       0  \n",
              "1                1.0       1.0         1.0    17.0        0.0       0  \n",
              "2                1.0       1.0         0.0    11.0        1.0       0  \n",
              "3                1.0       2.0         1.0    19.0        0.0       0  \n",
              "4                1.0       2.0         2.0    12.0        0.0       0  "
            ],
            "text/html": [
              "\n",
              "  <div id=\"df-9175de8a-2b2a-44af-b049-66704a337c0c\">\n",
              "    <div class=\"colab-df-container\">\n",
              "      <div>\n",
              "<style scoped>\n",
              "    .dataframe tbody tr th:only-of-type {\n",
              "        vertical-align: middle;\n",
              "    }\n",
              "\n",
              "    .dataframe tbody tr th {\n",
              "        vertical-align: top;\n",
              "    }\n",
              "\n",
              "    .dataframe thead th {\n",
              "        text-align: right;\n",
              "    }\n",
              "</style>\n",
              "<table border=\"1\" class=\"dataframe\">\n",
              "  <thead>\n",
              "    <tr style=\"text-align: right;\">\n",
              "      <th></th>\n",
              "      <th>id</th>\n",
              "      <th>year</th>\n",
              "      <th>zip.code</th>\n",
              "      <th>house.color</th>\n",
              "      <th>ni.age</th>\n",
              "      <th>len.at.res</th>\n",
              "      <th>credit</th>\n",
              "      <th>coverage.type</th>\n",
              "      <th>dwelling.type</th>\n",
              "      <th>premium</th>\n",
              "      <th>sales.channel</th>\n",
              "      <th>ni.gender</th>\n",
              "      <th>ni.marital.status</th>\n",
              "      <th>n.adults</th>\n",
              "      <th>n.children</th>\n",
              "      <th>tenure</th>\n",
              "      <th>claim.ind</th>\n",
              "      <th>cancel</th>\n",
              "    </tr>\n",
              "  </thead>\n",
              "  <tbody>\n",
              "    <tr>\n",
              "      <th>0</th>\n",
              "      <td>942391</td>\n",
              "      <td>2013</td>\n",
              "      <td>15056.0</td>\n",
              "      <td>yellow</td>\n",
              "      <td>55.0</td>\n",
              "      <td>15.0</td>\n",
              "      <td>high</td>\n",
              "      <td>A</td>\n",
              "      <td>House</td>\n",
              "      <td>935.554116</td>\n",
              "      <td>Phone</td>\n",
              "      <td>F</td>\n",
              "      <td>1.0</td>\n",
              "      <td>1.0</td>\n",
              "      <td>1.0</td>\n",
              "      <td>14.0</td>\n",
              "      <td>0.0</td>\n",
              "      <td>0</td>\n",
              "    </tr>\n",
              "    <tr>\n",
              "      <th>1</th>\n",
              "      <td>2792</td>\n",
              "      <td>2014</td>\n",
              "      <td>80014.0</td>\n",
              "      <td>red</td>\n",
              "      <td>60.0</td>\n",
              "      <td>17.0</td>\n",
              "      <td>medium</td>\n",
              "      <td>A</td>\n",
              "      <td>House</td>\n",
              "      <td>835.804218</td>\n",
              "      <td>Phone</td>\n",
              "      <td>F</td>\n",
              "      <td>1.0</td>\n",
              "      <td>1.0</td>\n",
              "      <td>1.0</td>\n",
              "      <td>17.0</td>\n",
              "      <td>0.0</td>\n",
              "      <td>0</td>\n",
              "    </tr>\n",
              "    <tr>\n",
              "      <th>2</th>\n",
              "      <td>282556</td>\n",
              "      <td>2014</td>\n",
              "      <td>85002.0</td>\n",
              "      <td>white</td>\n",
              "      <td>48.0</td>\n",
              "      <td>15.0</td>\n",
              "      <td>high</td>\n",
              "      <td>A</td>\n",
              "      <td>Condo</td>\n",
              "      <td>958.488416</td>\n",
              "      <td>Broker</td>\n",
              "      <td>M</td>\n",
              "      <td>1.0</td>\n",
              "      <td>1.0</td>\n",
              "      <td>0.0</td>\n",
              "      <td>11.0</td>\n",
              "      <td>1.0</td>\n",
              "      <td>0</td>\n",
              "    </tr>\n",
              "    <tr>\n",
              "      <th>3</th>\n",
              "      <td>738330</td>\n",
              "      <td>2014</td>\n",
              "      <td>85051.0</td>\n",
              "      <td>red</td>\n",
              "      <td>57.0</td>\n",
              "      <td>15.0</td>\n",
              "      <td>high</td>\n",
              "      <td>A</td>\n",
              "      <td>House</td>\n",
              "      <td>963.496010</td>\n",
              "      <td>Phone</td>\n",
              "      <td>F</td>\n",
              "      <td>1.0</td>\n",
              "      <td>2.0</td>\n",
              "      <td>1.0</td>\n",
              "      <td>19.0</td>\n",
              "      <td>0.0</td>\n",
              "      <td>0</td>\n",
              "    </tr>\n",
              "    <tr>\n",
              "      <th>4</th>\n",
              "      <td>243724</td>\n",
              "      <td>2013</td>\n",
              "      <td>85077.0</td>\n",
              "      <td>white</td>\n",
              "      <td>42.0</td>\n",
              "      <td>16.0</td>\n",
              "      <td>high</td>\n",
              "      <td>B</td>\n",
              "      <td>House</td>\n",
              "      <td>803.088375</td>\n",
              "      <td>Broker</td>\n",
              "      <td>F</td>\n",
              "      <td>1.0</td>\n",
              "      <td>2.0</td>\n",
              "      <td>2.0</td>\n",
              "      <td>12.0</td>\n",
              "      <td>0.0</td>\n",
              "      <td>0</td>\n",
              "    </tr>\n",
              "  </tbody>\n",
              "</table>\n",
              "</div>\n",
              "      <button class=\"colab-df-convert\" onclick=\"convertToInteractive('df-9175de8a-2b2a-44af-b049-66704a337c0c')\"\n",
              "              title=\"Convert this dataframe to an interactive table.\"\n",
              "              style=\"display:none;\">\n",
              "        \n",
              "  <svg xmlns=\"http://www.w3.org/2000/svg\" height=\"24px\"viewBox=\"0 0 24 24\"\n",
              "       width=\"24px\">\n",
              "    <path d=\"M0 0h24v24H0V0z\" fill=\"none\"/>\n",
              "    <path d=\"M18.56 5.44l.94 2.06.94-2.06 2.06-.94-2.06-.94-.94-2.06-.94 2.06-2.06.94zm-11 1L8.5 8.5l.94-2.06 2.06-.94-2.06-.94L8.5 2.5l-.94 2.06-2.06.94zm10 10l.94 2.06.94-2.06 2.06-.94-2.06-.94-.94-2.06-.94 2.06-2.06.94z\"/><path d=\"M17.41 7.96l-1.37-1.37c-.4-.4-.92-.59-1.43-.59-.52 0-1.04.2-1.43.59L10.3 9.45l-7.72 7.72c-.78.78-.78 2.05 0 2.83L4 21.41c.39.39.9.59 1.41.59.51 0 1.02-.2 1.41-.59l7.78-7.78 2.81-2.81c.8-.78.8-2.07 0-2.86zM5.41 20L4 18.59l7.72-7.72 1.47 1.35L5.41 20z\"/>\n",
              "  </svg>\n",
              "      </button>\n",
              "      \n",
              "  <style>\n",
              "    .colab-df-container {\n",
              "      display:flex;\n",
              "      flex-wrap:wrap;\n",
              "      gap: 12px;\n",
              "    }\n",
              "\n",
              "    .colab-df-convert {\n",
              "      background-color: #E8F0FE;\n",
              "      border: none;\n",
              "      border-radius: 50%;\n",
              "      cursor: pointer;\n",
              "      display: none;\n",
              "      fill: #1967D2;\n",
              "      height: 32px;\n",
              "      padding: 0 0 0 0;\n",
              "      width: 32px;\n",
              "    }\n",
              "\n",
              "    .colab-df-convert:hover {\n",
              "      background-color: #E2EBFA;\n",
              "      box-shadow: 0px 1px 2px rgba(60, 64, 67, 0.3), 0px 1px 3px 1px rgba(60, 64, 67, 0.15);\n",
              "      fill: #174EA6;\n",
              "    }\n",
              "\n",
              "    [theme=dark] .colab-df-convert {\n",
              "      background-color: #3B4455;\n",
              "      fill: #D2E3FC;\n",
              "    }\n",
              "\n",
              "    [theme=dark] .colab-df-convert:hover {\n",
              "      background-color: #434B5C;\n",
              "      box-shadow: 0px 1px 3px 1px rgba(0, 0, 0, 0.15);\n",
              "      filter: drop-shadow(0px 1px 2px rgba(0, 0, 0, 0.3));\n",
              "      fill: #FFFFFF;\n",
              "    }\n",
              "  </style>\n",
              "\n",
              "      <script>\n",
              "        const buttonEl =\n",
              "          document.querySelector('#df-9175de8a-2b2a-44af-b049-66704a337c0c button.colab-df-convert');\n",
              "        buttonEl.style.display =\n",
              "          google.colab.kernel.accessAllowed ? 'block' : 'none';\n",
              "\n",
              "        async function convertToInteractive(key) {\n",
              "          const element = document.querySelector('#df-9175de8a-2b2a-44af-b049-66704a337c0c');\n",
              "          const dataTable =\n",
              "            await google.colab.kernel.invokeFunction('convertToInteractive',\n",
              "                                                     [key], {});\n",
              "          if (!dataTable) return;\n",
              "\n",
              "          const docLinkHtml = 'Like what you see? Visit the ' +\n",
              "            '<a target=\"_blank\" href=https://colab.research.google.com/notebooks/data_table.ipynb>data table notebook</a>'\n",
              "            + ' to learn more about interactive tables.';\n",
              "          element.innerHTML = '';\n",
              "          dataTable['output_type'] = 'display_data';\n",
              "          await google.colab.output.renderOutput(dataTable, element);\n",
              "          const docLink = document.createElement('div');\n",
              "          docLink.innerHTML = docLinkHtml;\n",
              "          element.appendChild(docLink);\n",
              "        }\n",
              "      </script>\n",
              "    </div>\n",
              "  </div>\n",
              "  "
            ]
          },
          "metadata": {},
          "execution_count": 9
        }
      ],
      "source": [
        "# Check for the variables in the dataframe\n",
        "train_df.head()"
      ]
    },
    {
      "cell_type": "code",
      "execution_count": 10,
      "metadata": {
        "colab": {
          "base_uri": "https://localhost:8080/",
          "height": 270
        },
        "id": "hD4-I9bdPguW",
        "outputId": "19e4829c-3b30-4a27-f54a-17c5b4c35994"
      },
      "outputs": [
        {
          "output_type": "execute_result",
          "data": {
            "text/plain": [
              "       id  year  zip.code house.color  ni.age  len.at.res credit  \\\n",
              "0  812304  2013   50020.0       white    33.0        16.0   high   \n",
              "1  304035  2013   80002.0         red    56.0        10.0   high   \n",
              "2   88142  2015   85005.0       white    46.0        12.0   high   \n",
              "3  224693  2015   98026.0        blue    45.0        15.0   high   \n",
              "4  199182  2014   50022.0       white    28.0        19.0    low   \n",
              "\n",
              "  coverage.type dwelling.type     premium sales.channel ni.gender  \\\n",
              "0             C         House  796.385532        Broker         F   \n",
              "1             A         House  773.232687        Broker         M   \n",
              "2             C         Condo  943.047142        Broker         F   \n",
              "3             A        Tenant  949.368847        Broker         M   \n",
              "4             C        Tenant  875.873613        Broker         F   \n",
              "\n",
              "   ni.marital.status  n.adults  n.children  tenure  claim.ind  cancel  \n",
              "0                1.0       1.0         3.0     2.0        1.0       0  \n",
              "1                1.0       2.0         0.0    14.0        0.0       0  \n",
              "2                1.0       2.0         2.0     9.0        0.0       0  \n",
              "3                1.0       1.0         3.0    12.0        0.0       0  \n",
              "4                1.0       1.0         1.0     7.0        1.0       2  "
            ],
            "text/html": [
              "\n",
              "  <div id=\"df-2a83c376-e0e3-4acc-9219-823aef98c30b\">\n",
              "    <div class=\"colab-df-container\">\n",
              "      <div>\n",
              "<style scoped>\n",
              "    .dataframe tbody tr th:only-of-type {\n",
              "        vertical-align: middle;\n",
              "    }\n",
              "\n",
              "    .dataframe tbody tr th {\n",
              "        vertical-align: top;\n",
              "    }\n",
              "\n",
              "    .dataframe thead th {\n",
              "        text-align: right;\n",
              "    }\n",
              "</style>\n",
              "<table border=\"1\" class=\"dataframe\">\n",
              "  <thead>\n",
              "    <tr style=\"text-align: right;\">\n",
              "      <th></th>\n",
              "      <th>id</th>\n",
              "      <th>year</th>\n",
              "      <th>zip.code</th>\n",
              "      <th>house.color</th>\n",
              "      <th>ni.age</th>\n",
              "      <th>len.at.res</th>\n",
              "      <th>credit</th>\n",
              "      <th>coverage.type</th>\n",
              "      <th>dwelling.type</th>\n",
              "      <th>premium</th>\n",
              "      <th>sales.channel</th>\n",
              "      <th>ni.gender</th>\n",
              "      <th>ni.marital.status</th>\n",
              "      <th>n.adults</th>\n",
              "      <th>n.children</th>\n",
              "      <th>tenure</th>\n",
              "      <th>claim.ind</th>\n",
              "      <th>cancel</th>\n",
              "    </tr>\n",
              "  </thead>\n",
              "  <tbody>\n",
              "    <tr>\n",
              "      <th>0</th>\n",
              "      <td>812304</td>\n",
              "      <td>2013</td>\n",
              "      <td>50020.0</td>\n",
              "      <td>white</td>\n",
              "      <td>33.0</td>\n",
              "      <td>16.0</td>\n",
              "      <td>high</td>\n",
              "      <td>C</td>\n",
              "      <td>House</td>\n",
              "      <td>796.385532</td>\n",
              "      <td>Broker</td>\n",
              "      <td>F</td>\n",
              "      <td>1.0</td>\n",
              "      <td>1.0</td>\n",
              "      <td>3.0</td>\n",
              "      <td>2.0</td>\n",
              "      <td>1.0</td>\n",
              "      <td>0</td>\n",
              "    </tr>\n",
              "    <tr>\n",
              "      <th>1</th>\n",
              "      <td>304035</td>\n",
              "      <td>2013</td>\n",
              "      <td>80002.0</td>\n",
              "      <td>red</td>\n",
              "      <td>56.0</td>\n",
              "      <td>10.0</td>\n",
              "      <td>high</td>\n",
              "      <td>A</td>\n",
              "      <td>House</td>\n",
              "      <td>773.232687</td>\n",
              "      <td>Broker</td>\n",
              "      <td>M</td>\n",
              "      <td>1.0</td>\n",
              "      <td>2.0</td>\n",
              "      <td>0.0</td>\n",
              "      <td>14.0</td>\n",
              "      <td>0.0</td>\n",
              "      <td>0</td>\n",
              "    </tr>\n",
              "    <tr>\n",
              "      <th>2</th>\n",
              "      <td>88142</td>\n",
              "      <td>2015</td>\n",
              "      <td>85005.0</td>\n",
              "      <td>white</td>\n",
              "      <td>46.0</td>\n",
              "      <td>12.0</td>\n",
              "      <td>high</td>\n",
              "      <td>C</td>\n",
              "      <td>Condo</td>\n",
              "      <td>943.047142</td>\n",
              "      <td>Broker</td>\n",
              "      <td>F</td>\n",
              "      <td>1.0</td>\n",
              "      <td>2.0</td>\n",
              "      <td>2.0</td>\n",
              "      <td>9.0</td>\n",
              "      <td>0.0</td>\n",
              "      <td>0</td>\n",
              "    </tr>\n",
              "    <tr>\n",
              "      <th>3</th>\n",
              "      <td>224693</td>\n",
              "      <td>2015</td>\n",
              "      <td>98026.0</td>\n",
              "      <td>blue</td>\n",
              "      <td>45.0</td>\n",
              "      <td>15.0</td>\n",
              "      <td>high</td>\n",
              "      <td>A</td>\n",
              "      <td>Tenant</td>\n",
              "      <td>949.368847</td>\n",
              "      <td>Broker</td>\n",
              "      <td>M</td>\n",
              "      <td>1.0</td>\n",
              "      <td>1.0</td>\n",
              "      <td>3.0</td>\n",
              "      <td>12.0</td>\n",
              "      <td>0.0</td>\n",
              "      <td>0</td>\n",
              "    </tr>\n",
              "    <tr>\n",
              "      <th>4</th>\n",
              "      <td>199182</td>\n",
              "      <td>2014</td>\n",
              "      <td>50022.0</td>\n",
              "      <td>white</td>\n",
              "      <td>28.0</td>\n",
              "      <td>19.0</td>\n",
              "      <td>low</td>\n",
              "      <td>C</td>\n",
              "      <td>Tenant</td>\n",
              "      <td>875.873613</td>\n",
              "      <td>Broker</td>\n",
              "      <td>F</td>\n",
              "      <td>1.0</td>\n",
              "      <td>1.0</td>\n",
              "      <td>1.0</td>\n",
              "      <td>7.0</td>\n",
              "      <td>1.0</td>\n",
              "      <td>2</td>\n",
              "    </tr>\n",
              "  </tbody>\n",
              "</table>\n",
              "</div>\n",
              "      <button class=\"colab-df-convert\" onclick=\"convertToInteractive('df-2a83c376-e0e3-4acc-9219-823aef98c30b')\"\n",
              "              title=\"Convert this dataframe to an interactive table.\"\n",
              "              style=\"display:none;\">\n",
              "        \n",
              "  <svg xmlns=\"http://www.w3.org/2000/svg\" height=\"24px\"viewBox=\"0 0 24 24\"\n",
              "       width=\"24px\">\n",
              "    <path d=\"M0 0h24v24H0V0z\" fill=\"none\"/>\n",
              "    <path d=\"M18.56 5.44l.94 2.06.94-2.06 2.06-.94-2.06-.94-.94-2.06-.94 2.06-2.06.94zm-11 1L8.5 8.5l.94-2.06 2.06-.94-2.06-.94L8.5 2.5l-.94 2.06-2.06.94zm10 10l.94 2.06.94-2.06 2.06-.94-2.06-.94-.94-2.06-.94 2.06-2.06.94z\"/><path d=\"M17.41 7.96l-1.37-1.37c-.4-.4-.92-.59-1.43-.59-.52 0-1.04.2-1.43.59L10.3 9.45l-7.72 7.72c-.78.78-.78 2.05 0 2.83L4 21.41c.39.39.9.59 1.41.59.51 0 1.02-.2 1.41-.59l7.78-7.78 2.81-2.81c.8-.78.8-2.07 0-2.86zM5.41 20L4 18.59l7.72-7.72 1.47 1.35L5.41 20z\"/>\n",
              "  </svg>\n",
              "      </button>\n",
              "      \n",
              "  <style>\n",
              "    .colab-df-container {\n",
              "      display:flex;\n",
              "      flex-wrap:wrap;\n",
              "      gap: 12px;\n",
              "    }\n",
              "\n",
              "    .colab-df-convert {\n",
              "      background-color: #E8F0FE;\n",
              "      border: none;\n",
              "      border-radius: 50%;\n",
              "      cursor: pointer;\n",
              "      display: none;\n",
              "      fill: #1967D2;\n",
              "      height: 32px;\n",
              "      padding: 0 0 0 0;\n",
              "      width: 32px;\n",
              "    }\n",
              "\n",
              "    .colab-df-convert:hover {\n",
              "      background-color: #E2EBFA;\n",
              "      box-shadow: 0px 1px 2px rgba(60, 64, 67, 0.3), 0px 1px 3px 1px rgba(60, 64, 67, 0.15);\n",
              "      fill: #174EA6;\n",
              "    }\n",
              "\n",
              "    [theme=dark] .colab-df-convert {\n",
              "      background-color: #3B4455;\n",
              "      fill: #D2E3FC;\n",
              "    }\n",
              "\n",
              "    [theme=dark] .colab-df-convert:hover {\n",
              "      background-color: #434B5C;\n",
              "      box-shadow: 0px 1px 3px 1px rgba(0, 0, 0, 0.15);\n",
              "      filter: drop-shadow(0px 1px 2px rgba(0, 0, 0, 0.3));\n",
              "      fill: #FFFFFF;\n",
              "    }\n",
              "  </style>\n",
              "\n",
              "      <script>\n",
              "        const buttonEl =\n",
              "          document.querySelector('#df-2a83c376-e0e3-4acc-9219-823aef98c30b button.colab-df-convert');\n",
              "        buttonEl.style.display =\n",
              "          google.colab.kernel.accessAllowed ? 'block' : 'none';\n",
              "\n",
              "        async function convertToInteractive(key) {\n",
              "          const element = document.querySelector('#df-2a83c376-e0e3-4acc-9219-823aef98c30b');\n",
              "          const dataTable =\n",
              "            await google.colab.kernel.invokeFunction('convertToInteractive',\n",
              "                                                     [key], {});\n",
              "          if (!dataTable) return;\n",
              "\n",
              "          const docLinkHtml = 'Like what you see? Visit the ' +\n",
              "            '<a target=\"_blank\" href=https://colab.research.google.com/notebooks/data_table.ipynb>data table notebook</a>'\n",
              "            + ' to learn more about interactive tables.';\n",
              "          element.innerHTML = '';\n",
              "          dataTable['output_type'] = 'display_data';\n",
              "          await google.colab.output.renderOutput(dataTable, element);\n",
              "          const docLink = document.createElement('div');\n",
              "          docLink.innerHTML = docLinkHtml;\n",
              "          element.appendChild(docLink);\n",
              "        }\n",
              "      </script>\n",
              "    </div>\n",
              "  </div>\n",
              "  "
            ]
          },
          "metadata": {},
          "execution_count": 10
        }
      ],
      "source": [
        "test_df.head()"
      ]
    },
    {
      "cell_type": "markdown",
      "metadata": {
        "id": "uc1gIJ5_MzOT"
      },
      "source": [
        "## 1. EDA, data cleaning and feature engineering "
      ]
    },
    {
      "cell_type": "code",
      "execution_count": 11,
      "metadata": {
        "colab": {
          "base_uri": "https://localhost:8080/"
        },
        "id": "Cac2maF8Psqm",
        "outputId": "d0029a35-9e1a-4bd5-85cf-126d8a0b937c"
      },
      "outputs": [
        {
          "output_type": "stream",
          "name": "stdout",
          "text": [
            "<class 'pandas.core.frame.DataFrame'>\n",
            "RangeIndex: 700232 entries, 0 to 700231\n",
            "Data columns (total 18 columns):\n",
            " #   Column             Non-Null Count   Dtype  \n",
            "---  ------             --------------   -----  \n",
            " 0   id                 700232 non-null  int64  \n",
            " 1   year               700232 non-null  int64  \n",
            " 2   zip.code           699601 non-null  float64\n",
            " 3   house.color        699612 non-null  object \n",
            " 4   ni.age             699524 non-null  float64\n",
            " 5   len.at.res         699567 non-null  float64\n",
            " 6   credit             699616 non-null  object \n",
            " 7   coverage.type      699569 non-null  object \n",
            " 8   dwelling.type      699581 non-null  object \n",
            " 9   premium            699608 non-null  float64\n",
            " 10  sales.channel      699536 non-null  object \n",
            " 11  ni.gender          699589 non-null  object \n",
            " 12  ni.marital.status  699585 non-null  float64\n",
            " 13  n.adults           699626 non-null  float64\n",
            " 14  n.children         699616 non-null  float64\n",
            " 15  tenure             699577 non-null  float64\n",
            " 16  claim.ind          699574 non-null  float64\n",
            " 17  cancel             700232 non-null  int64  \n",
            "dtypes: float64(9), int64(3), object(6)\n",
            "memory usage: 96.2+ MB\n"
          ]
        }
      ],
      "source": [
        "# See the data types and data quantities \n",
        "train_df.info()"
      ]
    },
    {
      "cell_type": "code",
      "execution_count": 12,
      "metadata": {
        "colab": {
          "base_uri": "https://localhost:8080/"
        },
        "id": "NArhGuwQPyD3",
        "outputId": "c4be4b29-a837-43f0-94b7-9f372609b499"
      },
      "outputs": [
        {
          "output_type": "stream",
          "name": "stdout",
          "text": [
            "<class 'pandas.core.frame.DataFrame'>\n",
            "RangeIndex: 344891 entries, 0 to 344890\n",
            "Data columns (total 18 columns):\n",
            " #   Column             Non-Null Count   Dtype  \n",
            "---  ------             --------------   -----  \n",
            " 0   id                 344891 non-null  int64  \n",
            " 1   year               344891 non-null  int64  \n",
            " 2   zip.code           344578 non-null  float64\n",
            " 3   house.color        344572 non-null  object \n",
            " 4   ni.age             344598 non-null  float64\n",
            " 5   len.at.res         344596 non-null  float64\n",
            " 6   credit             344602 non-null  object \n",
            " 7   coverage.type      344575 non-null  object \n",
            " 8   dwelling.type      344552 non-null  object \n",
            " 9   premium            344560 non-null  float64\n",
            " 10  sales.channel      344567 non-null  object \n",
            " 11  ni.gender          344577 non-null  object \n",
            " 12  ni.marital.status  344546 non-null  float64\n",
            " 13  n.adults           344568 non-null  float64\n",
            " 14  n.children         344572 non-null  float64\n",
            " 15  tenure             344568 non-null  float64\n",
            " 16  claim.ind          344567 non-null  float64\n",
            " 17  cancel             344891 non-null  int64  \n",
            "dtypes: float64(9), int64(3), object(6)\n",
            "memory usage: 47.4+ MB\n"
          ]
        }
      ],
      "source": [
        "test_df.info()"
      ]
    },
    {
      "cell_type": "markdown",
      "metadata": {
        "id": "HpZ0dIC-P0Ut"
      },
      "source": [
        "We have 700,232 rows in the train dataset, and 344,890 rows in the test dataset"
      ]
    },
    {
      "cell_type": "markdown",
      "metadata": {
        "id": "uqGVeL8oIhvx"
      },
      "source": [
        "### Exploratory Data Analysis"
      ]
    },
    {
      "cell_type": "markdown",
      "metadata": {
        "id": "-TRKpqWWd2kF"
      },
      "source": [
        "#### Plots"
      ]
    },
    {
      "cell_type": "code",
      "execution_count": 13,
      "metadata": {
        "colab": {
          "base_uri": "https://localhost:8080/",
          "height": 418
        },
        "id": "PP-XJNoQSJIs",
        "outputId": "bf5ddf76-5e72-4a78-9c93-fd5cdd3056e8"
      },
      "outputs": [
        {
          "output_type": "display_data",
          "data": {
            "text/plain": [
              "<Figure size 500x300 with 1 Axes>"
            ],
            "image/png": "[encoded data removed]"
          },
          "metadata": {}
        },
        {
          "output_type": "stream",
          "name": "stdout",
          "text": [
            "The number of values per each class:  \n",
            " 0    496542\n",
            "2    153180\n",
            "1     50510\n",
            "Name: cancel, dtype: int64\n"
          ]
        }
      ],
      "source": [
        "# Our target is cancellation, we can find the quantities are skewed. \n",
        "# cancel - cancelation indicator (0=not cancel, 1=may cancel but can be convinced, 2=cancel).'\n",
        "\n",
        "train_df['cancel'].value_counts().plot.bar(color='green', title='Cancellation',  figsize=(5, 3))\n",
        "plt.xlabel('Cancellation')\n",
        "plt.ylabel('Count')\n",
        "plt.show()\n",
        "\n",
        "print('The number of values per each class: ','\\n',train_df['cancel'].value_counts())\n"
      ]
    },
    {
      "cell_type": "code",
      "execution_count": 14,
      "metadata": {
        "colab": {
          "base_uri": "https://localhost:8080/",
          "height": 807
        },
        "id": "F17-M29-dRf5",
        "outputId": "034461fd-f787-4e0d-fb37-665915247d15"
      },
      "outputs": [
        {
          "output_type": "display_data",
          "data": {
            "text/plain": [
              "<Figure size 800x800 with 9 Axes>"
            ],
            "image/png": "[encoded data removed]"
          },
          "metadata": {}
        }
      ],
      "source": [
        "# Below plots are the distribution of categorical variables\n",
        "import matplotlib.pyplot as plt\n",
        "\n",
        "columns = list(train_df.columns)\n",
        "categorical = ['year', 'house.color', 'credit', 'coverage.type', 'dwelling.type', 'sales.channel', 'ni.gender', 'ni.marital.status', 'claim.ind']\n",
        "\n",
        "fig, axes = plt.subplots(nrows=3, ncols=3, figsize=(8, 8))\n",
        "\n",
        "for ax, col in zip(axes.ravel(), categorical):\n",
        "    train_df[col].value_counts().plot(kind='bar', ax=ax, title=col , color='green')\n",
        "\n",
        "plt.tight_layout()\n",
        "plt.show()"
      ]
    },
    {
      "cell_type": "markdown",
      "metadata": {
        "id": "Bx3lZPecVys7"
      },
      "source": [
        "Except for the gender, most of dataset is skewed, not balanced "
      ]
    },
    {
      "cell_type": "code",
      "execution_count": 15,
      "metadata": {
        "colab": {
          "base_uri": "https://localhost:8080/",
          "height": 251
        },
        "id": "VWU9ZVqBSXaT",
        "outputId": "c56ef32c-4695-4171-dd21-9786b65a2be6"
      },
      "outputs": [
        {
          "output_type": "display_data",
          "data": {
            "text/plain": [
              "<Figure size 1500x400 with 6 Axes>"
            ],
            "image/png": "[encoded data removed]"
          },
          "metadata": {}
        }
      ],
      "source": [
        "# In order to find the distribution of continuous variables, we used box plot. \n",
        "columns = list(train_df.columns)\n",
        "continuous = ['ni.age','len.at.res','premium','n.adults','n.children','tenure']\n",
        "\n",
        "fig, axes = plt.subplots(nrows=1, ncols=6, figsize=(15, 4))\n",
        "\n",
        "for ax, col in zip(axes.ravel(), continuous):\n",
        "    train_df[col].value_counts().plot(kind='box', ax=ax, title=col, color='green')\n",
        "    ax.set_title(col)\n",
        "\n",
        "plt.tight_layout()\n",
        "plt.show()"
      ]
    },
    {
      "cell_type": "markdown",
      "metadata": {
        "id": "LGty0gYTVRaG"
      },
      "source": [
        "The boxplot shows that 'ni.age ' and 'len.at.res' are not concentrated, and the distribution of values is spread out. Apart from the two values, others are not skewed. "
      ]
    },
    {
      "cell_type": "code",
      "execution_count": 16,
      "metadata": {
        "colab": {
          "base_uri": "https://localhost:8080/"
        },
        "id": "VkwhJShEATD1",
        "outputId": "5b24ec28-ca69-4659-9aa9-dd508f743abb"
      },
      "outputs": [
        {
          "output_type": "stream",
          "name": "stdout",
          "text": [
            "942391    1\n",
            "715939    1\n",
            "295961    1\n",
            "392834    1\n",
            "985119    1\n",
            "         ..\n",
            "788774    1\n",
            "572671    1\n",
            "622177    1\n",
            "434161    1\n",
            "122363    1\n",
            "Name: id, Length: 700232, dtype: int64 \n",
            "\n",
            "2016    202799\n",
            "2015    183960\n",
            "2014    165149\n",
            "2013    148324\n",
            "Name: year, dtype: int64 \n",
            "\n",
            "50047.0    12556\n",
            "50054.0     9985\n",
            "50025.0     9454\n",
            "50021.0     9315\n",
            "80022.0     9150\n",
            "           ...  \n",
            "20137.0      404\n",
            "20146.0      395\n",
            "20115.0      392\n",
            "20142.0      372\n",
            "20108.0      360\n",
            "Name: zip.code, Length: 310, dtype: int64 \n",
            "\n",
            "white     265627\n",
            "blue      195884\n",
            "red       175163\n",
            "yellow     62938\n",
            "Name: house.color, dtype: int64 \n",
            "\n",
            "42.000000     24091\n",
            "41.000000     24042\n",
            "40.000000     23805\n",
            "44.000000     23723\n",
            "43.000000     23679\n",
            "              ...  \n",
            "112.435541        1\n",
            "168.789224        1\n",
            "294.802686        1\n",
            "275.103423        1\n",
            "225.541394        1\n",
            "Name: ni.age, Length: 478, dtype: int64 \n",
            "\n",
            "14.000000    70535\n",
            "15.000000    70266\n",
            "16.000000    65881\n",
            "13.000000    65539\n",
            "17.000000    57874\n",
            "             ...  \n",
            "34.293375        1\n",
            "34.321714        1\n",
            "15.943464        1\n",
            "47.025620        1\n",
            "2.322275         1\n",
            "Name: len.at.res, Length: 13838, dtype: int64 \n",
            "\n",
            "high      432420\n",
            "medium    152686\n",
            "low       114510\n",
            "Name: credit, dtype: int64 \n",
            "\n",
            "C    293560\n",
            "A    238168\n",
            "B    167841\n",
            "Name: coverage.type, dtype: int64 \n",
            "\n",
            "House     392705\n",
            "Condo     167955\n",
            "Tenant    138921\n",
            "Name: dwelling.type, dtype: int64 \n",
            "\n",
            "1011.854063    2\n",
            "929.565720     2\n",
            "877.700311     2\n",
            "844.651847     2\n",
            "866.742713     2\n",
            "              ..\n",
            "946.996359     1\n",
            "894.345477     1\n",
            "864.590914     1\n",
            "927.069654     1\n",
            "864.150324     1\n",
            "Name: premium, Length: 699495, dtype: int64 \n",
            "\n",
            "Broker    406609\n",
            "Phone     233600\n",
            "Online     59327\n",
            "Name: sales.channel, dtype: int64 \n",
            "\n",
            "M    364016\n",
            "F    335573\n",
            "Name: ni.gender, dtype: int64 \n",
            "\n",
            "1.0    497220\n",
            "0.0    202365\n",
            "Name: ni.marital.status, dtype: int64 \n",
            "\n",
            "1.0     283949\n",
            "2.0     189941\n",
            "3.0     126132\n",
            "4.0      62970\n",
            "5.0      25153\n",
            "6.0       8357\n",
            "7.0       2346\n",
            "8.0        625\n",
            "9.0        124\n",
            "10.0        23\n",
            "11.0         5\n",
            "12.0         1\n",
            "Name: n.adults, dtype: int64 \n",
            "\n",
            "0.0     289180\n",
            "1.0     144426\n",
            "2.0      90916\n",
            "3.0      55263\n",
            "4.0      37264\n",
            "5.0      26468\n",
            "6.0      16616\n",
            "7.0      12155\n",
            "8.0       8845\n",
            "9.0       6583\n",
            "10.0      5088\n",
            "11.0      3871\n",
            "12.0      2941\n",
            "Name: n.children, dtype: int64 \n",
            "\n",
            "15.0    51035\n",
            "14.0    50516\n",
            "16.0    47535\n",
            "13.0    47213\n",
            "17.0    41854\n",
            "12.0    41103\n",
            "4.0     35767\n",
            "5.0     34931\n",
            "18.0    34891\n",
            "11.0    33705\n",
            "6.0     30238\n",
            "3.0     28788\n",
            "19.0    27820\n",
            "10.0    26542\n",
            "7.0     24111\n",
            "0.0     22239\n",
            "9.0     21631\n",
            "8.0     20831\n",
            "20.0    20053\n",
            "2.0     17443\n",
            "21.0    13336\n",
            "22.0     8672\n",
            "1.0      7000\n",
            "23.0     5420\n",
            "24.0     3189\n",
            "25.0     1793\n",
            "26.0      971\n",
            "27.0      495\n",
            "28.0      241\n",
            "29.0      121\n",
            "30.0       51\n",
            "31.0       23\n",
            "32.0       15\n",
            "33.0        4\n",
            "Name: tenure, dtype: int64 \n",
            "\n",
            "0.0    560266\n",
            "1.0    139308\n",
            "Name: claim.ind, dtype: int64 \n",
            "\n",
            "0    496542\n",
            "2    153180\n",
            "1     50510\n",
            "Name: cancel, dtype: int64 \n",
            "\n"
          ]
        }
      ],
      "source": [
        "for col in train_df.columns:\n",
        "    print(train_df[col].value_counts(),'\\n')"
      ]
    },
    {
      "cell_type": "markdown",
      "metadata": {
        "id": "AFbOkFxmL6Yq"
      },
      "source": [
        "#### Imputing Missing Values"
      ]
    },
    {
      "cell_type": "markdown",
      "metadata": {
        "id": "yy5LkfP3I0Ty"
      },
      "source": [
        "Exlore the missing values, drop the meaningless variable, Impute the missing values"
      ]
    },
    {
      "cell_type": "code",
      "execution_count": 17,
      "metadata": {
        "colab": {
          "base_uri": "https://localhost:8080/"
        },
        "id": "Pd3nhaGNh1Qe",
        "outputId": "3b929637-e1a1-4e6b-8e1d-67e0b3ff580c"
      },
      "outputs": [
        {
          "output_type": "execute_result",
          "data": {
            "text/plain": [
              "id                     0\n",
              "year                   0\n",
              "zip.code             631\n",
              "house.color          620\n",
              "ni.age               708\n",
              "len.at.res           665\n",
              "credit               616\n",
              "coverage.type        663\n",
              "dwelling.type        651\n",
              "premium              624\n",
              "sales.channel        696\n",
              "ni.gender            643\n",
              "ni.marital.status    647\n",
              "n.adults             606\n",
              "n.children           616\n",
              "tenure               655\n",
              "claim.ind            658\n",
              "cancel                 0\n",
              "dtype: int64"
            ]
          },
          "metadata": {},
          "execution_count": 17
        }
      ],
      "source": [
        "#Missing values in Training Dataset\n",
        "train_df.isna().sum()"
      ]
    },
    {
      "cell_type": "code",
      "execution_count": 18,
      "metadata": {
        "colab": {
          "base_uri": "https://localhost:8080/"
        },
        "id": "relfU8Sik1X3",
        "outputId": "bd460a35-ba1f-495a-c276-94632b1f15ad"
      },
      "outputs": [
        {
          "output_type": "stream",
          "name": "stderr",
          "text": [
            "<ipython-input-18-5ccf6c3a7422>:2: FutureWarning: The default value of numeric_only in DataFrame.mean is deprecated. In a future version, it will default to False. In addition, specifying 'numeric_only=None' is deprecated. Select only valid columns or specify the value of numeric_only to silence this warning.\n",
            "  train_df = train_df.fillna(train_df.mean())\n"
          ]
        }
      ],
      "source": [
        "#Impute the missing value with mean \n",
        "train_df = train_df.fillna(train_df.mean())"
      ]
    },
    {
      "cell_type": "markdown",
      "source": [
        "In this dataset, the number of missing values are less than 10%, we can impute the missing value with mean."
      ],
      "metadata": {
        "id": "CanbldFTGDLu"
      }
    },
    {
      "cell_type": "code",
      "execution_count": 19,
      "metadata": {
        "colab": {
          "base_uri": "https://localhost:8080/"
        },
        "id": "lT9SLCrfNrFn",
        "outputId": "a8640c4b-5aa9-48d6-f524-9c86cad8387a"
      },
      "outputs": [
        {
          "output_type": "execute_result",
          "data": {
            "text/plain": [
              "id                     0\n",
              "year                   0\n",
              "zip.code               0\n",
              "house.color          620\n",
              "ni.age                 0\n",
              "len.at.res             0\n",
              "credit               616\n",
              "coverage.type        663\n",
              "dwelling.type        651\n",
              "premium                0\n",
              "sales.channel        696\n",
              "ni.gender            643\n",
              "ni.marital.status      0\n",
              "n.adults               0\n",
              "n.children             0\n",
              "tenure                 0\n",
              "claim.ind              0\n",
              "cancel                 0\n",
              "dtype: int64"
            ]
          },
          "metadata": {},
          "execution_count": 19
        }
      ],
      "source": [
        "#Check for the remaining missing values after updating with mean \n",
        "train_df.isna().sum()"
      ]
    },
    {
      "cell_type": "code",
      "execution_count": 20,
      "metadata": {
        "colab": {
          "base_uri": "https://localhost:8080/"
        },
        "id": "48ghmYkdOQhq",
        "outputId": "88a5af58-bda8-4243-d0a5-ca359b23326c"
      },
      "outputs": [
        {
          "output_type": "execute_result",
          "data": {
            "text/plain": [
              "id                   0\n",
              "year                 0\n",
              "zip.code             0\n",
              "house.color          0\n",
              "ni.age               0\n",
              "len.at.res           0\n",
              "credit               0\n",
              "coverage.type        0\n",
              "dwelling.type        0\n",
              "premium              0\n",
              "sales.channel        0\n",
              "ni.gender            0\n",
              "ni.marital.status    0\n",
              "n.adults             0\n",
              "n.children           0\n",
              "tenure               0\n",
              "claim.ind            0\n",
              "cancel               0\n",
              "dtype: int64"
            ]
          },
          "metadata": {},
          "execution_count": 20
        }
      ],
      "source": [
        "#fill missing values of categorical variables with mode \n",
        "# When it comes to the categorical variable, it is difficult to find mean value. So, we imputed the missing values using mode \n",
        "\n",
        "mode = train_df['house.color'].mode()[0]\n",
        "train_df['house.color'].fillna(mode, inplace=True)\n",
        "\n",
        "mode = train_df['credit'].mode()[0]\n",
        "train_df['credit'].fillna(mode, inplace=True)\n",
        "\n",
        "mode = train_df['coverage.type'].mode()[0]\n",
        "train_df['coverage.type'].fillna(mode, inplace=True)\n",
        "\n",
        "mode = train_df['dwelling.type'].mode()[0]\n",
        "train_df['dwelling.type'].fillna(mode, inplace=True)\n",
        "\n",
        "mode = train_df['sales.channel'].mode()[0]\n",
        "train_df['sales.channel'].fillna(mode, inplace=True)\n",
        "\n",
        "mode = train_df['ni.gender'].mode()[0]\n",
        "train_df['ni.gender'].fillna(mode, inplace=True)\n",
        "# Check if all values are imputed and no missing values left\n",
        "train_df.isna().sum()"
      ]
    },
    {
      "cell_type": "code",
      "execution_count": 21,
      "metadata": {
        "colab": {
          "base_uri": "https://localhost:8080/",
          "height": 481
        },
        "id": "rTl30pJ8VB8S",
        "outputId": "e2451298-349d-4231-fa3e-07b291cd08a9"
      },
      "outputs": [
        {
          "output_type": "stream",
          "name": "stderr",
          "text": [
            "<ipython-input-21-b2c2af025c5c>:2: FutureWarning: The default value of numeric_only in DataFrame.corr is deprecated. In a future version, it will default to False. Select only valid columns or specify the value of numeric_only to silence this warning.\n",
            "  corr = train_df.corr(method='spearman')\n"
          ]
        },
        {
          "output_type": "execute_result",
          "data": {
            "text/plain": [
              "<pandas.io.formats.style.Styler at 0x7f5543f3fe50>"
            ],
            "text/html": [
              "<style type=\"text/css\">\n",
              "#T_ca0ab_row0_col0, #T_ca0ab_row1_col1, #T_ca0ab_row2_col2, #T_ca0ab_row3_col3, #T_ca0ab_row4_col4, #T_ca0ab_row5_col5, #T_ca0ab_row6_col6, #T_ca0ab_row7_col7, #T_ca0ab_row8_col8, #T_ca0ab_row9_col9, #T_ca0ab_row10_col10, #T_ca0ab_row11_col11 {\n",
              "  background-color: #b40426;\n",
              "  color: #f1f1f1;\n",
              "}\n",
              "#T_ca0ab_row0_col1, #T_ca0ab_row0_col5, #T_ca0ab_row1_col5, #T_ca0ab_row4_col5 {\n",
              "  background-color: #4358cb;\n",
              "  color: #f1f1f1;\n",
              "}\n",
              "#T_ca0ab_row0_col2, #T_ca0ab_row0_col7, #T_ca0ab_row0_col8, #T_ca0ab_row0_col10, #T_ca0ab_row1_col2, #T_ca0ab_row1_col7, #T_ca0ab_row1_col8, #T_ca0ab_row1_col10, #T_ca0ab_row2_col0, #T_ca0ab_row2_col7, #T_ca0ab_row2_col8, #T_ca0ab_row2_col10, #T_ca0ab_row3_col0, #T_ca0ab_row3_col2, #T_ca0ab_row3_col7, #T_ca0ab_row3_col10, #T_ca0ab_row3_col11, #T_ca0ab_row4_col0, #T_ca0ab_row4_col2, #T_ca0ab_row4_col7, #T_ca0ab_row4_col8, #T_ca0ab_row4_col10, #T_ca0ab_row5_col0, #T_ca0ab_row5_col2, #T_ca0ab_row5_col7, #T_ca0ab_row5_col8, #T_ca0ab_row5_col10, #T_ca0ab_row6_col0, #T_ca0ab_row6_col2, #T_ca0ab_row6_col7, #T_ca0ab_row6_col10, #T_ca0ab_row7_col0, #T_ca0ab_row7_col2, #T_ca0ab_row7_col8, #T_ca0ab_row7_col10, #T_ca0ab_row8_col0, #T_ca0ab_row8_col2, #T_ca0ab_row8_col7, #T_ca0ab_row8_col10, #T_ca0ab_row9_col0, #T_ca0ab_row9_col2, #T_ca0ab_row9_col7, #T_ca0ab_row9_col10, #T_ca0ab_row10_col0, #T_ca0ab_row10_col2, #T_ca0ab_row10_col7, #T_ca0ab_row10_col8, #T_ca0ab_row11_col0, #T_ca0ab_row11_col1, #T_ca0ab_row11_col3, #T_ca0ab_row11_col4, #T_ca0ab_row11_col5, #T_ca0ab_row11_col6, #T_ca0ab_row11_col9 {\n",
              "  background-color: #3b4cc0;\n",
              "  color: #f1f1f1;\n",
              "}\n",
              "#T_ca0ab_row0_col3, #T_ca0ab_row0_col11, #T_ca0ab_row4_col3, #T_ca0ab_row5_col3, #T_ca0ab_row10_col3 {\n",
              "  background-color: #5875e1;\n",
              "  color: #f1f1f1;\n",
              "}\n",
              "#T_ca0ab_row0_col4, #T_ca0ab_row1_col4, #T_ca0ab_row2_col4, #T_ca0ab_row6_col4, #T_ca0ab_row7_col4, #T_ca0ab_row8_col4, #T_ca0ab_row9_col4, #T_ca0ab_row10_col4 {\n",
              "  background-color: #455cce;\n",
              "  color: #f1f1f1;\n",
              "}\n",
              "#T_ca0ab_row0_col6, #T_ca0ab_row0_col9, #T_ca0ab_row1_col6, #T_ca0ab_row2_col1, #T_ca0ab_row2_col5, #T_ca0ab_row2_col6, #T_ca0ab_row3_col5, #T_ca0ab_row4_col6, #T_ca0ab_row4_col9, #T_ca0ab_row5_col1, #T_ca0ab_row5_col6, #T_ca0ab_row5_col9, #T_ca0ab_row6_col1, #T_ca0ab_row6_col5, #T_ca0ab_row7_col5, #T_ca0ab_row7_col6, #T_ca0ab_row8_col1, #T_ca0ab_row8_col5, #T_ca0ab_row9_col5, #T_ca0ab_row10_col1, #T_ca0ab_row10_col5, #T_ca0ab_row10_col6, #T_ca0ab_row10_col9 {\n",
              "  background-color: #4257c9;\n",
              "  color: #f1f1f1;\n",
              "}\n",
              "#T_ca0ab_row1_col0 {\n",
              "  background-color: #3c4ec2;\n",
              "  color: #f1f1f1;\n",
              "}\n",
              "#T_ca0ab_row1_col3, #T_ca0ab_row2_col3, #T_ca0ab_row7_col3 {\n",
              "  background-color: #5673e0;\n",
              "  color: #f1f1f1;\n",
              "}\n",
              "#T_ca0ab_row1_col9, #T_ca0ab_row2_col9, #T_ca0ab_row3_col1, #T_ca0ab_row4_col1, #T_ca0ab_row7_col1, #T_ca0ab_row7_col9, #T_ca0ab_row9_col1 {\n",
              "  background-color: #4055c8;\n",
              "  color: #f1f1f1;\n",
              "}\n",
              "#T_ca0ab_row1_col11, #T_ca0ab_row6_col11, #T_ca0ab_row8_col9, #T_ca0ab_row9_col11, #T_ca0ab_row11_col10 {\n",
              "  background-color: #506bda;\n",
              "  color: #f1f1f1;\n",
              "}\n",
              "#T_ca0ab_row2_col11 {\n",
              "  background-color: #6180e9;\n",
              "  color: #f1f1f1;\n",
              "}\n",
              "#T_ca0ab_row3_col4, #T_ca0ab_row5_col4, #T_ca0ab_row11_col7 {\n",
              "  background-color: #465ecf;\n",
              "  color: #f1f1f1;\n",
              "}\n",
              "#T_ca0ab_row3_col6 {\n",
              "  background-color: #5572df;\n",
              "  color: #f1f1f1;\n",
              "}\n",
              "#T_ca0ab_row3_col8 {\n",
              "  background-color: #5470de;\n",
              "  color: #f1f1f1;\n",
              "}\n",
              "#T_ca0ab_row3_col9 {\n",
              "  background-color: #f6bea4;\n",
              "  color: #000000;\n",
              "}\n",
              "#T_ca0ab_row4_col11, #T_ca0ab_row6_col9, #T_ca0ab_row9_col6 {\n",
              "  background-color: #4c66d6;\n",
              "  color: #f1f1f1;\n",
              "}\n",
              "#T_ca0ab_row5_col11 {\n",
              "  background-color: #4f69d9;\n",
              "  color: #f1f1f1;\n",
              "}\n",
              "#T_ca0ab_row6_col3, #T_ca0ab_row8_col11 {\n",
              "  background-color: #6a8bef;\n",
              "  color: #f1f1f1;\n",
              "}\n",
              "#T_ca0ab_row6_col8 {\n",
              "  background-color: #e0dbd8;\n",
              "  color: #000000;\n",
              "}\n",
              "#T_ca0ab_row7_col11 {\n",
              "  background-color: #6384eb;\n",
              "  color: #f1f1f1;\n",
              "}\n",
              "#T_ca0ab_row8_col3 {\n",
              "  background-color: #7093f3;\n",
              "  color: #f1f1f1;\n",
              "}\n",
              "#T_ca0ab_row8_col6 {\n",
              "  background-color: #e3d9d3;\n",
              "  color: #000000;\n",
              "}\n",
              "#T_ca0ab_row9_col3 {\n",
              "  background-color: #f7b79b;\n",
              "  color: #000000;\n",
              "}\n",
              "#T_ca0ab_row9_col8 {\n",
              "  background-color: #4a63d3;\n",
              "  color: #f1f1f1;\n",
              "}\n",
              "#T_ca0ab_row10_col11 {\n",
              "  background-color: #6c8ff1;\n",
              "  color: #f1f1f1;\n",
              "}\n",
              "#T_ca0ab_row11_col2 {\n",
              "  background-color: #445acc;\n",
              "  color: #f1f1f1;\n",
              "}\n",
              "#T_ca0ab_row11_col8 {\n",
              "  background-color: #4e68d8;\n",
              "  color: #f1f1f1;\n",
              "}\n",
              "</style>\n",
              "<table id=\"T_ca0ab\" class=\"dataframe\">\n",
              "  <thead>\n",
              "    <tr>\n",
              "      <th class=\"blank level0\" >&nbsp;</th>\n",
              "      <th id=\"T_ca0ab_level0_col0\" class=\"col_heading level0 col0\" >id</th>\n",
              "      <th id=\"T_ca0ab_level0_col1\" class=\"col_heading level0 col1\" >year</th>\n",
              "      <th id=\"T_ca0ab_level0_col2\" class=\"col_heading level0 col2\" >zip.code</th>\n",
              "      <th id=\"T_ca0ab_level0_col3\" class=\"col_heading level0 col3\" >ni.age</th>\n",
              "      <th id=\"T_ca0ab_level0_col4\" class=\"col_heading level0 col4\" >len.at.res</th>\n",
              "      <th id=\"T_ca0ab_level0_col5\" class=\"col_heading level0 col5\" >premium</th>\n",
              "      <th id=\"T_ca0ab_level0_col6\" class=\"col_heading level0 col6\" >ni.marital.status</th>\n",
              "      <th id=\"T_ca0ab_level0_col7\" class=\"col_heading level0 col7\" >n.adults</th>\n",
              "      <th id=\"T_ca0ab_level0_col8\" class=\"col_heading level0 col8\" >n.children</th>\n",
              "      <th id=\"T_ca0ab_level0_col9\" class=\"col_heading level0 col9\" >tenure</th>\n",
              "      <th id=\"T_ca0ab_level0_col10\" class=\"col_heading level0 col10\" >claim.ind</th>\n",
              "      <th id=\"T_ca0ab_level0_col11\" class=\"col_heading level0 col11\" >cancel</th>\n",
              "    </tr>\n",
              "  </thead>\n",
              "  <tbody>\n",
              "    <tr>\n",
              "      <th id=\"T_ca0ab_level0_row0\" class=\"row_heading level0 row0\" >id</th>\n",
              "      <td id=\"T_ca0ab_row0_col0\" class=\"data row0 col0\" >1.000000</td>\n",
              "      <td id=\"T_ca0ab_row0_col1\" class=\"data row0 col1\" >0.005083</td>\n",
              "      <td id=\"T_ca0ab_row0_col2\" class=\"data row0 col2\" >0.000720</td>\n",
              "      <td id=\"T_ca0ab_row0_col3\" class=\"data row0 col3\" >0.000173</td>\n",
              "      <td id=\"T_ca0ab_row0_col4\" class=\"data row0 col4\" >-0.001085</td>\n",
              "      <td id=\"T_ca0ab_row0_col5\" class=\"data row0 col5\" >0.001375</td>\n",
              "      <td id=\"T_ca0ab_row0_col6\" class=\"data row0 col6\" >0.000673</td>\n",
              "      <td id=\"T_ca0ab_row0_col7\" class=\"data row0 col7\" >0.001107</td>\n",
              "      <td id=\"T_ca0ab_row0_col8\" class=\"data row0 col8\" >0.002615</td>\n",
              "      <td id=\"T_ca0ab_row0_col9\" class=\"data row0 col9\" >0.000608</td>\n",
              "      <td id=\"T_ca0ab_row0_col10\" class=\"data row0 col10\" >0.001265</td>\n",
              "      <td id=\"T_ca0ab_row0_col11\" class=\"data row0 col11\" >0.000919</td>\n",
              "    </tr>\n",
              "    <tr>\n",
              "      <th id=\"T_ca0ab_level0_row1\" class=\"row_heading level0 row1\" >year</th>\n",
              "      <td id=\"T_ca0ab_row1_col0\" class=\"data row1 col0\" >0.005083</td>\n",
              "      <td id=\"T_ca0ab_row1_col1\" class=\"data row1 col1\" >1.000000</td>\n",
              "      <td id=\"T_ca0ab_row1_col2\" class=\"data row1 col2\" >0.000915</td>\n",
              "      <td id=\"T_ca0ab_row1_col3\" class=\"data row1 col3\" >-0.001393</td>\n",
              "      <td id=\"T_ca0ab_row1_col4\" class=\"data row1 col4\" >-0.000747</td>\n",
              "      <td id=\"T_ca0ab_row1_col5\" class=\"data row1 col5\" >0.000424</td>\n",
              "      <td id=\"T_ca0ab_row1_col6\" class=\"data row1 col6\" >0.001035</td>\n",
              "      <td id=\"T_ca0ab_row1_col7\" class=\"data row1 col7\" >-0.001189</td>\n",
              "      <td id=\"T_ca0ab_row1_col8\" class=\"data row1 col8\" >0.000484</td>\n",
              "      <td id=\"T_ca0ab_row1_col9\" class=\"data row1 col9\" >-0.002405</td>\n",
              "      <td id=\"T_ca0ab_row1_col10\" class=\"data row1 col10\" >0.000544</td>\n",
              "      <td id=\"T_ca0ab_row1_col11\" class=\"data row1 col11\" >-0.024226</td>\n",
              "    </tr>\n",
              "    <tr>\n",
              "      <th id=\"T_ca0ab_level0_row2\" class=\"row_heading level0 row2\" >zip.code</th>\n",
              "      <td id=\"T_ca0ab_row2_col0\" class=\"data row2 col0\" >0.000720</td>\n",
              "      <td id=\"T_ca0ab_row2_col1\" class=\"data row2 col1\" >0.000915</td>\n",
              "      <td id=\"T_ca0ab_row2_col2\" class=\"data row2 col2\" >1.000000</td>\n",
              "      <td id=\"T_ca0ab_row2_col3\" class=\"data row2 col3\" >-0.001541</td>\n",
              "      <td id=\"T_ca0ab_row2_col4\" class=\"data row2 col4\" >-0.000617</td>\n",
              "      <td id=\"T_ca0ab_row2_col5\" class=\"data row2 col5\" >0.000235</td>\n",
              "      <td id=\"T_ca0ab_row2_col6\" class=\"data row2 col6\" >0.000276</td>\n",
              "      <td id=\"T_ca0ab_row2_col7\" class=\"data row2 col7\" >0.000864</td>\n",
              "      <td id=\"T_ca0ab_row2_col8\" class=\"data row2 col8\" >0.000390</td>\n",
              "      <td id=\"T_ca0ab_row2_col9\" class=\"data row2 col9\" >-0.001407</td>\n",
              "      <td id=\"T_ca0ab_row2_col10\" class=\"data row2 col10\" >-0.001149</td>\n",
              "      <td id=\"T_ca0ab_row2_col11\" class=\"data row2 col11\" >0.030515</td>\n",
              "    </tr>\n",
              "    <tr>\n",
              "      <th id=\"T_ca0ab_level0_row3\" class=\"row_heading level0 row3\" >ni.age</th>\n",
              "      <td id=\"T_ca0ab_row3_col0\" class=\"data row3 col0\" >0.000173</td>\n",
              "      <td id=\"T_ca0ab_row3_col1\" class=\"data row3 col1\" >-0.001393</td>\n",
              "      <td id=\"T_ca0ab_row3_col2\" class=\"data row3 col2\" >-0.001541</td>\n",
              "      <td id=\"T_ca0ab_row3_col3\" class=\"data row3 col3\" >1.000000</td>\n",
              "      <td id=\"T_ca0ab_row3_col4\" class=\"data row3 col4\" >0.001308</td>\n",
              "      <td id=\"T_ca0ab_row3_col5\" class=\"data row3 col5\" >-0.000560</td>\n",
              "      <td id=\"T_ca0ab_row3_col6\" class=\"data row3 col6\" >0.062853</td>\n",
              "      <td id=\"T_ca0ab_row3_col7\" class=\"data row3 col7\" >-0.001762</td>\n",
              "      <td id=\"T_ca0ab_row3_col8\" class=\"data row3 col8\" >0.084787</td>\n",
              "      <td id=\"T_ca0ab_row3_col9\" class=\"data row3 col9\" >0.636953</td>\n",
              "      <td id=\"T_ca0ab_row3_col10\" class=\"data row3 col10\" >0.002048</td>\n",
              "      <td id=\"T_ca0ab_row3_col11\" class=\"data row3 col11\" >-0.104760</td>\n",
              "    </tr>\n",
              "    <tr>\n",
              "      <th id=\"T_ca0ab_level0_row4\" class=\"row_heading level0 row4\" >len.at.res</th>\n",
              "      <td id=\"T_ca0ab_row4_col0\" class=\"data row4 col0\" >-0.001085</td>\n",
              "      <td id=\"T_ca0ab_row4_col1\" class=\"data row4 col1\" >-0.000747</td>\n",
              "      <td id=\"T_ca0ab_row4_col2\" class=\"data row4 col2\" >-0.000617</td>\n",
              "      <td id=\"T_ca0ab_row4_col3\" class=\"data row4 col3\" >0.001308</td>\n",
              "      <td id=\"T_ca0ab_row4_col4\" class=\"data row4 col4\" >1.000000</td>\n",
              "      <td id=\"T_ca0ab_row4_col5\" class=\"data row4 col5\" >0.001465</td>\n",
              "      <td id=\"T_ca0ab_row4_col6\" class=\"data row4 col6\" >-0.000818</td>\n",
              "      <td id=\"T_ca0ab_row4_col7\" class=\"data row4 col7\" >-0.000528</td>\n",
              "      <td id=\"T_ca0ab_row4_col8\" class=\"data row4 col8\" >-0.001257</td>\n",
              "      <td id=\"T_ca0ab_row4_col9\" class=\"data row4 col9\" >-0.000633</td>\n",
              "      <td id=\"T_ca0ab_row4_col10\" class=\"data row4 col10\" >0.000689</td>\n",
              "      <td id=\"T_ca0ab_row4_col11\" class=\"data row4 col11\" >-0.039444</td>\n",
              "    </tr>\n",
              "    <tr>\n",
              "      <th id=\"T_ca0ab_level0_row5\" class=\"row_heading level0 row5\" >premium</th>\n",
              "      <td id=\"T_ca0ab_row5_col0\" class=\"data row5 col0\" >0.001375</td>\n",
              "      <td id=\"T_ca0ab_row5_col1\" class=\"data row5 col1\" >0.000424</td>\n",
              "      <td id=\"T_ca0ab_row5_col2\" class=\"data row5 col2\" >0.000235</td>\n",
              "      <td id=\"T_ca0ab_row5_col3\" class=\"data row5 col3\" >-0.000560</td>\n",
              "      <td id=\"T_ca0ab_row5_col4\" class=\"data row5 col4\" >0.001465</td>\n",
              "      <td id=\"T_ca0ab_row5_col5\" class=\"data row5 col5\" >1.000000</td>\n",
              "      <td id=\"T_ca0ab_row5_col6\" class=\"data row5 col6\" >-0.000706</td>\n",
              "      <td id=\"T_ca0ab_row5_col7\" class=\"data row5 col7\" >-0.000942</td>\n",
              "      <td id=\"T_ca0ab_row5_col8\" class=\"data row5 col8\" >-0.001189</td>\n",
              "      <td id=\"T_ca0ab_row5_col9\" class=\"data row5 col9\" >-0.001194</td>\n",
              "      <td id=\"T_ca0ab_row5_col10\" class=\"data row5 col10\" >-0.000834</td>\n",
              "      <td id=\"T_ca0ab_row5_col11\" class=\"data row5 col11\" >-0.027730</td>\n",
              "    </tr>\n",
              "    <tr>\n",
              "      <th id=\"T_ca0ab_level0_row6\" class=\"row_heading level0 row6\" >ni.marital.status</th>\n",
              "      <td id=\"T_ca0ab_row6_col0\" class=\"data row6 col0\" >0.000673</td>\n",
              "      <td id=\"T_ca0ab_row6_col1\" class=\"data row6 col1\" >0.001035</td>\n",
              "      <td id=\"T_ca0ab_row6_col2\" class=\"data row6 col2\" >0.000276</td>\n",
              "      <td id=\"T_ca0ab_row6_col3\" class=\"data row6 col3\" >0.062853</td>\n",
              "      <td id=\"T_ca0ab_row6_col4\" class=\"data row6 col4\" >-0.000818</td>\n",
              "      <td id=\"T_ca0ab_row6_col5\" class=\"data row6 col5\" >-0.000706</td>\n",
              "      <td id=\"T_ca0ab_row6_col6\" class=\"data row6 col6\" >1.000000</td>\n",
              "      <td id=\"T_ca0ab_row6_col7\" class=\"data row6 col7\" >0.000557</td>\n",
              "      <td id=\"T_ca0ab_row6_col8\" class=\"data row6 col8\" >0.514076</td>\n",
              "      <td id=\"T_ca0ab_row6_col9\" class=\"data row6 col9\" >0.037446</td>\n",
              "      <td id=\"T_ca0ab_row6_col10\" class=\"data row6 col10\" >-0.001004</td>\n",
              "      <td id=\"T_ca0ab_row6_col11\" class=\"data row6 col11\" >-0.026360</td>\n",
              "    </tr>\n",
              "    <tr>\n",
              "      <th id=\"T_ca0ab_level0_row7\" class=\"row_heading level0 row7\" >n.adults</th>\n",
              "      <td id=\"T_ca0ab_row7_col0\" class=\"data row7 col0\" >0.001107</td>\n",
              "      <td id=\"T_ca0ab_row7_col1\" class=\"data row7 col1\" >-0.001189</td>\n",
              "      <td id=\"T_ca0ab_row7_col2\" class=\"data row7 col2\" >0.000864</td>\n",
              "      <td id=\"T_ca0ab_row7_col3\" class=\"data row7 col3\" >-0.001762</td>\n",
              "      <td id=\"T_ca0ab_row7_col4\" class=\"data row7 col4\" >-0.000528</td>\n",
              "      <td id=\"T_ca0ab_row7_col5\" class=\"data row7 col5\" >-0.000942</td>\n",
              "      <td id=\"T_ca0ab_row7_col6\" class=\"data row7 col6\" >0.000557</td>\n",
              "      <td id=\"T_ca0ab_row7_col7\" class=\"data row7 col7\" >1.000000</td>\n",
              "      <td id=\"T_ca0ab_row7_col8\" class=\"data row7 col8\" >-0.000785</td>\n",
              "      <td id=\"T_ca0ab_row7_col9\" class=\"data row7 col9\" >-0.001448</td>\n",
              "      <td id=\"T_ca0ab_row7_col10\" class=\"data row7 col10\" >-0.000487</td>\n",
              "      <td id=\"T_ca0ab_row7_col11\" class=\"data row7 col11\" >0.039490</td>\n",
              "    </tr>\n",
              "    <tr>\n",
              "      <th id=\"T_ca0ab_level0_row8\" class=\"row_heading level0 row8\" >n.children</th>\n",
              "      <td id=\"T_ca0ab_row8_col0\" class=\"data row8 col0\" >0.002615</td>\n",
              "      <td id=\"T_ca0ab_row8_col1\" class=\"data row8 col1\" >0.000484</td>\n",
              "      <td id=\"T_ca0ab_row8_col2\" class=\"data row8 col2\" >0.000390</td>\n",
              "      <td id=\"T_ca0ab_row8_col3\" class=\"data row8 col3\" >0.084787</td>\n",
              "      <td id=\"T_ca0ab_row8_col4\" class=\"data row8 col4\" >-0.001257</td>\n",
              "      <td id=\"T_ca0ab_row8_col5\" class=\"data row8 col5\" >-0.001189</td>\n",
              "      <td id=\"T_ca0ab_row8_col6\" class=\"data row8 col6\" >0.514076</td>\n",
              "      <td id=\"T_ca0ab_row8_col7\" class=\"data row8 col7\" >-0.000785</td>\n",
              "      <td id=\"T_ca0ab_row8_col8\" class=\"data row8 col8\" >1.000000</td>\n",
              "      <td id=\"T_ca0ab_row8_col9\" class=\"data row8 col9\" >0.050359</td>\n",
              "      <td id=\"T_ca0ab_row8_col10\" class=\"data row8 col10\" >-0.000176</td>\n",
              "      <td id=\"T_ca0ab_row8_col11\" class=\"data row8 col11\" >0.062964</td>\n",
              "    </tr>\n",
              "    <tr>\n",
              "      <th id=\"T_ca0ab_level0_row9\" class=\"row_heading level0 row9\" >tenure</th>\n",
              "      <td id=\"T_ca0ab_row9_col0\" class=\"data row9 col0\" >0.000608</td>\n",
              "      <td id=\"T_ca0ab_row9_col1\" class=\"data row9 col1\" >-0.002405</td>\n",
              "      <td id=\"T_ca0ab_row9_col2\" class=\"data row9 col2\" >-0.001407</td>\n",
              "      <td id=\"T_ca0ab_row9_col3\" class=\"data row9 col3\" >0.636953</td>\n",
              "      <td id=\"T_ca0ab_row9_col4\" class=\"data row9 col4\" >-0.000633</td>\n",
              "      <td id=\"T_ca0ab_row9_col5\" class=\"data row9 col5\" >-0.001194</td>\n",
              "      <td id=\"T_ca0ab_row9_col6\" class=\"data row9 col6\" >0.037446</td>\n",
              "      <td id=\"T_ca0ab_row9_col7\" class=\"data row9 col7\" >-0.001448</td>\n",
              "      <td id=\"T_ca0ab_row9_col8\" class=\"data row9 col8\" >0.050359</td>\n",
              "      <td id=\"T_ca0ab_row9_col9\" class=\"data row9 col9\" >1.000000</td>\n",
              "      <td id=\"T_ca0ab_row9_col10\" class=\"data row9 col10\" >0.000996</td>\n",
              "      <td id=\"T_ca0ab_row9_col11\" class=\"data row9 col11\" >-0.025388</td>\n",
              "    </tr>\n",
              "    <tr>\n",
              "      <th id=\"T_ca0ab_level0_row10\" class=\"row_heading level0 row10\" >claim.ind</th>\n",
              "      <td id=\"T_ca0ab_row10_col0\" class=\"data row10 col0\" >0.001265</td>\n",
              "      <td id=\"T_ca0ab_row10_col1\" class=\"data row10 col1\" >0.000544</td>\n",
              "      <td id=\"T_ca0ab_row10_col2\" class=\"data row10 col2\" >-0.001149</td>\n",
              "      <td id=\"T_ca0ab_row10_col3\" class=\"data row10 col3\" >0.002048</td>\n",
              "      <td id=\"T_ca0ab_row10_col4\" class=\"data row10 col4\" >0.000689</td>\n",
              "      <td id=\"T_ca0ab_row10_col5\" class=\"data row10 col5\" >-0.000834</td>\n",
              "      <td id=\"T_ca0ab_row10_col6\" class=\"data row10 col6\" >-0.001004</td>\n",
              "      <td id=\"T_ca0ab_row10_col7\" class=\"data row10 col7\" >-0.000487</td>\n",
              "      <td id=\"T_ca0ab_row10_col8\" class=\"data row10 col8\" >-0.000176</td>\n",
              "      <td id=\"T_ca0ab_row10_col9\" class=\"data row10 col9\" >0.000996</td>\n",
              "      <td id=\"T_ca0ab_row10_col10\" class=\"data row10 col10\" >1.000000</td>\n",
              "      <td id=\"T_ca0ab_row10_col11\" class=\"data row10 col11\" >0.069680</td>\n",
              "    </tr>\n",
              "    <tr>\n",
              "      <th id=\"T_ca0ab_level0_row11\" class=\"row_heading level0 row11\" >cancel</th>\n",
              "      <td id=\"T_ca0ab_row11_col0\" class=\"data row11 col0\" >0.000919</td>\n",
              "      <td id=\"T_ca0ab_row11_col1\" class=\"data row11 col1\" >-0.024226</td>\n",
              "      <td id=\"T_ca0ab_row11_col2\" class=\"data row11 col2\" >0.030515</td>\n",
              "      <td id=\"T_ca0ab_row11_col3\" class=\"data row11 col3\" >-0.104760</td>\n",
              "      <td id=\"T_ca0ab_row11_col4\" class=\"data row11 col4\" >-0.039444</td>\n",
              "      <td id=\"T_ca0ab_row11_col5\" class=\"data row11 col5\" >-0.027730</td>\n",
              "      <td id=\"T_ca0ab_row11_col6\" class=\"data row11 col6\" >-0.026360</td>\n",
              "      <td id=\"T_ca0ab_row11_col7\" class=\"data row11 col7\" >0.039490</td>\n",
              "      <td id=\"T_ca0ab_row11_col8\" class=\"data row11 col8\" >0.062964</td>\n",
              "      <td id=\"T_ca0ab_row11_col9\" class=\"data row11 col9\" >-0.025388</td>\n",
              "      <td id=\"T_ca0ab_row11_col10\" class=\"data row11 col10\" >0.069680</td>\n",
              "      <td id=\"T_ca0ab_row11_col11\" class=\"data row11 col11\" >1.000000</td>\n",
              "    </tr>\n",
              "  </tbody>\n",
              "</table>\n"
            ]
          },
          "metadata": {},
          "execution_count": 21
        }
      ],
      "source": [
        "# Checked correlation among the numerical variables\n",
        "corr = train_df.corr(method='spearman')\n",
        "corr.style.background_gradient(cmap='coolwarm')"
      ]
    },
    {
      "cell_type": "markdown",
      "metadata": {
        "id": "V_Uz3kcp62RL"
      },
      "source": [
        "Our analysis indicates that 'ni.age' is most strongly correlated with the variable 'cancel', followed by 'claim.ind', 'n.children', and 'len.at.res'. Notably, 'ni.age' has a negative correlation with 'cancel', suggesting that older age is associated with fewer cancellations"
      ]
    },
    {
      "cell_type": "markdown",
      "metadata": {
        "id": "Hbzhz8O5KIkS"
      },
      "source": [
        "#### test dataset cleaning \n",
        "Identifying and imputing missing values for test variables"
      ]
    },
    {
      "cell_type": "code",
      "execution_count": 22,
      "metadata": {
        "colab": {
          "base_uri": "https://localhost:8080/"
        },
        "id": "RuyJuc_IMqGb",
        "outputId": "e25e8015-0ab4-4eb2-aeb8-bbef5dbf9133"
      },
      "outputs": [
        {
          "output_type": "execute_result",
          "data": {
            "text/plain": [
              "id                     0\n",
              "year                   0\n",
              "zip.code             313\n",
              "house.color          319\n",
              "ni.age               293\n",
              "len.at.res           295\n",
              "credit               289\n",
              "coverage.type        316\n",
              "dwelling.type        339\n",
              "premium              331\n",
              "sales.channel        324\n",
              "ni.gender            314\n",
              "ni.marital.status    345\n",
              "n.adults             323\n",
              "n.children           319\n",
              "tenure               323\n",
              "claim.ind            324\n",
              "cancel                 0\n",
              "dtype: int64"
            ]
          },
          "metadata": {},
          "execution_count": 22
        }
      ],
      "source": [
        "#Check for missing values\n",
        "test_df.isna().sum()"
      ]
    },
    {
      "cell_type": "code",
      "execution_count": 23,
      "metadata": {
        "colab": {
          "base_uri": "https://localhost:8080/"
        },
        "id": "yfnW8kySPYtB",
        "outputId": "533b359a-6421-4246-accb-1d01ef46193c"
      },
      "outputs": [
        {
          "output_type": "stream",
          "name": "stderr",
          "text": [
            "<ipython-input-23-f03ce5624a50>:2: FutureWarning: The default value of numeric_only in DataFrame.mean is deprecated. In a future version, it will default to False. In addition, specifying 'numeric_only=None' is deprecated. Select only valid columns or specify the value of numeric_only to silence this warning.\n",
            "  test_df = test_df.fillna(test_df.mean())\n"
          ]
        }
      ],
      "source": [
        "#Impute the missing value with mean \n",
        "test_df = test_df.fillna(test_df.mean())"
      ]
    },
    {
      "cell_type": "code",
      "execution_count": 24,
      "metadata": {
        "colab": {
          "base_uri": "https://localhost:8080/"
        },
        "id": "5XbWbTOHMuq8",
        "outputId": "9c5442e4-b8c5-41ea-bd3d-cbf95d736be7"
      },
      "outputs": [
        {
          "output_type": "execute_result",
          "data": {
            "text/plain": [
              "id                     0\n",
              "year                   0\n",
              "zip.code               0\n",
              "house.color          319\n",
              "ni.age                 0\n",
              "len.at.res             0\n",
              "credit               289\n",
              "coverage.type        316\n",
              "dwelling.type        339\n",
              "premium                0\n",
              "sales.channel        324\n",
              "ni.gender            314\n",
              "ni.marital.status      0\n",
              "n.adults               0\n",
              "n.children             0\n",
              "tenure                 0\n",
              "claim.ind              0\n",
              "cancel                 0\n",
              "dtype: int64"
            ]
          },
          "metadata": {},
          "execution_count": 24
        }
      ],
      "source": [
        "#check for missing values\n",
        "test_df.isna().sum()"
      ]
    },
    {
      "cell_type": "code",
      "execution_count": 25,
      "metadata": {
        "colab": {
          "base_uri": "https://localhost:8080/"
        },
        "id": "7JzKGvA6Pljo",
        "outputId": "ea120278-c701-43e3-eaf2-ece60fcc340b"
      },
      "outputs": [
        {
          "output_type": "execute_result",
          "data": {
            "text/plain": [
              "id                   0\n",
              "year                 0\n",
              "zip.code             0\n",
              "house.color          0\n",
              "ni.age               0\n",
              "len.at.res           0\n",
              "credit               0\n",
              "coverage.type        0\n",
              "dwelling.type        0\n",
              "premium              0\n",
              "sales.channel        0\n",
              "ni.gender            0\n",
              "ni.marital.status    0\n",
              "n.adults             0\n",
              "n.children           0\n",
              "tenure               0\n",
              "claim.ind            0\n",
              "cancel               0\n",
              "dtype: int64"
            ]
          },
          "metadata": {},
          "execution_count": 25
        }
      ],
      "source": [
        "#fill other values with mode \n",
        "mode = test_df['house.color'].mode()[0]\n",
        "test_df['house.color'].fillna(mode, inplace=True)\n",
        "\n",
        "mode = test_df['credit'].mode()[0]\n",
        "test_df['credit'].fillna(mode, inplace=True)\n",
        "\n",
        "mode = test_df['coverage.type'].mode()[0]\n",
        "test_df['coverage.type'].fillna(mode, inplace=True)\n",
        "\n",
        "mode = test_df['dwelling.type'].mode()[0]\n",
        "test_df['dwelling.type'].fillna(mode, inplace=True)\n",
        "\n",
        "mode = test_df['sales.channel'].mode()[0]\n",
        "test_df['sales.channel'].fillna(mode, inplace=True)\n",
        "\n",
        "mode = test_df['ni.gender'].mode()[0]\n",
        "test_df['ni.gender'].fillna(mode, inplace=True)\n",
        "#Check if all variables are imputed prperly\n",
        "test_df.isna().sum()"
      ]
    },
    {
      "cell_type": "code",
      "execution_count": 26,
      "metadata": {
        "colab": {
          "base_uri": "https://localhost:8080/",
          "height": 288
        },
        "id": "oPPYJ82w4VGS",
        "outputId": "ddf743f9-8abb-4c81-bbd4-3c2512c970c7"
      },
      "outputs": [
        {
          "output_type": "stream",
          "name": "stdout",
          "text": [
            "(700232, 18)\n"
          ]
        },
        {
          "output_type": "execute_result",
          "data": {
            "text/plain": [
              "       id  year  zip.code house.color  ni.age  len.at.res  credit  \\\n",
              "0  942391  2013   15056.0      yellow    55.0        15.0    high   \n",
              "1    2792  2014   80014.0         red    60.0        17.0  medium   \n",
              "2  282556  2014   85002.0       white    48.0        15.0    high   \n",
              "3  738330  2014   85051.0         red    57.0        15.0    high   \n",
              "4  243724  2013   85077.0       white    42.0        16.0    high   \n",
              "\n",
              "  coverage.type dwelling.type     premium sales.channel ni.gender  \\\n",
              "0             A         House  935.554116         Phone         F   \n",
              "1             A         House  835.804218         Phone         F   \n",
              "2             A         Condo  958.488416        Broker         M   \n",
              "3             A         House  963.496010         Phone         F   \n",
              "4             B         House  803.088375        Broker         F   \n",
              "\n",
              "   ni.marital.status  n.adults  n.children  tenure  claim.ind  cancel  \n",
              "0                1.0       1.0         1.0    14.0        0.0       0  \n",
              "1                1.0       1.0         1.0    17.0        0.0       0  \n",
              "2                1.0       1.0         0.0    11.0        1.0       0  \n",
              "3                1.0       2.0         1.0    19.0        0.0       0  \n",
              "4                1.0       2.0         2.0    12.0        0.0       0  "
            ],
            "text/html": [
              "\n",
              "  <div id=\"df-44c4a40c-54d7-48a2-991e-7fcdc8d48199\">\n",
              "    <div class=\"colab-df-container\">\n",
              "      <div>\n",
              "<style scoped>\n",
              "    .dataframe tbody tr th:only-of-type {\n",
              "        vertical-align: middle;\n",
              "    }\n",
              "\n",
              "    .dataframe tbody tr th {\n",
              "        vertical-align: top;\n",
              "    }\n",
              "\n",
              "    .dataframe thead th {\n",
              "        text-align: right;\n",
              "    }\n",
              "</style>\n",
              "<table border=\"1\" class=\"dataframe\">\n",
              "  <thead>\n",
              "    <tr style=\"text-align: right;\">\n",
              "      <th></th>\n",
              "      <th>id</th>\n",
              "      <th>year</th>\n",
              "      <th>zip.code</th>\n",
              "      <th>house.color</th>\n",
              "      <th>ni.age</th>\n",
              "      <th>len.at.res</th>\n",
              "      <th>credit</th>\n",
              "      <th>coverage.type</th>\n",
              "      <th>dwelling.type</th>\n",
              "      <th>premium</th>\n",
              "      <th>sales.channel</th>\n",
              "      <th>ni.gender</th>\n",
              "      <th>ni.marital.status</th>\n",
              "      <th>n.adults</th>\n",
              "      <th>n.children</th>\n",
              "      <th>tenure</th>\n",
              "      <th>claim.ind</th>\n",
              "      <th>cancel</th>\n",
              "    </tr>\n",
              "  </thead>\n",
              "  <tbody>\n",
              "    <tr>\n",
              "      <th>0</th>\n",
              "      <td>942391</td>\n",
              "      <td>2013</td>\n",
              "      <td>15056.0</td>\n",
              "      <td>yellow</td>\n",
              "      <td>55.0</td>\n",
              "      <td>15.0</td>\n",
              "      <td>high</td>\n",
              "      <td>A</td>\n",
              "      <td>House</td>\n",
              "      <td>935.554116</td>\n",
              "      <td>Phone</td>\n",
              "      <td>F</td>\n",
              "      <td>1.0</td>\n",
              "      <td>1.0</td>\n",
              "      <td>1.0</td>\n",
              "      <td>14.0</td>\n",
              "      <td>0.0</td>\n",
              "      <td>0</td>\n",
              "    </tr>\n",
              "    <tr>\n",
              "      <th>1</th>\n",
              "      <td>2792</td>\n",
              "      <td>2014</td>\n",
              "      <td>80014.0</td>\n",
              "      <td>red</td>\n",
              "      <td>60.0</td>\n",
              "      <td>17.0</td>\n",
              "      <td>medium</td>\n",
              "      <td>A</td>\n",
              "      <td>House</td>\n",
              "      <td>835.804218</td>\n",
              "      <td>Phone</td>\n",
              "      <td>F</td>\n",
              "      <td>1.0</td>\n",
              "      <td>1.0</td>\n",
              "      <td>1.0</td>\n",
              "      <td>17.0</td>\n",
              "      <td>0.0</td>\n",
              "      <td>0</td>\n",
              "    </tr>\n",
              "    <tr>\n",
              "      <th>2</th>\n",
              "      <td>282556</td>\n",
              "      <td>2014</td>\n",
              "      <td>85002.0</td>\n",
              "      <td>white</td>\n",
              "      <td>48.0</td>\n",
              "      <td>15.0</td>\n",
              "      <td>high</td>\n",
              "      <td>A</td>\n",
              "      <td>Condo</td>\n",
              "      <td>958.488416</td>\n",
              "      <td>Broker</td>\n",
              "      <td>M</td>\n",
              "      <td>1.0</td>\n",
              "      <td>1.0</td>\n",
              "      <td>0.0</td>\n",
              "      <td>11.0</td>\n",
              "      <td>1.0</td>\n",
              "      <td>0</td>\n",
              "    </tr>\n",
              "    <tr>\n",
              "      <th>3</th>\n",
              "      <td>738330</td>\n",
              "      <td>2014</td>\n",
              "      <td>85051.0</td>\n",
              "      <td>red</td>\n",
              "      <td>57.0</td>\n",
              "      <td>15.0</td>\n",
              "      <td>high</td>\n",
              "      <td>A</td>\n",
              "      <td>House</td>\n",
              "      <td>963.496010</td>\n",
              "      <td>Phone</td>\n",
              "      <td>F</td>\n",
              "      <td>1.0</td>\n",
              "      <td>2.0</td>\n",
              "      <td>1.0</td>\n",
              "      <td>19.0</td>\n",
              "      <td>0.0</td>\n",
              "      <td>0</td>\n",
              "    </tr>\n",
              "    <tr>\n",
              "      <th>4</th>\n",
              "      <td>243724</td>\n",
              "      <td>2013</td>\n",
              "      <td>85077.0</td>\n",
              "      <td>white</td>\n",
              "      <td>42.0</td>\n",
              "      <td>16.0</td>\n",
              "      <td>high</td>\n",
              "      <td>B</td>\n",
              "      <td>House</td>\n",
              "      <td>803.088375</td>\n",
              "      <td>Broker</td>\n",
              "      <td>F</td>\n",
              "      <td>1.0</td>\n",
              "      <td>2.0</td>\n",
              "      <td>2.0</td>\n",
              "      <td>12.0</td>\n",
              "      <td>0.0</td>\n",
              "      <td>0</td>\n",
              "    </tr>\n",
              "  </tbody>\n",
              "</table>\n",
              "</div>\n",
              "      <button class=\"colab-df-convert\" onclick=\"convertToInteractive('df-44c4a40c-54d7-48a2-991e-7fcdc8d48199')\"\n",
              "              title=\"Convert this dataframe to an interactive table.\"\n",
              "              style=\"display:none;\">\n",
              "        \n",
              "  <svg xmlns=\"http://www.w3.org/2000/svg\" height=\"24px\"viewBox=\"0 0 24 24\"\n",
              "       width=\"24px\">\n",
              "    <path d=\"M0 0h24v24H0V0z\" fill=\"none\"/>\n",
              "    <path d=\"M18.56 5.44l.94 2.06.94-2.06 2.06-.94-2.06-.94-.94-2.06-.94 2.06-2.06.94zm-11 1L8.5 8.5l.94-2.06 2.06-.94-2.06-.94L8.5 2.5l-.94 2.06-2.06.94zm10 10l.94 2.06.94-2.06 2.06-.94-2.06-.94-.94-2.06-.94 2.06-2.06.94z\"/><path d=\"M17.41 7.96l-1.37-1.37c-.4-.4-.92-.59-1.43-.59-.52 0-1.04.2-1.43.59L10.3 9.45l-7.72 7.72c-.78.78-.78 2.05 0 2.83L4 21.41c.39.39.9.59 1.41.59.51 0 1.02-.2 1.41-.59l7.78-7.78 2.81-2.81c.8-.78.8-2.07 0-2.86zM5.41 20L4 18.59l7.72-7.72 1.47 1.35L5.41 20z\"/>\n",
              "  </svg>\n",
              "      </button>\n",
              "      \n",
              "  <style>\n",
              "    .colab-df-container {\n",
              "      display:flex;\n",
              "      flex-wrap:wrap;\n",
              "      gap: 12px;\n",
              "    }\n",
              "\n",
              "    .colab-df-convert {\n",
              "      background-color: #E8F0FE;\n",
              "      border: none;\n",
              "      border-radius: 50%;\n",
              "      cursor: pointer;\n",
              "      display: none;\n",
              "      fill: #1967D2;\n",
              "      height: 32px;\n",
              "      padding: 0 0 0 0;\n",
              "      width: 32px;\n",
              "    }\n",
              "\n",
              "    .colab-df-convert:hover {\n",
              "      background-color: #E2EBFA;\n",
              "      box-shadow: 0px 1px 2px rgba(60, 64, 67, 0.3), 0px 1px 3px 1px rgba(60, 64, 67, 0.15);\n",
              "      fill: #174EA6;\n",
              "    }\n",
              "\n",
              "    [theme=dark] .colab-df-convert {\n",
              "      background-color: #3B4455;\n",
              "      fill: #D2E3FC;\n",
              "    }\n",
              "\n",
              "    [theme=dark] .colab-df-convert:hover {\n",
              "      background-color: #434B5C;\n",
              "      box-shadow: 0px 1px 3px 1px rgba(0, 0, 0, 0.15);\n",
              "      filter: drop-shadow(0px 1px 2px rgba(0, 0, 0, 0.3));\n",
              "      fill: #FFFFFF;\n",
              "    }\n",
              "  </style>\n",
              "\n",
              "      <script>\n",
              "        const buttonEl =\n",
              "          document.querySelector('#df-44c4a40c-54d7-48a2-991e-7fcdc8d48199 button.colab-df-convert');\n",
              "        buttonEl.style.display =\n",
              "          google.colab.kernel.accessAllowed ? 'block' : 'none';\n",
              "\n",
              "        async function convertToInteractive(key) {\n",
              "          const element = document.querySelector('#df-44c4a40c-54d7-48a2-991e-7fcdc8d48199');\n",
              "          const dataTable =\n",
              "            await google.colab.kernel.invokeFunction('convertToInteractive',\n",
              "                                                     [key], {});\n",
              "          if (!dataTable) return;\n",
              "\n",
              "          const docLinkHtml = 'Like what you see? Visit the ' +\n",
              "            '<a target=\"_blank\" href=https://colab.research.google.com/notebooks/data_table.ipynb>data table notebook</a>'\n",
              "            + ' to learn more about interactive tables.';\n",
              "          element.innerHTML = '';\n",
              "          dataTable['output_type'] = 'display_data';\n",
              "          await google.colab.output.renderOutput(dataTable, element);\n",
              "          const docLink = document.createElement('div');\n",
              "          docLink.innerHTML = docLinkHtml;\n",
              "          element.appendChild(docLink);\n",
              "        }\n",
              "      </script>\n",
              "    </div>\n",
              "  </div>\n",
              "  "
            ]
          },
          "metadata": {},
          "execution_count": 26
        }
      ],
      "source": [
        "# Check for shape of the Training dataset\n",
        "print(train_df.shape)\n",
        "train_df.head()"
      ]
    },
    {
      "cell_type": "code",
      "execution_count": 27,
      "metadata": {
        "colab": {
          "base_uri": "https://localhost:8080/"
        },
        "id": "8CrYsngO5G9T",
        "outputId": "c4d2659d-4730-4a2e-82bd-cf80d23d1b0c"
      },
      "outputs": [
        {
          "output_type": "stream",
          "name": "stdout",
          "text": [
            "(344891, 18)\n"
          ]
        }
      ],
      "source": [
        "# Check for shape of test data\n",
        "print(test_df.shape)"
      ]
    },
    {
      "cell_type": "markdown",
      "metadata": {
        "id": "Eg1KE2g9Lgsn"
      },
      "source": [
        "#### Dropping Columns"
      ]
    },
    {
      "cell_type": "code",
      "execution_count": 28,
      "metadata": {
        "colab": {
          "base_uri": "https://localhost:8080/"
        },
        "id": "NcCaGD9JoHrT",
        "outputId": "883be79d-fcdf-4796-c590-380e391f200d"
      },
      "outputs": [
        {
          "output_type": "stream",
          "name": "stdout",
          "text": [
            "311\n"
          ]
        }
      ],
      "source": [
        "# To check if zip code can be dropped\n",
        "unique_values = train_df['zip.code'].unique()\n",
        "\n",
        "# get the number of unique values in the Series\n",
        "print(len(unique_values))"
      ]
    },
    {
      "cell_type": "code",
      "execution_count": 29,
      "metadata": {
        "colab": {
          "base_uri": "https://localhost:8080/"
        },
        "id": "w3NladqBnbx_",
        "outputId": "fc849805-91d5-4c31-c314-3588bfd94db4"
      },
      "outputs": [
        {
          "output_type": "stream",
          "name": "stdout",
          "text": [
            "<class 'pandas.core.frame.DataFrame'>\n",
            "RangeIndex: 700232 entries, 0 to 700231\n",
            "Data columns (total 16 columns):\n",
            " #   Column             Non-Null Count   Dtype  \n",
            "---  ------             --------------   -----  \n",
            " 0   year               700232 non-null  int64  \n",
            " 1   zip.code           700232 non-null  float64\n",
            " 2   ni.age             700232 non-null  float64\n",
            " 3   len.at.res         700232 non-null  float64\n",
            " 4   credit             700232 non-null  object \n",
            " 5   coverage.type      700232 non-null  object \n",
            " 6   dwelling.type      700232 non-null  object \n",
            " 7   premium            700232 non-null  float64\n",
            " 8   sales.channel      700232 non-null  object \n",
            " 9   ni.gender          700232 non-null  object \n",
            " 10  ni.marital.status  700232 non-null  float64\n",
            " 11  n.adults           700232 non-null  float64\n",
            " 12  n.children         700232 non-null  float64\n",
            " 13  tenure             700232 non-null  float64\n",
            " 14  claim.ind          700232 non-null  float64\n",
            " 15  cancel             700232 non-null  int64  \n",
            "dtypes: float64(9), int64(2), object(5)\n",
            "memory usage: 85.5+ MB\n"
          ]
        }
      ],
      "source": [
        "#Dropping columns id and house.color from Training \n",
        "train_df.drop('id', inplace=True, axis=1)\n",
        "train_df.drop('house.color', inplace=True, axis=1)\n",
        "\n",
        "# Check if columns dropped properly\n",
        "train_df.head()\n",
        "\n",
        "# Check for the dataset info\n",
        "train_df.info()"
      ]
    },
    {
      "cell_type": "code",
      "execution_count": 30,
      "metadata": {
        "colab": {
          "base_uri": "https://localhost:8080/"
        },
        "id": "0MJjrWyyLP3s",
        "outputId": "17f092f9-016f-40f5-8809-376c5b8924f2"
      },
      "outputs": [
        {
          "output_type": "stream",
          "name": "stdout",
          "text": [
            "<class 'pandas.core.frame.DataFrame'>\n",
            "RangeIndex: 344891 entries, 0 to 344890\n",
            "Data columns (total 16 columns):\n",
            " #   Column             Non-Null Count   Dtype  \n",
            "---  ------             --------------   -----  \n",
            " 0   year               344891 non-null  int64  \n",
            " 1   zip.code           344891 non-null  float64\n",
            " 2   ni.age             344891 non-null  float64\n",
            " 3   len.at.res         344891 non-null  float64\n",
            " 4   credit             344891 non-null  object \n",
            " 5   coverage.type      344891 non-null  object \n",
            " 6   dwelling.type      344891 non-null  object \n",
            " 7   premium            344891 non-null  float64\n",
            " 8   sales.channel      344891 non-null  object \n",
            " 9   ni.gender          344891 non-null  object \n",
            " 10  ni.marital.status  344891 non-null  float64\n",
            " 11  n.adults           344891 non-null  float64\n",
            " 12  n.children         344891 non-null  float64\n",
            " 13  tenure             344891 non-null  float64\n",
            " 14  claim.ind          344891 non-null  float64\n",
            " 15  cancel             344891 non-null  int64  \n",
            "dtypes: float64(9), int64(2), object(5)\n",
            "memory usage: 42.1+ MB\n"
          ]
        }
      ],
      "source": [
        "#Dropping columns id and house.color from Test\n",
        "test_df.drop('id', inplace=True, axis=1)\n",
        "test_df.drop('house.color', inplace=True, axis=1)\n",
        "\n",
        "# Check if columns dropped properly\n",
        "test_df.head()\n",
        "\n",
        "#Check for the dataset info\n",
        "test_df.info()"
      ]
    },
    {
      "cell_type": "markdown",
      "metadata": {
        "id": "-GDJs8MGniTn"
      },
      "source": [
        "As there are 310 values so zip is not unique. We cannot drop it"
      ]
    },
    {
      "cell_type": "markdown",
      "metadata": {
        "id": "AeOKTXUOqMin"
      },
      "source": [
        "###Data Splitting"
      ]
    },
    {
      "cell_type": "markdown",
      "metadata": {
        "id": "yseF9Zo_Nsb4"
      },
      "source": [
        "Spliting the data set "
      ]
    },
    {
      "cell_type": "code",
      "execution_count": 31,
      "metadata": {
        "colab": {
          "base_uri": "https://localhost:8080/"
        },
        "id": "jabJ1JxY7XQI",
        "outputId": "269e96b6-03b8-44c1-951f-f491ecc3b406"
      },
      "outputs": [
        {
          "output_type": "stream",
          "name": "stdout",
          "text": [
            "(700232, 15) (700232, 1)\n"
          ]
        }
      ],
      "source": [
        "# Train data splitting\n",
        "y_train=train_df['cancel']\n",
        "X_train=train_df.drop('cancel', axis=1)\n",
        "y_train=pd.DataFrame(y_train)\n",
        "print(X_train.shape, y_train.shape)\n"
      ]
    },
    {
      "cell_type": "code",
      "execution_count": 32,
      "metadata": {
        "colab": {
          "base_uri": "https://localhost:8080/"
        },
        "id": "qRVRtyo27oSg",
        "outputId": "cf51ec55-874b-4adb-a69c-389bb1167fc1"
      },
      "outputs": [
        {
          "output_type": "stream",
          "name": "stdout",
          "text": [
            "(344891, 15) (344891, 1)\n"
          ]
        }
      ],
      "source": [
        "# Test dataset splitting\n",
        "y_test=test_df['cancel']\n",
        "X_test=test_df.drop('cancel', axis=1)\n",
        "y_test=pd.DataFrame(y_test)\n",
        "print(X_test.shape, y_test.shape)"
      ]
    },
    {
      "cell_type": "markdown",
      "metadata": {
        "id": "ZvT_XIMvOkGT"
      },
      "source": [
        "###Variable Transformation"
      ]
    },
    {
      "cell_type": "code",
      "execution_count": 33,
      "metadata": {
        "id": "y2Et3242t8yJ"
      },
      "outputs": [],
      "source": [
        "# Using label encoder change values to float and int\n",
        "# To run the Sklearn and fit the model, we need to change the types of categirical variables. So we encoded the object types of data to numeric types of data. \n",
        "\n",
        "from sklearn import preprocessing\n",
        "label_encoder = preprocessing.LabelEncoder()\n",
        "\n",
        "# Convert Training dataset\n",
        "X_train['credit'] = label_encoder.fit_transform(X_train['credit'])  \n",
        "X_train['dwelling.type'] = label_encoder.fit_transform(X_train['dwelling.type'])\n",
        "X_train['coverage.type'] = label_encoder.fit_transform(X_train['coverage.type'])\n",
        "X_train['sales.channel'] = label_encoder.fit_transform(X_train['sales.channel']) \n",
        "X_train['ni.gender'] = label_encoder.fit_transform(X_train['ni.gender'])"
      ]
    },
    {
      "cell_type": "code",
      "execution_count": 34,
      "metadata": {
        "id": "p3Egmzk6_hQK"
      },
      "outputs": [],
      "source": [
        "#Using label encoder change values to float and int\n",
        "\n",
        "# Convert Testing dataset\n",
        "X_test['credit'] = label_encoder.fit_transform(X_test['credit'])\n",
        "X_test['dwelling.type'] = label_encoder.fit_transform(X_test['dwelling.type'])\n",
        "X_test['coverage.type'] = label_encoder.fit_transform(X_test['coverage.type'])\n",
        "X_test['sales.channel'] = label_encoder.fit_transform(X_test['sales.channel'])\n",
        "X_test['ni.gender'] = label_encoder.fit_transform(X_test['ni.gender'])\n"
      ]
    },
    {
      "cell_type": "code",
      "execution_count": 35,
      "metadata": {
        "colab": {
          "base_uri": "https://localhost:8080/"
        },
        "id": "RkKGFmixPIg3",
        "outputId": "72eef38f-3201-4754-eb64-05d633b5598b"
      },
      "outputs": [
        {
          "output_type": "stream",
          "name": "stdout",
          "text": [
            "<class 'pandas.core.frame.DataFrame'>\n",
            "RangeIndex: 700232 entries, 0 to 700231\n",
            "Data columns (total 15 columns):\n",
            " #   Column             Non-Null Count   Dtype  \n",
            "---  ------             --------------   -----  \n",
            " 0   year               700232 non-null  int64  \n",
            " 1   zip.code           700232 non-null  float64\n",
            " 2   ni.age             700232 non-null  float64\n",
            " 3   len.at.res         700232 non-null  float64\n",
            " 4   credit             700232 non-null  int64  \n",
            " 5   coverage.type      700232 non-null  int64  \n",
            " 6   dwelling.type      700232 non-null  int64  \n",
            " 7   premium            700232 non-null  float64\n",
            " 8   sales.channel      700232 non-null  int64  \n",
            " 9   ni.gender          700232 non-null  int64  \n",
            " 10  ni.marital.status  700232 non-null  float64\n",
            " 11  n.adults           700232 non-null  float64\n",
            " 12  n.children         700232 non-null  float64\n",
            " 13  tenure             700232 non-null  float64\n",
            " 14  claim.ind          700232 non-null  float64\n",
            "dtypes: float64(9), int64(6)\n",
            "memory usage: 80.1 MB\n",
            "<class 'pandas.core.frame.DataFrame'>\n",
            "RangeIndex: 344891 entries, 0 to 344890\n",
            "Data columns (total 15 columns):\n",
            " #   Column             Non-Null Count   Dtype  \n",
            "---  ------             --------------   -----  \n",
            " 0   year               344891 non-null  int64  \n",
            " 1   zip.code           344891 non-null  float64\n",
            " 2   ni.age             344891 non-null  float64\n",
            " 3   len.at.res         344891 non-null  float64\n",
            " 4   credit             344891 non-null  int64  \n",
            " 5   coverage.type      344891 non-null  int64  \n",
            " 6   dwelling.type      344891 non-null  int64  \n",
            " 7   premium            344891 non-null  float64\n",
            " 8   sales.channel      344891 non-null  int64  \n",
            " 9   ni.gender          344891 non-null  int64  \n",
            " 10  ni.marital.status  344891 non-null  float64\n",
            " 11  n.adults           344891 non-null  float64\n",
            " 12  n.children         344891 non-null  float64\n",
            " 13  tenure             344891 non-null  float64\n",
            " 14  claim.ind          344891 non-null  float64\n",
            "dtypes: float64(9), int64(6)\n",
            "memory usage: 39.5 MB\n"
          ]
        }
      ],
      "source": [
        "#Check if variables are transformed\n",
        "X_train.info()\n",
        "X_test.info()"
      ]
    },
    {
      "cell_type": "code",
      "execution_count": 36,
      "metadata": {
        "colab": {
          "base_uri": "https://localhost:8080/"
        },
        "id": "HRQ1Up7-tLHb",
        "outputId": "a62f06f2-0ba8-44eb-8f07-87df0b60363e"
      },
      "outputs": [
        {
          "output_type": "stream",
          "name": "stdout",
          "text": [
            "(700232, 15) (344891, 15) (700232, 1) (344891, 1)\n"
          ]
        }
      ],
      "source": [
        "print(X_train.shape, X_test.shape, y_train.shape, y_test.shape)"
      ]
    },
    {
      "cell_type": "code",
      "execution_count": 37,
      "metadata": {
        "colab": {
          "base_uri": "https://localhost:8080/",
          "height": 427
        },
        "id": "N1Q94CshP8ri",
        "outputId": "f4cea847-fc7b-4afa-e161-3bf8f0fa4dad"
      },
      "outputs": [
        {
          "output_type": "execute_result",
          "data": {
            "text/plain": [
              "   year  zip.code  ni.age  len.at.res  credit  coverage.type  dwelling.type  \\\n",
              "0  2013   15056.0    55.0   15.000000       0              0              1   \n",
              "1  2014   80014.0    60.0   17.000000       2              0              1   \n",
              "2  2014   85002.0    48.0   15.000000       0              0              0   \n",
              "3  2014   85051.0    57.0   15.000000       0              0              1   \n",
              "4  2013   85077.0    42.0   16.000000       0              1              1   \n",
              "5  2013   50020.0    31.0    2.409664       0              1              2   \n",
              "6  2014   15049.0    36.0   20.000000       0              2              0   \n",
              "7  2016   50058.0    51.0   16.000000       1              0              1   \n",
              "8  2013   85072.0    37.0   14.000000       0              2              2   \n",
              "9  2016   50057.0    48.0   15.000000       1              0              1   \n",
              "\n",
              "       premium  sales.channel  ni.gender  ni.marital.status  n.adults  \\\n",
              "0   935.554116              2          0                1.0       1.0   \n",
              "1   835.804218              2          0                1.0       1.0   \n",
              "2   958.488416              0          1                1.0       1.0   \n",
              "3   963.496010              2          0                1.0       2.0   \n",
              "4   803.088375              0          0                1.0       2.0   \n",
              "5   884.245436              0          1                1.0       2.0   \n",
              "6  1001.522320              2          0                1.0       3.0   \n",
              "7   935.903701              0          1                0.0       3.0   \n",
              "8  1041.835196              0          0                0.0       1.0   \n",
              "9   946.578875              0          1                1.0       1.0   \n",
              "\n",
              "   n.children  tenure  claim.ind  \n",
              "0         1.0    14.0        0.0  \n",
              "1         1.0    17.0        0.0  \n",
              "2         0.0    11.0        1.0  \n",
              "3         1.0    19.0        0.0  \n",
              "4         2.0    12.0        0.0  \n",
              "5         2.0     6.0        1.0  \n",
              "6         1.0    10.0        0.0  \n",
              "7         0.0    15.0        1.0  \n",
              "8         0.0    14.0        1.0  \n",
              "9         2.0    20.0        0.0  "
            ],
            "text/html": [
              "\n",
              "  <div id=\"df-352ef0ab-7dd7-4968-8da0-ee756140d4dd\">\n",
              "    <div class=\"colab-df-container\">\n",
              "      <div>\n",
              "<style scoped>\n",
              "    .dataframe tbody tr th:only-of-type {\n",
              "        vertical-align: middle;\n",
              "    }\n",
              "\n",
              "    .dataframe tbody tr th {\n",
              "        vertical-align: top;\n",
              "    }\n",
              "\n",
              "    .dataframe thead th {\n",
              "        text-align: right;\n",
              "    }\n",
              "</style>\n",
              "<table border=\"1\" class=\"dataframe\">\n",
              "  <thead>\n",
              "    <tr style=\"text-align: right;\">\n",
              "      <th></th>\n",
              "      <th>year</th>\n",
              "      <th>zip.code</th>\n",
              "      <th>ni.age</th>\n",
              "      <th>len.at.res</th>\n",
              "      <th>credit</th>\n",
              "      <th>coverage.type</th>\n",
              "      <th>dwelling.type</th>\n",
              "      <th>premium</th>\n",
              "      <th>sales.channel</th>\n",
              "      <th>ni.gender</th>\n",
              "      <th>ni.marital.status</th>\n",
              "      <th>n.adults</th>\n",
              "      <th>n.children</th>\n",
              "      <th>tenure</th>\n",
              "      <th>claim.ind</th>\n",
              "    </tr>\n",
              "  </thead>\n",
              "  <tbody>\n",
              "    <tr>\n",
              "      <th>0</th>\n",
              "      <td>2013</td>\n",
              "      <td>15056.0</td>\n",
              "      <td>55.0</td>\n",
              "      <td>15.000000</td>\n",
              "      <td>0</td>\n",
              "      <td>0</td>\n",
              "      <td>1</td>\n",
              "      <td>935.554116</td>\n",
              "      <td>2</td>\n",
              "      <td>0</td>\n",
              "      <td>1.0</td>\n",
              "      <td>1.0</td>\n",
              "      <td>1.0</td>\n",
              "      <td>14.0</td>\n",
              "      <td>0.0</td>\n",
              "    </tr>\n",
              "    <tr>\n",
              "      <th>1</th>\n",
              "      <td>2014</td>\n",
              "      <td>80014.0</td>\n",
              "      <td>60.0</td>\n",
              "      <td>17.000000</td>\n",
              "      <td>2</td>\n",
              "      <td>0</td>\n",
              "      <td>1</td>\n",
              "      <td>835.804218</td>\n",
              "      <td>2</td>\n",
              "      <td>0</td>\n",
              "      <td>1.0</td>\n",
              "      <td>1.0</td>\n",
              "      <td>1.0</td>\n",
              "      <td>17.0</td>\n",
              "      <td>0.0</td>\n",
              "    </tr>\n",
              "    <tr>\n",
              "      <th>2</th>\n",
              "      <td>2014</td>\n",
              "      <td>85002.0</td>\n",
              "      <td>48.0</td>\n",
              "      <td>15.000000</td>\n",
              "      <td>0</td>\n",
              "      <td>0</td>\n",
              "      <td>0</td>\n",
              "      <td>958.488416</td>\n",
              "      <td>0</td>\n",
              "      <td>1</td>\n",
              "      <td>1.0</td>\n",
              "      <td>1.0</td>\n",
              "      <td>0.0</td>\n",
              "      <td>11.0</td>\n",
              "      <td>1.0</td>\n",
              "    </tr>\n",
              "    <tr>\n",
              "      <th>3</th>\n",
              "      <td>2014</td>\n",
              "      <td>85051.0</td>\n",
              "      <td>57.0</td>\n",
              "      <td>15.000000</td>\n",
              "      <td>0</td>\n",
              "      <td>0</td>\n",
              "      <td>1</td>\n",
              "      <td>963.496010</td>\n",
              "      <td>2</td>\n",
              "      <td>0</td>\n",
              "      <td>1.0</td>\n",
              "      <td>2.0</td>\n",
              "      <td>1.0</td>\n",
              "      <td>19.0</td>\n",
              "      <td>0.0</td>\n",
              "    </tr>\n",
              "    <tr>\n",
              "      <th>4</th>\n",
              "      <td>2013</td>\n",
              "      <td>85077.0</td>\n",
              "      <td>42.0</td>\n",
              "      <td>16.000000</td>\n",
              "      <td>0</td>\n",
              "      <td>1</td>\n",
              "      <td>1</td>\n",
              "      <td>803.088375</td>\n",
              "      <td>0</td>\n",
              "      <td>0</td>\n",
              "      <td>1.0</td>\n",
              "      <td>2.0</td>\n",
              "      <td>2.0</td>\n",
              "      <td>12.0</td>\n",
              "      <td>0.0</td>\n",
              "    </tr>\n",
              "    <tr>\n",
              "      <th>5</th>\n",
              "      <td>2013</td>\n",
              "      <td>50020.0</td>\n",
              "      <td>31.0</td>\n",
              "      <td>2.409664</td>\n",
              "      <td>0</td>\n",
              "      <td>1</td>\n",
              "      <td>2</td>\n",
              "      <td>884.245436</td>\n",
              "      <td>0</td>\n",
              "      <td>1</td>\n",
              "      <td>1.0</td>\n",
              "      <td>2.0</td>\n",
              "      <td>2.0</td>\n",
              "      <td>6.0</td>\n",
              "      <td>1.0</td>\n",
              "    </tr>\n",
              "    <tr>\n",
              "      <th>6</th>\n",
              "      <td>2014</td>\n",
              "      <td>15049.0</td>\n",
              "      <td>36.0</td>\n",
              "      <td>20.000000</td>\n",
              "      <td>0</td>\n",
              "      <td>2</td>\n",
              "      <td>0</td>\n",
              "      <td>1001.522320</td>\n",
              "      <td>2</td>\n",
              "      <td>0</td>\n",
              "      <td>1.0</td>\n",
              "      <td>3.0</td>\n",
              "      <td>1.0</td>\n",
              "      <td>10.0</td>\n",
              "      <td>0.0</td>\n",
              "    </tr>\n",
              "    <tr>\n",
              "      <th>7</th>\n",
              "      <td>2016</td>\n",
              "      <td>50058.0</td>\n",
              "      <td>51.0</td>\n",
              "      <td>16.000000</td>\n",
              "      <td>1</td>\n",
              "      <td>0</td>\n",
              "      <td>1</td>\n",
              "      <td>935.903701</td>\n",
              "      <td>0</td>\n",
              "      <td>1</td>\n",
              "      <td>0.0</td>\n",
              "      <td>3.0</td>\n",
              "      <td>0.0</td>\n",
              "      <td>15.0</td>\n",
              "      <td>1.0</td>\n",
              "    </tr>\n",
              "    <tr>\n",
              "      <th>8</th>\n",
              "      <td>2013</td>\n",
              "      <td>85072.0</td>\n",
              "      <td>37.0</td>\n",
              "      <td>14.000000</td>\n",
              "      <td>0</td>\n",
              "      <td>2</td>\n",
              "      <td>2</td>\n",
              "      <td>1041.835196</td>\n",
              "      <td>0</td>\n",
              "      <td>0</td>\n",
              "      <td>0.0</td>\n",
              "      <td>1.0</td>\n",
              "      <td>0.0</td>\n",
              "      <td>14.0</td>\n",
              "      <td>1.0</td>\n",
              "    </tr>\n",
              "    <tr>\n",
              "      <th>9</th>\n",
              "      <td>2016</td>\n",
              "      <td>50057.0</td>\n",
              "      <td>48.0</td>\n",
              "      <td>15.000000</td>\n",
              "      <td>1</td>\n",
              "      <td>0</td>\n",
              "      <td>1</td>\n",
              "      <td>946.578875</td>\n",
              "      <td>0</td>\n",
              "      <td>1</td>\n",
              "      <td>1.0</td>\n",
              "      <td>1.0</td>\n",
              "      <td>2.0</td>\n",
              "      <td>20.0</td>\n",
              "      <td>0.0</td>\n",
              "    </tr>\n",
              "  </tbody>\n",
              "</table>\n",
              "</div>\n",
              "      <button class=\"colab-df-convert\" onclick=\"convertToInteractive('df-352ef0ab-7dd7-4968-8da0-ee756140d4dd')\"\n",
              "              title=\"Convert this dataframe to an interactive table.\"\n",
              "              style=\"display:none;\">\n",
              "        \n",
              "  <svg xmlns=\"http://www.w3.org/2000/svg\" height=\"24px\"viewBox=\"0 0 24 24\"\n",
              "       width=\"24px\">\n",
              "    <path d=\"M0 0h24v24H0V0z\" fill=\"none\"/>\n",
              "    <path d=\"M18.56 5.44l.94 2.06.94-2.06 2.06-.94-2.06-.94-.94-2.06-.94 2.06-2.06.94zm-11 1L8.5 8.5l.94-2.06 2.06-.94-2.06-.94L8.5 2.5l-.94 2.06-2.06.94zm10 10l.94 2.06.94-2.06 2.06-.94-2.06-.94-.94-2.06-.94 2.06-2.06.94z\"/><path d=\"M17.41 7.96l-1.37-1.37c-.4-.4-.92-.59-1.43-.59-.52 0-1.04.2-1.43.59L10.3 9.45l-7.72 7.72c-.78.78-.78 2.05 0 2.83L4 21.41c.39.39.9.59 1.41.59.51 0 1.02-.2 1.41-.59l7.78-7.78 2.81-2.81c.8-.78.8-2.07 0-2.86zM5.41 20L4 18.59l7.72-7.72 1.47 1.35L5.41 20z\"/>\n",
              "  </svg>\n",
              "      </button>\n",
              "      \n",
              "  <style>\n",
              "    .colab-df-container {\n",
              "      display:flex;\n",
              "      flex-wrap:wrap;\n",
              "      gap: 12px;\n",
              "    }\n",
              "\n",
              "    .colab-df-convert {\n",
              "      background-color: #E8F0FE;\n",
              "      border: none;\n",
              "      border-radius: 50%;\n",
              "      cursor: pointer;\n",
              "      display: none;\n",
              "      fill: #1967D2;\n",
              "      height: 32px;\n",
              "      padding: 0 0 0 0;\n",
              "      width: 32px;\n",
              "    }\n",
              "\n",
              "    .colab-df-convert:hover {\n",
              "      background-color: #E2EBFA;\n",
              "      box-shadow: 0px 1px 2px rgba(60, 64, 67, 0.3), 0px 1px 3px 1px rgba(60, 64, 67, 0.15);\n",
              "      fill: #174EA6;\n",
              "    }\n",
              "\n",
              "    [theme=dark] .colab-df-convert {\n",
              "      background-color: #3B4455;\n",
              "      fill: #D2E3FC;\n",
              "    }\n",
              "\n",
              "    [theme=dark] .colab-df-convert:hover {\n",
              "      background-color: #434B5C;\n",
              "      box-shadow: 0px 1px 3px 1px rgba(0, 0, 0, 0.15);\n",
              "      filter: drop-shadow(0px 1px 2px rgba(0, 0, 0, 0.3));\n",
              "      fill: #FFFFFF;\n",
              "    }\n",
              "  </style>\n",
              "\n",
              "      <script>\n",
              "        const buttonEl =\n",
              "          document.querySelector('#df-352ef0ab-7dd7-4968-8da0-ee756140d4dd button.colab-df-convert');\n",
              "        buttonEl.style.display =\n",
              "          google.colab.kernel.accessAllowed ? 'block' : 'none';\n",
              "\n",
              "        async function convertToInteractive(key) {\n",
              "          const element = document.querySelector('#df-352ef0ab-7dd7-4968-8da0-ee756140d4dd');\n",
              "          const dataTable =\n",
              "            await google.colab.kernel.invokeFunction('convertToInteractive',\n",
              "                                                     [key], {});\n",
              "          if (!dataTable) return;\n",
              "\n",
              "          const docLinkHtml = 'Like what you see? Visit the ' +\n",
              "            '<a target=\"_blank\" href=https://colab.research.google.com/notebooks/data_table.ipynb>data table notebook</a>'\n",
              "            + ' to learn more about interactive tables.';\n",
              "          element.innerHTML = '';\n",
              "          dataTable['output_type'] = 'display_data';\n",
              "          await google.colab.output.renderOutput(dataTable, element);\n",
              "          const docLink = document.createElement('div');\n",
              "          docLink.innerHTML = docLinkHtml;\n",
              "          element.appendChild(docLink);\n",
              "        }\n",
              "      </script>\n",
              "    </div>\n",
              "  </div>\n",
              "  "
            ]
          },
          "metadata": {},
          "execution_count": 37
        }
      ],
      "source": [
        "#checking variable after transformation\n",
        "X_train.head(10)"
      ]
    },
    {
      "cell_type": "code",
      "execution_count": 38,
      "metadata": {
        "colab": {
          "base_uri": "https://localhost:8080/",
          "height": 427
        },
        "id": "sZuDg_MMzVYO",
        "outputId": "f38807e2-4499-43c1-e5d4-dd4c7d7737b5"
      },
      "outputs": [
        {
          "output_type": "execute_result",
          "data": {
            "text/plain": [
              "   year  zip.code  ni.age  len.at.res  credit  coverage.type  dwelling.type  \\\n",
              "0  2013   50020.0    33.0   16.000000       0              2              1   \n",
              "1  2013   80002.0    56.0   10.000000       0              0              1   \n",
              "2  2015   85005.0    46.0   12.000000       0              2              0   \n",
              "3  2015   98026.0    45.0   15.000000       0              0              2   \n",
              "4  2014   50022.0    28.0   19.000000       1              2              2   \n",
              "5  2015   98001.0    54.0   14.000000       0              2              1   \n",
              "6  2014   80028.0    38.0   13.000000       2              0              0   \n",
              "7  2013   80016.0    62.0    9.000000       0              0              1   \n",
              "8  2014   80002.0    39.0   23.545986       2              1              2   \n",
              "9  2013   85025.0    40.0   16.000000       0              0              1   \n",
              "\n",
              "       premium  sales.channel  ni.gender  ni.marital.status  n.adults  \\\n",
              "0   796.385532              0          0                1.0       1.0   \n",
              "1   773.232687              0          1                1.0       2.0   \n",
              "2   943.047142              0          0                1.0       2.0   \n",
              "3   949.368847              0          1                1.0       1.0   \n",
              "4   875.873613              0          0                1.0       1.0   \n",
              "5   888.300599              2          0                0.0       2.0   \n",
              "6  1011.257920              2          0                0.0       2.0   \n",
              "7   795.613301              2          0                1.0       2.0   \n",
              "8   914.537282              2          0                0.0       1.0   \n",
              "9   833.086745              2          1                1.0       1.0   \n",
              "\n",
              "   n.children  tenure  claim.ind  \n",
              "0         3.0     2.0        1.0  \n",
              "1         0.0    14.0        0.0  \n",
              "2         2.0     9.0        0.0  \n",
              "3         3.0    12.0        0.0  \n",
              "4         1.0     7.0        1.0  \n",
              "5         0.0    14.0        1.0  \n",
              "6         0.0    10.0        0.0  \n",
              "7         1.0    15.0        0.0  \n",
              "8         0.0    20.0        0.0  \n",
              "9         2.0    18.0        1.0  "
            ],
            "text/html": [
              "\n",
              "  <div id=\"df-f3250e22-643b-4fe5-a6d4-fe4544696667\">\n",
              "    <div class=\"colab-df-container\">\n",
              "      <div>\n",
              "<style scoped>\n",
              "    .dataframe tbody tr th:only-of-type {\n",
              "        vertical-align: middle;\n",
              "    }\n",
              "\n",
              "    .dataframe tbody tr th {\n",
              "        vertical-align: top;\n",
              "    }\n",
              "\n",
              "    .dataframe thead th {\n",
              "        text-align: right;\n",
              "    }\n",
              "</style>\n",
              "<table border=\"1\" class=\"dataframe\">\n",
              "  <thead>\n",
              "    <tr style=\"text-align: right;\">\n",
              "      <th></th>\n",
              "      <th>year</th>\n",
              "      <th>zip.code</th>\n",
              "      <th>ni.age</th>\n",
              "      <th>len.at.res</th>\n",
              "      <th>credit</th>\n",
              "      <th>coverage.type</th>\n",
              "      <th>dwelling.type</th>\n",
              "      <th>premium</th>\n",
              "      <th>sales.channel</th>\n",
              "      <th>ni.gender</th>\n",
              "      <th>ni.marital.status</th>\n",
              "      <th>n.adults</th>\n",
              "      <th>n.children</th>\n",
              "      <th>tenure</th>\n",
              "      <th>claim.ind</th>\n",
              "    </tr>\n",
              "  </thead>\n",
              "  <tbody>\n",
              "    <tr>\n",
              "      <th>0</th>\n",
              "      <td>2013</td>\n",
              "      <td>50020.0</td>\n",
              "      <td>33.0</td>\n",
              "      <td>16.000000</td>\n",
              "      <td>0</td>\n",
              "      <td>2</td>\n",
              "      <td>1</td>\n",
              "      <td>796.385532</td>\n",
              "      <td>0</td>\n",
              "      <td>0</td>\n",
              "      <td>1.0</td>\n",
              "      <td>1.0</td>\n",
              "      <td>3.0</td>\n",
              "      <td>2.0</td>\n",
              "      <td>1.0</td>\n",
              "    </tr>\n",
              "    <tr>\n",
              "      <th>1</th>\n",
              "      <td>2013</td>\n",
              "      <td>80002.0</td>\n",
              "      <td>56.0</td>\n",
              "      <td>10.000000</td>\n",
              "      <td>0</td>\n",
              "      <td>0</td>\n",
              "      <td>1</td>\n",
              "      <td>773.232687</td>\n",
              "      <td>0</td>\n",
              "      <td>1</td>\n",
              "      <td>1.0</td>\n",
              "      <td>2.0</td>\n",
              "      <td>0.0</td>\n",
              "      <td>14.0</td>\n",
              "      <td>0.0</td>\n",
              "    </tr>\n",
              "    <tr>\n",
              "      <th>2</th>\n",
              "      <td>2015</td>\n",
              "      <td>85005.0</td>\n",
              "      <td>46.0</td>\n",
              "      <td>12.000000</td>\n",
              "      <td>0</td>\n",
              "      <td>2</td>\n",
              "      <td>0</td>\n",
              "      <td>943.047142</td>\n",
              "      <td>0</td>\n",
              "      <td>0</td>\n",
              "      <td>1.0</td>\n",
              "      <td>2.0</td>\n",
              "      <td>2.0</td>\n",
              "      <td>9.0</td>\n",
              "      <td>0.0</td>\n",
              "    </tr>\n",
              "    <tr>\n",
              "      <th>3</th>\n",
              "      <td>2015</td>\n",
              "      <td>98026.0</td>\n",
              "      <td>45.0</td>\n",
              "      <td>15.000000</td>\n",
              "      <td>0</td>\n",
              "      <td>0</td>\n",
              "      <td>2</td>\n",
              "      <td>949.368847</td>\n",
              "      <td>0</td>\n",
              "      <td>1</td>\n",
              "      <td>1.0</td>\n",
              "      <td>1.0</td>\n",
              "      <td>3.0</td>\n",
              "      <td>12.0</td>\n",
              "      <td>0.0</td>\n",
              "    </tr>\n",
              "    <tr>\n",
              "      <th>4</th>\n",
              "      <td>2014</td>\n",
              "      <td>50022.0</td>\n",
              "      <td>28.0</td>\n",
              "      <td>19.000000</td>\n",
              "      <td>1</td>\n",
              "      <td>2</td>\n",
              "      <td>2</td>\n",
              "      <td>875.873613</td>\n",
              "      <td>0</td>\n",
              "      <td>0</td>\n",
              "      <td>1.0</td>\n",
              "      <td>1.0</td>\n",
              "      <td>1.0</td>\n",
              "      <td>7.0</td>\n",
              "      <td>1.0</td>\n",
              "    </tr>\n",
              "    <tr>\n",
              "      <th>5</th>\n",
              "      <td>2015</td>\n",
              "      <td>98001.0</td>\n",
              "      <td>54.0</td>\n",
              "      <td>14.000000</td>\n",
              "      <td>0</td>\n",
              "      <td>2</td>\n",
              "      <td>1</td>\n",
              "      <td>888.300599</td>\n",
              "      <td>2</td>\n",
              "      <td>0</td>\n",
              "      <td>0.0</td>\n",
              "      <td>2.0</td>\n",
              "      <td>0.0</td>\n",
              "      <td>14.0</td>\n",
              "      <td>1.0</td>\n",
              "    </tr>\n",
              "    <tr>\n",
              "      <th>6</th>\n",
              "      <td>2014</td>\n",
              "      <td>80028.0</td>\n",
              "      <td>38.0</td>\n",
              "      <td>13.000000</td>\n",
              "      <td>2</td>\n",
              "      <td>0</td>\n",
              "      <td>0</td>\n",
              "      <td>1011.257920</td>\n",
              "      <td>2</td>\n",
              "      <td>0</td>\n",
              "      <td>0.0</td>\n",
              "      <td>2.0</td>\n",
              "      <td>0.0</td>\n",
              "      <td>10.0</td>\n",
              "      <td>0.0</td>\n",
              "    </tr>\n",
              "    <tr>\n",
              "      <th>7</th>\n",
              "      <td>2013</td>\n",
              "      <td>80016.0</td>\n",
              "      <td>62.0</td>\n",
              "      <td>9.000000</td>\n",
              "      <td>0</td>\n",
              "      <td>0</td>\n",
              "      <td>1</td>\n",
              "      <td>795.613301</td>\n",
              "      <td>2</td>\n",
              "      <td>0</td>\n",
              "      <td>1.0</td>\n",
              "      <td>2.0</td>\n",
              "      <td>1.0</td>\n",
              "      <td>15.0</td>\n",
              "      <td>0.0</td>\n",
              "    </tr>\n",
              "    <tr>\n",
              "      <th>8</th>\n",
              "      <td>2014</td>\n",
              "      <td>80002.0</td>\n",
              "      <td>39.0</td>\n",
              "      <td>23.545986</td>\n",
              "      <td>2</td>\n",
              "      <td>1</td>\n",
              "      <td>2</td>\n",
              "      <td>914.537282</td>\n",
              "      <td>2</td>\n",
              "      <td>0</td>\n",
              "      <td>0.0</td>\n",
              "      <td>1.0</td>\n",
              "      <td>0.0</td>\n",
              "      <td>20.0</td>\n",
              "      <td>0.0</td>\n",
              "    </tr>\n",
              "    <tr>\n",
              "      <th>9</th>\n",
              "      <td>2013</td>\n",
              "      <td>85025.0</td>\n",
              "      <td>40.0</td>\n",
              "      <td>16.000000</td>\n",
              "      <td>0</td>\n",
              "      <td>0</td>\n",
              "      <td>1</td>\n",
              "      <td>833.086745</td>\n",
              "      <td>2</td>\n",
              "      <td>1</td>\n",
              "      <td>1.0</td>\n",
              "      <td>1.0</td>\n",
              "      <td>2.0</td>\n",
              "      <td>18.0</td>\n",
              "      <td>1.0</td>\n",
              "    </tr>\n",
              "  </tbody>\n",
              "</table>\n",
              "</div>\n",
              "      <button class=\"colab-df-convert\" onclick=\"convertToInteractive('df-f3250e22-643b-4fe5-a6d4-fe4544696667')\"\n",
              "              title=\"Convert this dataframe to an interactive table.\"\n",
              "              style=\"display:none;\">\n",
              "        \n",
              "  <svg xmlns=\"http://www.w3.org/2000/svg\" height=\"24px\"viewBox=\"0 0 24 24\"\n",
              "       width=\"24px\">\n",
              "    <path d=\"M0 0h24v24H0V0z\" fill=\"none\"/>\n",
              "    <path d=\"M18.56 5.44l.94 2.06.94-2.06 2.06-.94-2.06-.94-.94-2.06-.94 2.06-2.06.94zm-11 1L8.5 8.5l.94-2.06 2.06-.94-2.06-.94L8.5 2.5l-.94 2.06-2.06.94zm10 10l.94 2.06.94-2.06 2.06-.94-2.06-.94-.94-2.06-.94 2.06-2.06.94z\"/><path d=\"M17.41 7.96l-1.37-1.37c-.4-.4-.92-.59-1.43-.59-.52 0-1.04.2-1.43.59L10.3 9.45l-7.72 7.72c-.78.78-.78 2.05 0 2.83L4 21.41c.39.39.9.59 1.41.59.51 0 1.02-.2 1.41-.59l7.78-7.78 2.81-2.81c.8-.78.8-2.07 0-2.86zM5.41 20L4 18.59l7.72-7.72 1.47 1.35L5.41 20z\"/>\n",
              "  </svg>\n",
              "      </button>\n",
              "      \n",
              "  <style>\n",
              "    .colab-df-container {\n",
              "      display:flex;\n",
              "      flex-wrap:wrap;\n",
              "      gap: 12px;\n",
              "    }\n",
              "\n",
              "    .colab-df-convert {\n",
              "      background-color: #E8F0FE;\n",
              "      border: none;\n",
              "      border-radius: 50%;\n",
              "      cursor: pointer;\n",
              "      display: none;\n",
              "      fill: #1967D2;\n",
              "      height: 32px;\n",
              "      padding: 0 0 0 0;\n",
              "      width: 32px;\n",
              "    }\n",
              "\n",
              "    .colab-df-convert:hover {\n",
              "      background-color: #E2EBFA;\n",
              "      box-shadow: 0px 1px 2px rgba(60, 64, 67, 0.3), 0px 1px 3px 1px rgba(60, 64, 67, 0.15);\n",
              "      fill: #174EA6;\n",
              "    }\n",
              "\n",
              "    [theme=dark] .colab-df-convert {\n",
              "      background-color: #3B4455;\n",
              "      fill: #D2E3FC;\n",
              "    }\n",
              "\n",
              "    [theme=dark] .colab-df-convert:hover {\n",
              "      background-color: #434B5C;\n",
              "      box-shadow: 0px 1px 3px 1px rgba(0, 0, 0, 0.15);\n",
              "      filter: drop-shadow(0px 1px 2px rgba(0, 0, 0, 0.3));\n",
              "      fill: #FFFFFF;\n",
              "    }\n",
              "  </style>\n",
              "\n",
              "      <script>\n",
              "        const buttonEl =\n",
              "          document.querySelector('#df-f3250e22-643b-4fe5-a6d4-fe4544696667 button.colab-df-convert');\n",
              "        buttonEl.style.display =\n",
              "          google.colab.kernel.accessAllowed ? 'block' : 'none';\n",
              "\n",
              "        async function convertToInteractive(key) {\n",
              "          const element = document.querySelector('#df-f3250e22-643b-4fe5-a6d4-fe4544696667');\n",
              "          const dataTable =\n",
              "            await google.colab.kernel.invokeFunction('convertToInteractive',\n",
              "                                                     [key], {});\n",
              "          if (!dataTable) return;\n",
              "\n",
              "          const docLinkHtml = 'Like what you see? Visit the ' +\n",
              "            '<a target=\"_blank\" href=https://colab.research.google.com/notebooks/data_table.ipynb>data table notebook</a>'\n",
              "            + ' to learn more about interactive tables.';\n",
              "          element.innerHTML = '';\n",
              "          dataTable['output_type'] = 'display_data';\n",
              "          await google.colab.output.renderOutput(dataTable, element);\n",
              "          const docLink = document.createElement('div');\n",
              "          docLink.innerHTML = docLinkHtml;\n",
              "          element.appendChild(docLink);\n",
              "        }\n",
              "      </script>\n",
              "    </div>\n",
              "  </div>\n",
              "  "
            ]
          },
          "metadata": {},
          "execution_count": 38
        }
      ],
      "source": [
        "X_test.head(10)"
      ]
    },
    {
      "cell_type": "markdown",
      "metadata": {
        "id": "mrU-xnbftWGW"
      },
      "source": [
        "###Min/Max sampling"
      ]
    },
    {
      "cell_type": "code",
      "execution_count": 39,
      "metadata": {
        "id": "gn8DymDZtQAr"
      },
      "outputs": [],
      "source": [
        "# convert these all to numpy arrays\n",
        "# X_train = np.array(X_train)\n",
        "# X_train = np.array(X_train)\n",
        "#y_train = np.array(y_train)\n",
        "#y_test = np.array(y_test)"
      ]
    },
    {
      "cell_type": "code",
      "execution_count": 40,
      "metadata": {
        "id": "Wp5v9GgCB0QE"
      },
      "outputs": [],
      "source": [
        "# Select numerical variables\n",
        "# For continuous variable, I used MinMax scaler to normalize the dataset and make the distribution of dataset stable. \n",
        "numeric_cols=['ni.age','len.at.res','premium','n.adults','n.children','tenure']"
      ]
    },
    {
      "cell_type": "code",
      "execution_count": 41,
      "metadata": {
        "id": "1LlfgKwLAe8V"
      },
      "outputs": [],
      "source": [
        "# Implement Transform and Fit transform to model\n",
        "scaler = MinMaxScaler()\n",
        "\n",
        "X_train[numeric_cols] = scaler.fit_transform(X_train[numeric_cols])\n",
        "X_test[numeric_cols] = scaler.transform(X_test[numeric_cols])"
      ]
    },
    {
      "cell_type": "code",
      "execution_count": 42,
      "metadata": {
        "colab": {
          "base_uri": "https://localhost:8080/",
          "height": 364
        },
        "id": "CnExQvP8HbSQ",
        "outputId": "dcaec306-473a-482d-fa39-6c97ed7746a3"
      },
      "outputs": [
        {
          "output_type": "execute_result",
          "data": {
            "text/plain": [
              "                year       zip.code         ni.age     len.at.res  \\\n",
              "count  700232.000000  700232.000000  700232.000000  700232.000000   \n",
              "mean     2014.630125   62382.344581       0.068815       0.290157   \n",
              "std         1.111731   27972.463581       0.033257       0.093148   \n",
              "min      2013.000000   15001.000000       0.000000       0.000000   \n",
              "25%      2014.000000   50009.000000       0.045763       0.224501   \n",
              "50%      2015.000000   80011.000000       0.067299       0.285728   \n",
              "75%      2016.000000   85030.000000       0.088834       0.346956   \n",
              "max      2016.000000   98038.000000       1.000000       1.000000   \n",
              "\n",
              "              credit  coverage.type  dwelling.type        premium  \\\n",
              "count  700232.000000  700232.000000  700232.000000  700232.000000   \n",
              "mean        0.599633       1.080052       0.958537       0.461554   \n",
              "std         0.822299       0.868274       0.660705       0.124537   \n",
              "min         0.000000       0.000000       0.000000       0.000000   \n",
              "25%         0.000000       0.000000       1.000000       0.371831   \n",
              "50%         0.000000       1.000000       1.000000       0.461444   \n",
              "75%         1.000000       2.000000       1.000000       0.550504   \n",
              "max         2.000000       2.000000       2.000000       1.000000   \n",
              "\n",
              "       sales.channel      ni.gender  ni.marital.status       n.adults  \\\n",
              "count  700232.000000  700232.000000      700232.000000  700232.000000   \n",
              "mean        0.751932       0.520769           0.710736       0.103071   \n",
              "std         0.923980       0.499569           0.453212       0.113876   \n",
              "min         0.000000       0.000000           0.000000       0.000000   \n",
              "25%         0.000000       0.000000           0.000000       0.000000   \n",
              "50%         0.000000       1.000000           1.000000       0.090909   \n",
              "75%         2.000000       1.000000           1.000000       0.181818   \n",
              "max         2.000000       1.000000           1.000000       1.000000   \n",
              "\n",
              "          n.children         tenure      claim.ind  \n",
              "count  700232.000000  700232.000000  700232.000000  \n",
              "mean        0.144959       0.353970       0.199133  \n",
              "std         0.195153       0.179716       0.399161  \n",
              "min         0.000000       0.000000       0.000000  \n",
              "25%         0.000000       0.181818       0.000000  \n",
              "50%         0.083333       0.393939       0.000000  \n",
              "75%         0.250000       0.484848       0.000000  \n",
              "max         1.000000       1.000000       1.000000  "
            ],
            "text/html": [
              "\n",
              "  <div id=\"df-d133f96d-4bb8-462d-aff1-7afa414f6433\">\n",
              "    <div class=\"colab-df-container\">\n",
              "      <div>\n",
              "<style scoped>\n",
              "    .dataframe tbody tr th:only-of-type {\n",
              "        vertical-align: middle;\n",
              "    }\n",
              "\n",
              "    .dataframe tbody tr th {\n",
              "        vertical-align: top;\n",
              "    }\n",
              "\n",
              "    .dataframe thead th {\n",
              "        text-align: right;\n",
              "    }\n",
              "</style>\n",
              "<table border=\"1\" class=\"dataframe\">\n",
              "  <thead>\n",
              "    <tr style=\"text-align: right;\">\n",
              "      <th></th>\n",
              "      <th>year</th>\n",
              "      <th>zip.code</th>\n",
              "      <th>ni.age</th>\n",
              "      <th>len.at.res</th>\n",
              "      <th>credit</th>\n",
              "      <th>coverage.type</th>\n",
              "      <th>dwelling.type</th>\n",
              "      <th>premium</th>\n",
              "      <th>sales.channel</th>\n",
              "      <th>ni.gender</th>\n",
              "      <th>ni.marital.status</th>\n",
              "      <th>n.adults</th>\n",
              "      <th>n.children</th>\n",
              "      <th>tenure</th>\n",
              "      <th>claim.ind</th>\n",
              "    </tr>\n",
              "  </thead>\n",
              "  <tbody>\n",
              "    <tr>\n",
              "      <th>count</th>\n",
              "      <td>700232.000000</td>\n",
              "      <td>700232.000000</td>\n",
              "      <td>700232.000000</td>\n",
              "      <td>700232.000000</td>\n",
              "      <td>700232.000000</td>\n",
              "      <td>700232.000000</td>\n",
              "      <td>700232.000000</td>\n",
              "      <td>700232.000000</td>\n",
              "      <td>700232.000000</td>\n",
              "      <td>700232.000000</td>\n",
              "      <td>700232.000000</td>\n",
              "      <td>700232.000000</td>\n",
              "      <td>700232.000000</td>\n",
              "      <td>700232.000000</td>\n",
              "      <td>700232.000000</td>\n",
              "    </tr>\n",
              "    <tr>\n",
              "      <th>mean</th>\n",
              "      <td>2014.630125</td>\n",
              "      <td>62382.344581</td>\n",
              "      <td>0.068815</td>\n",
              "      <td>0.290157</td>\n",
              "      <td>0.599633</td>\n",
              "      <td>1.080052</td>\n",
              "      <td>0.958537</td>\n",
              "      <td>0.461554</td>\n",
              "      <td>0.751932</td>\n",
              "      <td>0.520769</td>\n",
              "      <td>0.710736</td>\n",
              "      <td>0.103071</td>\n",
              "      <td>0.144959</td>\n",
              "      <td>0.353970</td>\n",
              "      <td>0.199133</td>\n",
              "    </tr>\n",
              "    <tr>\n",
              "      <th>std</th>\n",
              "      <td>1.111731</td>\n",
              "      <td>27972.463581</td>\n",
              "      <td>0.033257</td>\n",
              "      <td>0.093148</td>\n",
              "      <td>0.822299</td>\n",
              "      <td>0.868274</td>\n",
              "      <td>0.660705</td>\n",
              "      <td>0.124537</td>\n",
              "      <td>0.923980</td>\n",
              "      <td>0.499569</td>\n",
              "      <td>0.453212</td>\n",
              "      <td>0.113876</td>\n",
              "      <td>0.195153</td>\n",
              "      <td>0.179716</td>\n",
              "      <td>0.399161</td>\n",
              "    </tr>\n",
              "    <tr>\n",
              "      <th>min</th>\n",
              "      <td>2013.000000</td>\n",
              "      <td>15001.000000</td>\n",
              "      <td>0.000000</td>\n",
              "      <td>0.000000</td>\n",
              "      <td>0.000000</td>\n",
              "      <td>0.000000</td>\n",
              "      <td>0.000000</td>\n",
              "      <td>0.000000</td>\n",
              "      <td>0.000000</td>\n",
              "      <td>0.000000</td>\n",
              "      <td>0.000000</td>\n",
              "      <td>0.000000</td>\n",
              "      <td>0.000000</td>\n",
              "      <td>0.000000</td>\n",
              "      <td>0.000000</td>\n",
              "    </tr>\n",
              "    <tr>\n",
              "      <th>25%</th>\n",
              "      <td>2014.000000</td>\n",
              "      <td>50009.000000</td>\n",
              "      <td>0.045763</td>\n",
              "      <td>0.224501</td>\n",
              "      <td>0.000000</td>\n",
              "      <td>0.000000</td>\n",
              "      <td>1.000000</td>\n",
              "      <td>0.371831</td>\n",
              "      <td>0.000000</td>\n",
              "      <td>0.000000</td>\n",
              "      <td>0.000000</td>\n",
              "      <td>0.000000</td>\n",
              "      <td>0.000000</td>\n",
              "      <td>0.181818</td>\n",
              "      <td>0.000000</td>\n",
              "    </tr>\n",
              "    <tr>\n",
              "      <th>50%</th>\n",
              "      <td>2015.000000</td>\n",
              "      <td>80011.000000</td>\n",
              "      <td>0.067299</td>\n",
              "      <td>0.285728</td>\n",
              "      <td>0.000000</td>\n",
              "      <td>1.000000</td>\n",
              "      <td>1.000000</td>\n",
              "      <td>0.461444</td>\n",
              "      <td>0.000000</td>\n",
              "      <td>1.000000</td>\n",
              "      <td>1.000000</td>\n",
              "      <td>0.090909</td>\n",
              "      <td>0.083333</td>\n",
              "      <td>0.393939</td>\n",
              "      <td>0.000000</td>\n",
              "    </tr>\n",
              "    <tr>\n",
              "      <th>75%</th>\n",
              "      <td>2016.000000</td>\n",
              "      <td>85030.000000</td>\n",
              "      <td>0.088834</td>\n",
              "      <td>0.346956</td>\n",
              "      <td>1.000000</td>\n",
              "      <td>2.000000</td>\n",
              "      <td>1.000000</td>\n",
              "      <td>0.550504</td>\n",
              "      <td>2.000000</td>\n",
              "      <td>1.000000</td>\n",
              "      <td>1.000000</td>\n",
              "      <td>0.181818</td>\n",
              "      <td>0.250000</td>\n",
              "      <td>0.484848</td>\n",
              "      <td>0.000000</td>\n",
              "    </tr>\n",
              "    <tr>\n",
              "      <th>max</th>\n",
              "      <td>2016.000000</td>\n",
              "      <td>98038.000000</td>\n",
              "      <td>1.000000</td>\n",
              "      <td>1.000000</td>\n",
              "      <td>2.000000</td>\n",
              "      <td>2.000000</td>\n",
              "      <td>2.000000</td>\n",
              "      <td>1.000000</td>\n",
              "      <td>2.000000</td>\n",
              "      <td>1.000000</td>\n",
              "      <td>1.000000</td>\n",
              "      <td>1.000000</td>\n",
              "      <td>1.000000</td>\n",
              "      <td>1.000000</td>\n",
              "      <td>1.000000</td>\n",
              "    </tr>\n",
              "  </tbody>\n",
              "</table>\n",
              "</div>\n",
              "      <button class=\"colab-df-convert\" onclick=\"convertToInteractive('df-d133f96d-4bb8-462d-aff1-7afa414f6433')\"\n",
              "              title=\"Convert this dataframe to an interactive table.\"\n",
              "              style=\"display:none;\">\n",
              "        \n",
              "  <svg xmlns=\"http://www.w3.org/2000/svg\" height=\"24px\"viewBox=\"0 0 24 24\"\n",
              "       width=\"24px\">\n",
              "    <path d=\"M0 0h24v24H0V0z\" fill=\"none\"/>\n",
              "    <path d=\"M18.56 5.44l.94 2.06.94-2.06 2.06-.94-2.06-.94-.94-2.06-.94 2.06-2.06.94zm-11 1L8.5 8.5l.94-2.06 2.06-.94-2.06-.94L8.5 2.5l-.94 2.06-2.06.94zm10 10l.94 2.06.94-2.06 2.06-.94-2.06-.94-.94-2.06-.94 2.06-2.06.94z\"/><path d=\"M17.41 7.96l-1.37-1.37c-.4-.4-.92-.59-1.43-.59-.52 0-1.04.2-1.43.59L10.3 9.45l-7.72 7.72c-.78.78-.78 2.05 0 2.83L4 21.41c.39.39.9.59 1.41.59.51 0 1.02-.2 1.41-.59l7.78-7.78 2.81-2.81c.8-.78.8-2.07 0-2.86zM5.41 20L4 18.59l7.72-7.72 1.47 1.35L5.41 20z\"/>\n",
              "  </svg>\n",
              "      </button>\n",
              "      \n",
              "  <style>\n",
              "    .colab-df-container {\n",
              "      display:flex;\n",
              "      flex-wrap:wrap;\n",
              "      gap: 12px;\n",
              "    }\n",
              "\n",
              "    .colab-df-convert {\n",
              "      background-color: #E8F0FE;\n",
              "      border: none;\n",
              "      border-radius: 50%;\n",
              "      cursor: pointer;\n",
              "      display: none;\n",
              "      fill: #1967D2;\n",
              "      height: 32px;\n",
              "      padding: 0 0 0 0;\n",
              "      width: 32px;\n",
              "    }\n",
              "\n",
              "    .colab-df-convert:hover {\n",
              "      background-color: #E2EBFA;\n",
              "      box-shadow: 0px 1px 2px rgba(60, 64, 67, 0.3), 0px 1px 3px 1px rgba(60, 64, 67, 0.15);\n",
              "      fill: #174EA6;\n",
              "    }\n",
              "\n",
              "    [theme=dark] .colab-df-convert {\n",
              "      background-color: #3B4455;\n",
              "      fill: #D2E3FC;\n",
              "    }\n",
              "\n",
              "    [theme=dark] .colab-df-convert:hover {\n",
              "      background-color: #434B5C;\n",
              "      box-shadow: 0px 1px 3px 1px rgba(0, 0, 0, 0.15);\n",
              "      filter: drop-shadow(0px 1px 2px rgba(0, 0, 0, 0.3));\n",
              "      fill: #FFFFFF;\n",
              "    }\n",
              "  </style>\n",
              "\n",
              "      <script>\n",
              "        const buttonEl =\n",
              "          document.querySelector('#df-d133f96d-4bb8-462d-aff1-7afa414f6433 button.colab-df-convert');\n",
              "        buttonEl.style.display =\n",
              "          google.colab.kernel.accessAllowed ? 'block' : 'none';\n",
              "\n",
              "        async function convertToInteractive(key) {\n",
              "          const element = document.querySelector('#df-d133f96d-4bb8-462d-aff1-7afa414f6433');\n",
              "          const dataTable =\n",
              "            await google.colab.kernel.invokeFunction('convertToInteractive',\n",
              "                                                     [key], {});\n",
              "          if (!dataTable) return;\n",
              "\n",
              "          const docLinkHtml = 'Like what you see? Visit the ' +\n",
              "            '<a target=\"_blank\" href=https://colab.research.google.com/notebooks/data_table.ipynb>data table notebook</a>'\n",
              "            + ' to learn more about interactive tables.';\n",
              "          element.innerHTML = '';\n",
              "          dataTable['output_type'] = 'display_data';\n",
              "          await google.colab.output.renderOutput(dataTable, element);\n",
              "          const docLink = document.createElement('div');\n",
              "          docLink.innerHTML = docLinkHtml;\n",
              "          element.appendChild(docLink);\n",
              "        }\n",
              "      </script>\n",
              "    </div>\n",
              "  </div>\n",
              "  "
            ]
          },
          "metadata": {},
          "execution_count": 42
        }
      ],
      "source": [
        "X_train.describe()"
      ]
    },
    {
      "cell_type": "markdown",
      "metadata": {
        "id": "ISTJ70tKIsBy"
      },
      "source": [
        "We can find that all the continuous variables are scaled from 0 to 1, and categorical features are encoded to number. Year and zip.code are unique feature, so, did not converted the features. "
      ]
    },
    {
      "cell_type": "code",
      "execution_count": 43,
      "metadata": {
        "colab": {
          "base_uri": "https://localhost:8080/"
        },
        "id": "LXan62EzIbND",
        "outputId": "a5d1ca66-b2c2-45df-b10d-6682bd006330"
      },
      "outputs": [
        {
          "output_type": "stream",
          "name": "stdout",
          "text": [
            "<class 'pandas.core.frame.DataFrame'>\n",
            "RangeIndex: 700232 entries, 0 to 700231\n",
            "Data columns (total 15 columns):\n",
            " #   Column             Non-Null Count   Dtype  \n",
            "---  ------             --------------   -----  \n",
            " 0   year               700232 non-null  int64  \n",
            " 1   zip.code           700232 non-null  float64\n",
            " 2   ni.age             700232 non-null  float64\n",
            " 3   len.at.res         700232 non-null  float64\n",
            " 4   credit             700232 non-null  int64  \n",
            " 5   coverage.type      700232 non-null  int64  \n",
            " 6   dwelling.type      700232 non-null  int64  \n",
            " 7   premium            700232 non-null  float64\n",
            " 8   sales.channel      700232 non-null  int64  \n",
            " 9   ni.gender          700232 non-null  int64  \n",
            " 10  ni.marital.status  700232 non-null  float64\n",
            " 11  n.adults           700232 non-null  float64\n",
            " 12  n.children         700232 non-null  float64\n",
            " 13  tenure             700232 non-null  float64\n",
            " 14  claim.ind          700232 non-null  float64\n",
            "dtypes: float64(9), int64(6)\n",
            "memory usage: 80.1 MB\n"
          ]
        }
      ],
      "source": [
        "X_train.info()"
      ]
    },
    {
      "cell_type": "markdown",
      "metadata": {
        "id": "Ufkl1WdcQypi"
      },
      "source": [
        "### SMOTE for Balancing"
      ]
    },
    {
      "cell_type": "code",
      "execution_count": 44,
      "metadata": {
        "colab": {
          "base_uri": "https://localhost:8080/"
        },
        "id": "w9i_WD-d5wD7",
        "outputId": "5195372f-3c6f-41bd-cf54-2e658535cad3"
      },
      "outputs": [
        {
          "output_type": "stream",
          "name": "stdout",
          "text": [
            "Counter({'cancel': 1})\n"
          ]
        }
      ],
      "source": [
        "# Perform Smote to make the dataset balance\n",
        "from imblearn.over_sampling import SMOTE\n",
        "from imblearn.over_sampling import SVMSMOTE\n",
        "from collections import Counter\n",
        "\n",
        "random_state = 42\n",
        "\n",
        "# transform the dataset\n",
        "oversample = SMOTE(k_neighbors=9)\n",
        "\n",
        "X_resample, y_resample = oversample.fit_resample(X_train, y_train)\n",
        "counter = Counter(y_resample)\n",
        "print(counter)"
      ]
    },
    {
      "cell_type": "code",
      "execution_count": 45,
      "metadata": {
        "colab": {
          "base_uri": "https://localhost:8080/"
        },
        "id": "ZcC28ZvL0BmT",
        "outputId": "e1afcd9c-3f0f-4c1c-b950-f5992a3f13fa"
      },
      "outputs": [
        {
          "output_type": "execute_result",
          "data": {
            "text/plain": [
              "cancel\n",
              "0         496542\n",
              "1         496542\n",
              "2         496542\n",
              "dtype: int64"
            ]
          },
          "metadata": {},
          "execution_count": 45
        }
      ],
      "source": [
        "# We can found that the number of target variables are changed and balanced. \n",
        "y_resample.value_counts()"
      ]
    },
    {
      "cell_type": "code",
      "execution_count": 46,
      "metadata": {
        "colab": {
          "base_uri": "https://localhost:8080/",
          "height": 487
        },
        "id": "pq7hRPRU63Lr",
        "outputId": "1303103f-6c14-4daa-f3f1-f9da5b31b35c"
      },
      "outputs": [
        {
          "output_type": "execute_result",
          "data": {
            "text/plain": [
              "         year      zip.code    ni.age  len.at.res  credit  coverage.type  \\\n",
              "0        2013  15056.000000  0.099602    0.285728       0              0   \n",
              "1        2014  80014.000000  0.113062    0.326547       2              0   \n",
              "2        2014  85002.000000  0.080758    0.285728       0              0   \n",
              "3        2014  85051.000000  0.104986    0.285728       0              0   \n",
              "4        2013  85077.000000  0.064607    0.306138       0              1   \n",
              "...       ...           ...       ...         ...     ...            ...   \n",
              "1489621  2015  98022.000000  0.067243    0.297932       2              2   \n",
              "1489622  2016  80036.768761  0.088583    0.295167       1              0   \n",
              "1489623  2014  50037.000000  0.101665    0.432222       2              0   \n",
              "1489624  2013  98004.000000  0.057117    0.289721       1              0   \n",
              "1489625  2013  85069.295856  0.066996    0.322803       0              0   \n",
              "\n",
              "         dwelling.type   premium  sales.channel  ni.gender  ni.marital.status  \\\n",
              "0                    1  0.518647              2          0                1.0   \n",
              "1                    1  0.358558              2          0                1.0   \n",
              "2                    0  0.555454              0          1                1.0   \n",
              "3                    1  0.563491              2          0                1.0   \n",
              "4                    1  0.306053              0          0                1.0   \n",
              "...                ...       ...            ...        ...                ...   \n",
              "1489621              1  0.486501              0          0                0.0   \n",
              "1489622              0  0.479298              2          1                1.0   \n",
              "1489623              1  0.546715              2          0                1.0   \n",
              "1489624              2  0.600734              1          0                1.0   \n",
              "1489625              0  0.524404              0          1                0.0   \n",
              "\n",
              "         n.adults  n.children    tenure  claim.ind  \n",
              "0        0.000000    0.083333  0.424242    0.00000  \n",
              "1        0.000000    0.083333  0.515152    0.00000  \n",
              "2        0.000000    0.000000  0.333333    1.00000  \n",
              "3        0.090909    0.083333  0.575758    0.00000  \n",
              "4        0.090909    0.166667  0.363636    0.00000  \n",
              "...           ...         ...       ...        ...  \n",
              "1489621  0.121837    0.000000  0.453921    0.00000  \n",
              "1489622  0.160796    0.275524  0.438072    0.00000  \n",
              "1489623  0.149745    0.514608  0.472387    0.35281  \n",
              "1489624  0.199933    0.216484  0.461027    0.00000  \n",
              "1489625  0.144701    0.000000  0.422091    0.00000  \n",
              "\n",
              "[1489626 rows x 15 columns]"
            ],
            "text/html": [
              "\n",
              "  <div id=\"df-24fdb01e-79fc-4e8e-9173-4e64d978b8e6\">\n",
              "    <div class=\"colab-df-container\">\n",
              "      <div>\n",
              "<style scoped>\n",
              "    .dataframe tbody tr th:only-of-type {\n",
              "        vertical-align: middle;\n",
              "    }\n",
              "\n",
              "    .dataframe tbody tr th {\n",
              "        vertical-align: top;\n",
              "    }\n",
              "\n",
              "    .dataframe thead th {\n",
              "        text-align: right;\n",
              "    }\n",
              "</style>\n",
              "<table border=\"1\" class=\"dataframe\">\n",
              "  <thead>\n",
              "    <tr style=\"text-align: right;\">\n",
              "      <th></th>\n",
              "      <th>year</th>\n",
              "      <th>zip.code</th>\n",
              "      <th>ni.age</th>\n",
              "      <th>len.at.res</th>\n",
              "      <th>credit</th>\n",
              "      <th>coverage.type</th>\n",
              "      <th>dwelling.type</th>\n",
              "      <th>premium</th>\n",
              "      <th>sales.channel</th>\n",
              "      <th>ni.gender</th>\n",
              "      <th>ni.marital.status</th>\n",
              "      <th>n.adults</th>\n",
              "      <th>n.children</th>\n",
              "      <th>tenure</th>\n",
              "      <th>claim.ind</th>\n",
              "    </tr>\n",
              "  </thead>\n",
              "  <tbody>\n",
              "    <tr>\n",
              "      <th>0</th>\n",
              "      <td>2013</td>\n",
              "      <td>15056.000000</td>\n",
              "      <td>0.099602</td>\n",
              "      <td>0.285728</td>\n",
              "      <td>0</td>\n",
              "      <td>0</td>\n",
              "      <td>1</td>\n",
              "      <td>0.518647</td>\n",
              "      <td>2</td>\n",
              "      <td>0</td>\n",
              "      <td>1.0</td>\n",
              "      <td>0.000000</td>\n",
              "      <td>0.083333</td>\n",
              "      <td>0.424242</td>\n",
              "      <td>0.00000</td>\n",
              "    </tr>\n",
              "    <tr>\n",
              "      <th>1</th>\n",
              "      <td>2014</td>\n",
              "      <td>80014.000000</td>\n",
              "      <td>0.113062</td>\n",
              "      <td>0.326547</td>\n",
              "      <td>2</td>\n",
              "      <td>0</td>\n",
              "      <td>1</td>\n",
              "      <td>0.358558</td>\n",
              "      <td>2</td>\n",
              "      <td>0</td>\n",
              "      <td>1.0</td>\n",
              "      <td>0.000000</td>\n",
              "      <td>0.083333</td>\n",
              "      <td>0.515152</td>\n",
              "      <td>0.00000</td>\n",
              "    </tr>\n",
              "    <tr>\n",
              "      <th>2</th>\n",
              "      <td>2014</td>\n",
              "      <td>85002.000000</td>\n",
              "      <td>0.080758</td>\n",
              "      <td>0.285728</td>\n",
              "      <td>0</td>\n",
              "      <td>0</td>\n",
              "      <td>0</td>\n",
              "      <td>0.555454</td>\n",
              "      <td>0</td>\n",
              "      <td>1</td>\n",
              "      <td>1.0</td>\n",
              "      <td>0.000000</td>\n",
              "      <td>0.000000</td>\n",
              "      <td>0.333333</td>\n",
              "      <td>1.00000</td>\n",
              "    </tr>\n",
              "    <tr>\n",
              "      <th>3</th>\n",
              "      <td>2014</td>\n",
              "      <td>85051.000000</td>\n",
              "      <td>0.104986</td>\n",
              "      <td>0.285728</td>\n",
              "      <td>0</td>\n",
              "      <td>0</td>\n",
              "      <td>1</td>\n",
              "      <td>0.563491</td>\n",
              "      <td>2</td>\n",
              "      <td>0</td>\n",
              "      <td>1.0</td>\n",
              "      <td>0.090909</td>\n",
              "      <td>0.083333</td>\n",
              "      <td>0.575758</td>\n",
              "      <td>0.00000</td>\n",
              "    </tr>\n",
              "    <tr>\n",
              "      <th>4</th>\n",
              "      <td>2013</td>\n",
              "      <td>85077.000000</td>\n",
              "      <td>0.064607</td>\n",
              "      <td>0.306138</td>\n",
              "      <td>0</td>\n",
              "      <td>1</td>\n",
              "      <td>1</td>\n",
              "      <td>0.306053</td>\n",
              "      <td>0</td>\n",
              "      <td>0</td>\n",
              "      <td>1.0</td>\n",
              "      <td>0.090909</td>\n",
              "      <td>0.166667</td>\n",
              "      <td>0.363636</td>\n",
              "      <td>0.00000</td>\n",
              "    </tr>\n",
              "    <tr>\n",
              "      <th>...</th>\n",
              "      <td>...</td>\n",
              "      <td>...</td>\n",
              "      <td>...</td>\n",
              "      <td>...</td>\n",
              "      <td>...</td>\n",
              "      <td>...</td>\n",
              "      <td>...</td>\n",
              "      <td>...</td>\n",
              "      <td>...</td>\n",
              "      <td>...</td>\n",
              "      <td>...</td>\n",
              "      <td>...</td>\n",
              "      <td>...</td>\n",
              "      <td>...</td>\n",
              "      <td>...</td>\n",
              "    </tr>\n",
              "    <tr>\n",
              "      <th>1489621</th>\n",
              "      <td>2015</td>\n",
              "      <td>98022.000000</td>\n",
              "      <td>0.067243</td>\n",
              "      <td>0.297932</td>\n",
              "      <td>2</td>\n",
              "      <td>2</td>\n",
              "      <td>1</td>\n",
              "      <td>0.486501</td>\n",
              "      <td>0</td>\n",
              "      <td>0</td>\n",
              "      <td>0.0</td>\n",
              "      <td>0.121837</td>\n",
              "      <td>0.000000</td>\n",
              "      <td>0.453921</td>\n",
              "      <td>0.00000</td>\n",
              "    </tr>\n",
              "    <tr>\n",
              "      <th>1489622</th>\n",
              "      <td>2016</td>\n",
              "      <td>80036.768761</td>\n",
              "      <td>0.088583</td>\n",
              "      <td>0.295167</td>\n",
              "      <td>1</td>\n",
              "      <td>0</td>\n",
              "      <td>0</td>\n",
              "      <td>0.479298</td>\n",
              "      <td>2</td>\n",
              "      <td>1</td>\n",
              "      <td>1.0</td>\n",
              "      <td>0.160796</td>\n",
              "      <td>0.275524</td>\n",
              "      <td>0.438072</td>\n",
              "      <td>0.00000</td>\n",
              "    </tr>\n",
              "    <tr>\n",
              "      <th>1489623</th>\n",
              "      <td>2014</td>\n",
              "      <td>50037.000000</td>\n",
              "      <td>0.101665</td>\n",
              "      <td>0.432222</td>\n",
              "      <td>2</td>\n",
              "      <td>0</td>\n",
              "      <td>1</td>\n",
              "      <td>0.546715</td>\n",
              "      <td>2</td>\n",
              "      <td>0</td>\n",
              "      <td>1.0</td>\n",
              "      <td>0.149745</td>\n",
              "      <td>0.514608</td>\n",
              "      <td>0.472387</td>\n",
              "      <td>0.35281</td>\n",
              "    </tr>\n",
              "    <tr>\n",
              "      <th>1489624</th>\n",
              "      <td>2013</td>\n",
              "      <td>98004.000000</td>\n",
              "      <td>0.057117</td>\n",
              "      <td>0.289721</td>\n",
              "      <td>1</td>\n",
              "      <td>0</td>\n",
              "      <td>2</td>\n",
              "      <td>0.600734</td>\n",
              "      <td>1</td>\n",
              "      <td>0</td>\n",
              "      <td>1.0</td>\n",
              "      <td>0.199933</td>\n",
              "      <td>0.216484</td>\n",
              "      <td>0.461027</td>\n",
              "      <td>0.00000</td>\n",
              "    </tr>\n",
              "    <tr>\n",
              "      <th>1489625</th>\n",
              "      <td>2013</td>\n",
              "      <td>85069.295856</td>\n",
              "      <td>0.066996</td>\n",
              "      <td>0.322803</td>\n",
              "      <td>0</td>\n",
              "      <td>0</td>\n",
              "      <td>0</td>\n",
              "      <td>0.524404</td>\n",
              "      <td>0</td>\n",
              "      <td>1</td>\n",
              "      <td>0.0</td>\n",
              "      <td>0.144701</td>\n",
              "      <td>0.000000</td>\n",
              "      <td>0.422091</td>\n",
              "      <td>0.00000</td>\n",
              "    </tr>\n",
              "  </tbody>\n",
              "</table>\n",
              "<p>1489626 rows × 15 columns</p>\n",
              "</div>\n",
              "      <button class=\"colab-df-convert\" onclick=\"convertToInteractive('df-24fdb01e-79fc-4e8e-9173-4e64d978b8e6')\"\n",
              "              title=\"Convert this dataframe to an interactive table.\"\n",
              "              style=\"display:none;\">\n",
              "        \n",
              "  <svg xmlns=\"http://www.w3.org/2000/svg\" height=\"24px\"viewBox=\"0 0 24 24\"\n",
              "       width=\"24px\">\n",
              "    <path d=\"M0 0h24v24H0V0z\" fill=\"none\"/>\n",
              "    <path d=\"M18.56 5.44l.94 2.06.94-2.06 2.06-.94-2.06-.94-.94-2.06-.94 2.06-2.06.94zm-11 1L8.5 8.5l.94-2.06 2.06-.94-2.06-.94L8.5 2.5l-.94 2.06-2.06.94zm10 10l.94 2.06.94-2.06 2.06-.94-2.06-.94-.94-2.06-.94 2.06-2.06.94z\"/><path d=\"M17.41 7.96l-1.37-1.37c-.4-.4-.92-.59-1.43-.59-.52 0-1.04.2-1.43.59L10.3 9.45l-7.72 7.72c-.78.78-.78 2.05 0 2.83L4 21.41c.39.39.9.59 1.41.59.51 0 1.02-.2 1.41-.59l7.78-7.78 2.81-2.81c.8-.78.8-2.07 0-2.86zM5.41 20L4 18.59l7.72-7.72 1.47 1.35L5.41 20z\"/>\n",
              "  </svg>\n",
              "      </button>\n",
              "      \n",
              "  <style>\n",
              "    .colab-df-container {\n",
              "      display:flex;\n",
              "      flex-wrap:wrap;\n",
              "      gap: 12px;\n",
              "    }\n",
              "\n",
              "    .colab-df-convert {\n",
              "      background-color: #E8F0FE;\n",
              "      border: none;\n",
              "      border-radius: 50%;\n",
              "      cursor: pointer;\n",
              "      display: none;\n",
              "      fill: #1967D2;\n",
              "      height: 32px;\n",
              "      padding: 0 0 0 0;\n",
              "      width: 32px;\n",
              "    }\n",
              "\n",
              "    .colab-df-convert:hover {\n",
              "      background-color: #E2EBFA;\n",
              "      box-shadow: 0px 1px 2px rgba(60, 64, 67, 0.3), 0px 1px 3px 1px rgba(60, 64, 67, 0.15);\n",
              "      fill: #174EA6;\n",
              "    }\n",
              "\n",
              "    [theme=dark] .colab-df-convert {\n",
              "      background-color: #3B4455;\n",
              "      fill: #D2E3FC;\n",
              "    }\n",
              "\n",
              "    [theme=dark] .colab-df-convert:hover {\n",
              "      background-color: #434B5C;\n",
              "      box-shadow: 0px 1px 3px 1px rgba(0, 0, 0, 0.15);\n",
              "      filter: drop-shadow(0px 1px 2px rgba(0, 0, 0, 0.3));\n",
              "      fill: #FFFFFF;\n",
              "    }\n",
              "  </style>\n",
              "\n",
              "      <script>\n",
              "        const buttonEl =\n",
              "          document.querySelector('#df-24fdb01e-79fc-4e8e-9173-4e64d978b8e6 button.colab-df-convert');\n",
              "        buttonEl.style.display =\n",
              "          google.colab.kernel.accessAllowed ? 'block' : 'none';\n",
              "\n",
              "        async function convertToInteractive(key) {\n",
              "          const element = document.querySelector('#df-24fdb01e-79fc-4e8e-9173-4e64d978b8e6');\n",
              "          const dataTable =\n",
              "            await google.colab.kernel.invokeFunction('convertToInteractive',\n",
              "                                                     [key], {});\n",
              "          if (!dataTable) return;\n",
              "\n",
              "          const docLinkHtml = 'Like what you see? Visit the ' +\n",
              "            '<a target=\"_blank\" href=https://colab.research.google.com/notebooks/data_table.ipynb>data table notebook</a>'\n",
              "            + ' to learn more about interactive tables.';\n",
              "          element.innerHTML = '';\n",
              "          dataTable['output_type'] = 'display_data';\n",
              "          await google.colab.output.renderOutput(dataTable, element);\n",
              "          const docLink = document.createElement('div');\n",
              "          docLink.innerHTML = docLinkHtml;\n",
              "          element.appendChild(docLink);\n",
              "        }\n",
              "      </script>\n",
              "    </div>\n",
              "  </div>\n",
              "  "
            ]
          },
          "metadata": {},
          "execution_count": 46
        }
      ],
      "source": [
        "X_resample"
      ]
    },
    {
      "cell_type": "markdown",
      "metadata": {
        "id": "P9qk8LDmwB4r"
      },
      "source": [
        "## 2. Modeling \n"
      ]
    },
    {
      "cell_type": "markdown",
      "source": [
        "To find the model with best accuracy, I tried multiple ML model: Random Forest Classification(RFC), Decision Tree Classification (DTC), Gradiant Boosting Classification (GBC) and Logistics Regression(LR). "
      ],
      "metadata": {
        "id": "CNbV3LClHbYy"
      }
    },
    {
      "cell_type": "markdown",
      "metadata": {
        "id": "QwzLj89iEOUd"
      },
      "source": [
        "### Random Forest Classifier "
      ]
    },
    {
      "cell_type": "code",
      "execution_count": 47,
      "metadata": {
        "colab": {
          "base_uri": "https://localhost:8080/"
        },
        "id": "Fi4QCdogZCnh",
        "outputId": "a07262f5-6d0f-47fe-c4e6-750467e608fb"
      },
      "outputs": [
        {
          "output_type": "stream",
          "name": "stderr",
          "text": [
            "<ipython-input-47-6e9e9ebe92f9>:3: DataConversionWarning: A column-vector y was passed when a 1d array was expected. Please change the shape of y to (n_samples,), for example using ravel().\n",
            "  RFC = RFC.fit(X_resample, y_resample)\n"
          ]
        }
      ],
      "source": [
        "#Fit the model using Random Forest Classifier\n",
        "RFC= RandomForestClassifier()\n",
        "RFC = RFC.fit(X_resample, y_resample)"
      ]
    },
    {
      "cell_type": "code",
      "execution_count": 48,
      "metadata": {
        "id": "pbJccRk6AEyl"
      },
      "outputs": [],
      "source": [
        "# store the predictions\n",
        "train_preds_RFC = RFC.predict(X_resample) \n",
        "test_preds_RFC = RFC.predict(X_test) "
      ]
    },
    {
      "cell_type": "code",
      "execution_count": 49,
      "metadata": {
        "colab": {
          "base_uri": "https://localhost:8080/"
        },
        "id": "3gzntVymATUg",
        "outputId": "3a2c4d1c-e878-449b-f9c9-9ed401cd96ba"
      },
      "outputs": [
        {
          "output_type": "stream",
          "name": "stdout",
          "text": [
            "Random Forest Classification:\n",
            "\n",
            "Train Classification of:\n",
            "\n",
            "              precision    recall  f1-score   support\n",
            "\n",
            "           0       1.00      1.00      1.00    496542\n",
            "           1       1.00      1.00      1.00    496542\n",
            "           2       1.00      1.00      1.00    496542\n",
            "\n",
            "    accuracy                           1.00   1489626\n",
            "   macro avg       1.00      1.00      1.00   1489626\n",
            "weighted avg       1.00      1.00      1.00   1489626\n",
            "\n",
            "Test Classification:\n",
            "\n",
            "              precision    recall  f1-score   support\n",
            "\n",
            "           0       0.78      0.88      0.83    244522\n",
            "           1       0.43      0.41      0.42     24772\n",
            "           2       0.50      0.31      0.39     75597\n",
            "\n",
            "    accuracy                           0.72    344891\n",
            "   macro avg       0.57      0.53      0.54    344891\n",
            "weighted avg       0.69      0.72      0.70    344891\n",
            "\n"
          ]
        }
      ],
      "source": [
        "print('Random Forest Classification:\\n')\n",
        "print('Train Classification of:\\n')\n",
        "print(classification_report(y_resample,train_preds_RFC))\n",
        "print('Test Classification:\\n')\n",
        "print(classification_report(y_test,test_preds_RFC))"
      ]
    },
    {
      "cell_type": "markdown",
      "metadata": {
        "id": "CPhmfbOILWZO"
      },
      "source": [
        "### Decision Tree Classifier "
      ]
    },
    {
      "cell_type": "code",
      "execution_count": 50,
      "metadata": {
        "colab": {
          "base_uri": "https://localhost:8080/",
          "height": 74
        },
        "id": "cZTffcLJ9jii",
        "outputId": "9e9fae45-d829-40b3-b6e4-1a505eae9b36"
      },
      "outputs": [
        {
          "output_type": "execute_result",
          "data": {
            "text/plain": [
              "DecisionTreeClassifier(min_samples_split=15)"
            ],
            "text/html": [
              "<style>#sk-container-id-1 {color: black;background-color: white;}#sk-container-id-1 pre{padding: 0;}#sk-container-id-1 div.sk-toggleable {background-color: white;}#sk-container-id-1 label.sk-toggleable__label {cursor: pointer;display: block;width: 100%;margin-bottom: 0;padding: 0.3em;box-sizing: border-box;text-align: center;}#sk-container-id-1 label.sk-toggleable__label-arrow:before {content: \"▸\";float: left;margin-right: 0.25em;color: #696969;}#sk-container-id-1 label.sk-toggleable__label-arrow:hover:before {color: black;}#sk-container-id-1 div.sk-estimator:hover label.sk-toggleable__label-arrow:before {color: black;}#sk-container-id-1 div.sk-toggleable__content {max-height: 0;max-width: 0;overflow: hidden;text-align: left;background-color: #f0f8ff;}#sk-container-id-1 div.sk-toggleable__content pre {margin: 0.2em;color: black;border-radius: 0.25em;background-color: #f0f8ff;}#sk-container-id-1 input.sk-toggleable__control:checked~div.sk-toggleable__content {max-height: 200px;max-width: 100%;overflow: auto;}#sk-container-id-1 input.sk-toggleable__control:checked~label.sk-toggleable__label-arrow:before {content: \"▾\";}#sk-container-id-1 div.sk-estimator input.sk-toggleable__control:checked~label.sk-toggleable__label {background-color: #d4ebff;}#sk-container-id-1 div.sk-label input.sk-toggleable__control:checked~label.sk-toggleable__label {background-color: #d4ebff;}#sk-container-id-1 input.sk-hidden--visually {border: 0;clip: rect(1px 1px 1px 1px);clip: rect(1px, 1px, 1px, 1px);height: 1px;margin: -1px;overflow: hidden;padding: 0;position: absolute;width: 1px;}#sk-container-id-1 div.sk-estimator {font-family: monospace;background-color: #f0f8ff;border: 1px dotted black;border-radius: 0.25em;box-sizing: border-box;margin-bottom: 0.5em;}#sk-container-id-1 div.sk-estimator:hover {background-color: #d4ebff;}#sk-container-id-1 div.sk-parallel-item::after {content: \"\";width: 100%;border-bottom: 1px solid gray;flex-grow: 1;}#sk-container-id-1 div.sk-label:hover label.sk-toggleable__label {background-color: #d4ebff;}#sk-container-id-1 div.sk-serial::before {content: \"\";position: absolute;border-left: 1px solid gray;box-sizing: border-box;top: 0;bottom: 0;left: 50%;z-index: 0;}#sk-container-id-1 div.sk-serial {display: flex;flex-direction: column;align-items: center;background-color: white;padding-right: 0.2em;padding-left: 0.2em;position: relative;}#sk-container-id-1 div.sk-item {position: relative;z-index: 1;}#sk-container-id-1 div.sk-parallel {display: flex;align-items: stretch;justify-content: center;background-color: white;position: relative;}#sk-container-id-1 div.sk-item::before, #sk-container-id-1 div.sk-parallel-item::before {content: \"\";position: absolute;border-left: 1px solid gray;box-sizing: border-box;top: 0;bottom: 0;left: 50%;z-index: -1;}#sk-container-id-1 div.sk-parallel-item {display: flex;flex-direction: column;z-index: 1;position: relative;background-color: white;}#sk-container-id-1 div.sk-parallel-item:first-child::after {align-self: flex-end;width: 50%;}#sk-container-id-1 div.sk-parallel-item:last-child::after {align-self: flex-start;width: 50%;}#sk-container-id-1 div.sk-parallel-item:only-child::after {width: 0;}#sk-container-id-1 div.sk-dashed-wrapped {border: 1px dashed gray;margin: 0 0.4em 0.5em 0.4em;box-sizing: border-box;padding-bottom: 0.4em;background-color: white;}#sk-container-id-1 div.sk-label label {font-family: monospace;font-weight: bold;display: inline-block;line-height: 1.2em;}#sk-container-id-1 div.sk-label-container {text-align: center;}#sk-container-id-1 div.sk-container {/* jupyter's `normalize.less` sets `[hidden] { display: none; }` but bootstrap.min.css set `[hidden] { display: none !important; }` so we also need the `!important` here to be able to override the default hidden behavior on the sphinx rendered scikit-learn.org. See: https://github.com/scikit-learn/scikit-learn/issues/21755 */display: inline-block !important;position: relative;}#sk-container-id-1 div.sk-text-repr-fallback {display: none;}</style><div id=\"sk-container-id-1\" class=\"sk-top-container\"><div class=\"sk-text-repr-fallback\"><pre>DecisionTreeClassifier(min_samples_split=15)</pre><b>In a Jupyter environment, please rerun this cell to show the HTML representation or trust the notebook. <br />On GitHub, the HTML representation is unable to render, please try loading this page with nbviewer.org.</b></div><div class=\"sk-container\" hidden><div class=\"sk-item\"><div class=\"sk-estimator sk-toggleable\"><input class=\"sk-toggleable__control sk-hidden--visually\" id=\"sk-estimator-id-1\" type=\"checkbox\" checked><label for=\"sk-estimator-id-1\" class=\"sk-toggleable__label sk-toggleable__label-arrow\">DecisionTreeClassifier</label><div class=\"sk-toggleable__content\"><pre>DecisionTreeClassifier(min_samples_split=15)</pre></div></div></div></div></div>"
            ]
          },
          "metadata": {},
          "execution_count": 50
        }
      ],
      "source": [
        "#Fit the model using Decision Tree Classifier\n",
        "DTC = DecisionTreeClassifier(min_samples_split=15)\n",
        "DTC.fit(X_resample, y_resample)"
      ]
    },
    {
      "cell_type": "code",
      "execution_count": 51,
      "metadata": {
        "id": "VM-RjgRiAB_q"
      },
      "outputs": [],
      "source": [
        "# store the predictions\n",
        "train_preds_DTC= DTC.predict(X_resample) \n",
        "test_preds_DTC= DTC.predict(X_test)"
      ]
    },
    {
      "cell_type": "code",
      "execution_count": 52,
      "metadata": {
        "colab": {
          "base_uri": "https://localhost:8080/"
        },
        "id": "_KqQMQfKAXqk",
        "outputId": "4be61ff0-b0ac-42df-b7f9-6321e0227f33"
      },
      "outputs": [
        {
          "output_type": "stream",
          "name": "stdout",
          "text": [
            "Decision Tree Classification:\n",
            "\n",
            "Train Classification of:\n",
            "\n",
            "              precision    recall  f1-score   support\n",
            "\n",
            "           0       0.87      0.93      0.90    496542\n",
            "           1       0.91      0.92      0.92    496542\n",
            "           2       0.89      0.82      0.85    496542\n",
            "\n",
            "    accuracy                           0.89   1489626\n",
            "   macro avg       0.89      0.89      0.89   1489626\n",
            "weighted avg       0.89      0.89      0.89   1489626\n",
            "\n",
            "Test Classification:\n",
            "\n",
            "              precision    recall  f1-score   support\n",
            "\n",
            "           0       0.77      0.78      0.77    244522\n",
            "           1       0.33      0.36      0.35     24772\n",
            "           2       0.33      0.31      0.32     75597\n",
            "\n",
            "    accuracy                           0.65    344891\n",
            "   macro avg       0.48      0.48      0.48    344891\n",
            "weighted avg       0.64      0.65      0.64    344891\n",
            "\n"
          ]
        }
      ],
      "source": [
        "print('Decision Tree Classification:\\n')\n",
        "print('Train Classification of:\\n')\n",
        "print(classification_report(y_resample,train_preds_DTC))\n",
        "print('Test Classification:\\n')\n",
        "print(classification_report(y_test,test_preds_DTC))"
      ]
    },
    {
      "cell_type": "markdown",
      "metadata": {
        "id": "DKlrRMXW1LZo"
      },
      "source": [
        "### Gradient Boosing Classification "
      ]
    },
    {
      "cell_type": "code",
      "execution_count": 53,
      "metadata": {
        "colab": {
          "base_uri": "https://localhost:8080/"
        },
        "id": "Jvg3XrEM1P8G",
        "outputId": "77500c8e-7675-4b86-8a6f-1e2528242900"
      },
      "outputs": [
        {
          "output_type": "stream",
          "name": "stderr",
          "text": [
            "/usr/local/lib/python3.10/dist-packages/sklearn/ensemble/_gb.py:437: DataConversionWarning: A column-vector y was passed when a 1d array was expected. Please change the shape of y to (n_samples, ), for example using ravel().\n",
            "  y = column_or_1d(y, warn=True)\n"
          ]
        }
      ],
      "source": [
        "GBC = GradientBoostingClassifier()\n",
        "GBC = GBC.fit(X_resample, y_resample)"
      ]
    },
    {
      "cell_type": "code",
      "execution_count": 54,
      "metadata": {
        "id": "NJ6QXLVd3Sap"
      },
      "outputs": [],
      "source": [
        "# store the predictions\n",
        "train_preds_GBC = GBC.predict(X_resample) \n",
        "test_preds_GBC = GBC.predict(X_test) "
      ]
    },
    {
      "cell_type": "code",
      "execution_count": null,
      "metadata": {
        "colab": {
          "base_uri": "https://localhost:8080/"
        },
        "id": "srn5OFCMAc0N",
        "outputId": "6e2d8ad7-314f-4c5d-9cf1-263f354325ce"
      },
      "outputs": [
        {
          "output_type": "stream",
          "name": "stdout",
          "text": [
            "Gradient Boosing Classification:\n",
            "\n",
            "Train Classification of:\n",
            "\n",
            "              precision    recall  f1-score   support\n",
            "\n",
            "           0       0.70      0.91      0.79    496542\n",
            "           1       0.69      0.74      0.71    496542\n",
            "           2       0.68      0.43      0.52    496542\n",
            "\n",
            "    accuracy                           0.69   1489626\n",
            "   macro avg       0.69      0.69      0.68   1489626\n",
            "weighted avg       0.69      0.69      0.68   1489626\n",
            "\n",
            "Test Classification:\n",
            "\n",
            "              precision    recall  f1-score   support\n",
            "\n",
            "           0       0.76      0.91      0.83    244522\n",
            "           1       0.20      0.10      0.13     24772\n",
            "           2       0.55      0.28      0.37     75597\n",
            "\n",
            "    accuracy                           0.71    344891\n",
            "   macro avg       0.50      0.43      0.44    344891\n",
            "weighted avg       0.67      0.71      0.68    344891\n",
            "\n"
          ]
        }
      ],
      "source": [
        "print('Gradient Boosing Classification:\\n')\n",
        "print('Train Classification of:\\n')\n",
        "print(classification_report(y_resample,train_preds_GBC))\n",
        "print('Test Classification:\\n')\n",
        "print(classification_report(y_test,test_preds_GBC))"
      ]
    },
    {
      "cell_type": "markdown",
      "metadata": {
        "id": "glHyP5RD05RR"
      },
      "source": [
        "### Logistics Regression"
      ]
    },
    {
      "cell_type": "code",
      "execution_count": null,
      "metadata": {
        "colab": {
          "base_uri": "https://localhost:8080/"
        },
        "id": "36SULV3P1A_n",
        "outputId": "c9ecb6b3-b542-4f9a-f8df-a7f8b75c7be7"
      },
      "outputs": [
        {
          "output_type": "stream",
          "name": "stderr",
          "text": [
            "/usr/local/lib/python3.10/dist-packages/sklearn/utils/validation.py:1143: DataConversionWarning: A column-vector y was passed when a 1d array was expected. Please change the shape of y to (n_samples, ), for example using ravel().\n",
            "  y = column_or_1d(y, warn=True)\n"
          ]
        }
      ],
      "source": [
        "# fit the model using Logistics Regression\n",
        "LR = LogisticRegression()\n",
        "LR = LR.fit(X_resample, y_resample)"
      ]
    },
    {
      "cell_type": "code",
      "execution_count": null,
      "metadata": {
        "id": "HNyKMWX_1Ck0"
      },
      "outputs": [],
      "source": [
        "# store the predictions\n",
        "train_preds_LR = LR.predict(X_resample) \n",
        "test_preds_LR = LR.predict(X_test) "
      ]
    },
    {
      "cell_type": "code",
      "execution_count": null,
      "metadata": {
        "colab": {
          "base_uri": "https://localhost:8080/"
        },
        "id": "sc0S4leWAh2Y",
        "outputId": "0f72b527-1e19-449f-81f0-f0ce4d93a4b6"
      },
      "outputs": [
        {
          "output_type": "stream",
          "name": "stdout",
          "text": [
            "Logistics Regression:\n",
            "\n",
            "Train Classification of:\n",
            "\n"
          ]
        },
        {
          "output_type": "stream",
          "name": "stderr",
          "text": [
            "/usr/local/lib/python3.10/dist-packages/sklearn/metrics/_classification.py:1344: UndefinedMetricWarning: Precision and F-score are ill-defined and being set to 0.0 in labels with no predicted samples. Use `zero_division` parameter to control this behavior.\n",
            "  _warn_prf(average, modifier, msg_start, len(result))\n",
            "/usr/local/lib/python3.10/dist-packages/sklearn/metrics/_classification.py:1344: UndefinedMetricWarning: Precision and F-score are ill-defined and being set to 0.0 in labels with no predicted samples. Use `zero_division` parameter to control this behavior.\n",
            "  _warn_prf(average, modifier, msg_start, len(result))\n",
            "/usr/local/lib/python3.10/dist-packages/sklearn/metrics/_classification.py:1344: UndefinedMetricWarning: Precision and F-score are ill-defined and being set to 0.0 in labels with no predicted samples. Use `zero_division` parameter to control this behavior.\n",
            "  _warn_prf(average, modifier, msg_start, len(result))\n",
            "/usr/local/lib/python3.10/dist-packages/sklearn/metrics/_classification.py:1344: UndefinedMetricWarning: Precision and F-score are ill-defined and being set to 0.0 in labels with no predicted samples. Use `zero_division` parameter to control this behavior.\n",
            "  _warn_prf(average, modifier, msg_start, len(result))\n"
          ]
        },
        {
          "output_type": "stream",
          "name": "stdout",
          "text": [
            "              precision    recall  f1-score   support\n",
            "\n",
            "           0       0.34      0.47      0.39    496542\n",
            "           1       0.35      0.56      0.43    496542\n",
            "           2       0.00      0.00      0.00    496542\n",
            "\n",
            "    accuracy                           0.34   1489626\n",
            "   macro avg       0.23      0.34      0.27   1489626\n",
            "weighted avg       0.23      0.34      0.27   1489626\n",
            "\n",
            "Test Classification:\n",
            "\n",
            "              precision    recall  f1-score   support\n",
            "\n",
            "           0       0.71      0.47      0.57    244522\n",
            "           1       0.08      0.56      0.13     24772\n",
            "           2       0.00      0.00      0.00     75597\n",
            "\n",
            "    accuracy                           0.37    344891\n",
            "   macro avg       0.26      0.34      0.23    344891\n",
            "weighted avg       0.51      0.37      0.41    344891\n",
            "\n"
          ]
        },
        {
          "output_type": "stream",
          "name": "stderr",
          "text": [
            "/usr/local/lib/python3.10/dist-packages/sklearn/metrics/_classification.py:1344: UndefinedMetricWarning: Precision and F-score are ill-defined and being set to 0.0 in labels with no predicted samples. Use `zero_division` parameter to control this behavior.\n",
            "  _warn_prf(average, modifier, msg_start, len(result))\n",
            "/usr/local/lib/python3.10/dist-packages/sklearn/metrics/_classification.py:1344: UndefinedMetricWarning: Precision and F-score are ill-defined and being set to 0.0 in labels with no predicted samples. Use `zero_division` parameter to control this behavior.\n",
            "  _warn_prf(average, modifier, msg_start, len(result))\n"
          ]
        }
      ],
      "source": [
        "print('Logistics Regression:\\n')\n",
        "print('Train Classification of:\\n')\n",
        "print(classification_report(y_resample,train_preds_LR))\n",
        "print('Test Classification:\\n')\n",
        "print(classification_report(y_test,test_preds_LR))"
      ]
    },
    {
      "cell_type": "markdown",
      "metadata": {
        "id": "qjtnQdjtSnuD"
      },
      "source": [
        "From this classification modeling results, I can find that Random Forest Calssification has the highest accuracy of 0.72. So I decide to use RFC for this classification modeling "
      ]
    },
    {
      "cell_type": "markdown",
      "metadata": {
        "id": "bnsZeAZV3a9V"
      },
      "source": [
        "## 3. Model Result"
      ]
    },
    {
      "cell_type": "markdown",
      "source": [
        "Considering the accuracy, I selected the RFC is the best model for this dataset. <br>\n",
        "To find a better results, I tried three hyper parameter tuning processes adjusting max_depth, min_sample_leaf, min_samples_split, n_estimators."
      ],
      "metadata": {
        "id": "tIDXuQmWKI6k"
      }
    },
    {
      "cell_type": "code",
      "execution_count": null,
      "metadata": {
        "colab": {
          "base_uri": "https://localhost:8080/"
        },
        "id": "gVszX7dhAqbZ",
        "outputId": "37ec2fb7-c8d5-4c72-9972-e5ee135c2068"
      },
      "outputs": [
        {
          "output_type": "stream",
          "name": "stderr",
          "text": [
            "<ipython-input-56-5045b9659d61>:2: DataConversionWarning: A column-vector y was passed when a 1d array was expected. Please change the shape of y to (n_samples,), for example using ravel().\n",
            "  RFC_Hyper_1 = RFC_Hyper_1.fit(X_resample, y_resample)\n"
          ]
        }
      ],
      "source": [
        "RFC_Hyper_1 = RandomForestClassifier(max_depth = 10, min_samples_leaf = 1, min_samples_split = 5, n_estimators =100)\n",
        "RFC_Hyper_1 = RFC_Hyper_1.fit(X_resample, y_resample)\n",
        "\n",
        "train_preds_RFC_Hyper1 = RFC_Hyper_1.predict(X_resample) \n",
        "test_preds_RFC_Hyper1= RFC_Hyper_1.predict(X_test) "
      ]
    },
    {
      "cell_type": "code",
      "execution_count": null,
      "metadata": {
        "colab": {
          "base_uri": "https://localhost:8080/"
        },
        "id": "333x5NQmT7aP",
        "outputId": "32065f20-4a90-4462-90f4-1824a4d2d3a7"
      },
      "outputs": [
        {
          "output_type": "stream",
          "name": "stdout",
          "text": [
            "Train Classification of:\n",
            "\n",
            "              precision    recall  f1-score   support\n",
            "\n",
            "           0       0.70      0.81      0.75    496542\n",
            "           1       0.65      0.81      0.73    496542\n",
            "           2       0.70      0.42      0.52    496542\n",
            "\n",
            "    accuracy                           0.68   1489626\n",
            "   macro avg       0.68      0.68      0.66   1489626\n",
            "weighted avg       0.68      0.68      0.66   1489626\n",
            "\n",
            "Test Classification:\n",
            "\n",
            "              precision    recall  f1-score   support\n",
            "\n",
            "           0       0.80      0.81      0.80    244522\n",
            "           1       0.24      0.51      0.33     24772\n",
            "           2       0.49      0.31      0.38     75597\n",
            "\n",
            "    accuracy                           0.68    344891\n",
            "   macro avg       0.51      0.54      0.50    344891\n",
            "weighted avg       0.70      0.68      0.68    344891\n",
            "\n"
          ]
        }
      ],
      "source": [
        "print('Train Classification of:\\n')\n",
        "print(classification_report(y_resample,train_preds_RFC_Hyper1))\n",
        "print('Test Classification:\\n')\n",
        "print(classification_report(y_test,test_preds_RFC_Hyper1))"
      ]
    },
    {
      "cell_type": "code",
      "execution_count": null,
      "metadata": {
        "colab": {
          "base_uri": "https://localhost:8080/"
        },
        "id": "Vj10gL1kT7xy",
        "outputId": "80ee2eab-5991-40e5-b7d3-d13e5a54e238"
      },
      "outputs": [
        {
          "output_type": "stream",
          "name": "stderr",
          "text": [
            "<ipython-input-58-255e6e954794>:2: DataConversionWarning: A column-vector y was passed when a 1d array was expected. Please change the shape of y to (n_samples,), for example using ravel().\n",
            "  RFC_Hyper_2 = RFC_Hyper_2.fit(X_resample, y_resample)\n"
          ]
        }
      ],
      "source": [
        "RFC_Hyper_2 = RandomForestClassifier(max_depth = 20, min_samples_leaf = 15, min_samples_split = 5, n_estimators =500)\n",
        "RFC_Hyper_2 = RFC_Hyper_2.fit(X_resample, y_resample)\n",
        "\n",
        "train_preds_RFC_Hyper2 = RFC_Hyper_2.predict(X_resample) \n",
        "test_preds_RFC_Hyper2= RFC_Hyper_2.predict(X_test) "
      ]
    },
    {
      "cell_type": "code",
      "execution_count": null,
      "metadata": {
        "colab": {
          "base_uri": "https://localhost:8080/"
        },
        "id": "SPHC3-fFUK6s",
        "outputId": "c1c87c1c-87be-47a6-a836-71323fe70c13"
      },
      "outputs": [
        {
          "output_type": "stream",
          "name": "stdout",
          "text": [
            "Train Classification of:\n",
            "\n",
            "              precision    recall  f1-score   support\n",
            "\n",
            "           0       0.78      0.86      0.82    496542\n",
            "           1       0.78      0.91      0.84    496542\n",
            "           2       0.83      0.59      0.69    496542\n",
            "\n",
            "    accuracy                           0.79   1489626\n",
            "   macro avg       0.80      0.79      0.78   1489626\n",
            "weighted avg       0.80      0.79      0.78   1489626\n",
            "\n",
            "Test Classification:\n",
            "\n",
            "              precision    recall  f1-score   support\n",
            "\n",
            "           0       0.80      0.84      0.82    244522\n",
            "           1       0.33      0.52      0.41     24772\n",
            "           2       0.52      0.34      0.41     75597\n",
            "\n",
            "    accuracy                           0.71    344891\n",
            "   macro avg       0.55      0.57      0.54    344891\n",
            "weighted avg       0.70      0.71      0.70    344891\n",
            "\n"
          ]
        }
      ],
      "source": [
        "print('Train Classification of:\\n')\n",
        "print(classification_report(y_resample,train_preds_RFC_Hyper2))\n",
        "print('Test Classification:\\n')\n",
        "print(classification_report(y_test,test_preds_RFC_Hyper2))"
      ]
    },
    {
      "cell_type": "code",
      "execution_count": null,
      "metadata": {
        "colab": {
          "base_uri": "https://localhost:8080/"
        },
        "id": "gVhTflv0UhnM",
        "outputId": "aa02ecd6-9ef0-4b42-cec0-aee5d412a429"
      },
      "outputs": [
        {
          "output_type": "stream",
          "name": "stderr",
          "text": [
            "<ipython-input-60-5d4c51ddcc55>:2: DataConversionWarning: A column-vector y was passed when a 1d array was expected. Please change the shape of y to (n_samples,), for example using ravel().\n",
            "  RFC_Hyper_3 = RFC_Hyper_3.fit(X_resample, y_resample)\n"
          ]
        }
      ],
      "source": [
        "RFC_Hyper_3 = RandomForestClassifier(max_depth = 20, min_samples_leaf = 15, min_samples_split = 5, n_estimators =700)\n",
        "RFC_Hyper_3 = RFC_Hyper_3.fit(X_resample, y_resample)\n",
        "\n",
        "train_preds_RFC_Hyper3 = RFC_Hyper_3.predict(X_resample) \n",
        "test_preds_RFC_Hyper3= RFC_Hyper_3.predict(X_test) "
      ]
    },
    {
      "cell_type": "code",
      "execution_count": null,
      "metadata": {
        "id": "z8wjJOxOUqzV"
      },
      "outputs": [],
      "source": [
        "print('Train Classification of:\\n')\n",
        "print(classification_report(y_resample,train_preds_RFC_Hyper3))\n",
        "print('Test Classification:\\n')\n",
        "print(classification_report(y_test,test_preds_RFC_Hyper3))"
      ]
    },
    {
      "cell_type": "code",
      "execution_count": null,
      "metadata": {
        "colab": {
          "base_uri": "https://localhost:8080/"
        },
        "id": "P8STVAoqFKgx",
        "outputId": "4fbb0f87-a554-4599-b5d2-7536296f7f3e"
      },
      "outputs": [
        {
          "name": "stdout",
          "output_type": "stream",
          "text": [
            "0.7001476052422557\n",
            "0.6748464949039619\n",
            "0.6916219669265898\n",
            "0.6997972702245122\n"
          ]
        }
      ],
      "source": [
        "from sklearn.metrics import f1_score\n",
        "\n",
        "no_hyper=f1_score(y_test,test_preds_RFC, average='weighted')\n",
        "hyper1=f1_score(y_test,test_preds_RFC_Hyper1, average='weighted')\n",
        "hyper2=f1_score(y_test,test_preds_RFC_Hyper2, average='weighted')\n",
        "hyper3=f1_score(y_test,test_preds_RFC_Hyper3, average='weighted')\n",
        "\n",
        "print(no_hyper)\n",
        "print(hyper1)\n",
        "print(hyper2)\n",
        "print(hyper3)"
      ]
    },
    {
      "cell_type": "markdown",
      "source": [
        "- According to multiple hyperparameter tuning results, default hyperparameter shows the highest weighted F-1 score. <br>\n",
        "- [max_depth = 20, min_samples_leaf = 15, min_samples_split = 5, n_estimators =700] also shows similar result, but when it comes to the running time, using default hyperparameter is more efficient. \n",
        "\n"
      ],
      "metadata": {
        "id": "2VAMff00MQtY"
      }
    },
    {
      "cell_type": "markdown",
      "metadata": {
        "id": "nwT1O3SCNtYP"
      },
      "source": [
        "## 4. Interpretability and Discussion\n"
      ]
    },
    {
      "cell_type": "markdown",
      "source": [
        "Finding a significant variable is important to analyze customer churn. I try to identify the best top 5 features affecting the cancellation results. "
      ],
      "metadata": {
        "id": "JclkcN-RKqmV"
      }
    },
    {
      "cell_type": "markdown",
      "metadata": {
        "id": "PfxX5vlZFcD6"
      },
      "source": [
        "### Feature Importance"
      ]
    },
    {
      "cell_type": "code",
      "source": [
        "X_train = pd.DataFrame(X_train)\n",
        "X_train=X_train.rename(columns={0:'year',1:'zip.code',2:'ni.age',3:'len.at.res',4:'credit',5:'coverage.type',6:'dwelling.type',7:'premium',8:'sales.channel',9:'ni.gender',\n",
        "                                10:'ni.marital.status',11:'n.adults',12:'n.children',13:'tenure',14:'calim.ind'})"
      ],
      "metadata": {
        "id": "32hE2vl7cl89"
      },
      "execution_count": null,
      "outputs": []
    },
    {
      "cell_type": "code",
      "source": [
        "X_train"
      ],
      "metadata": {
        "colab": {
          "base_uri": "https://localhost:8080/",
          "height": 487
        },
        "id": "Xb02CP30SknR",
        "outputId": "48108bbc-8fae-4708-e844-852e4c1d968c"
      },
      "execution_count": 58,
      "outputs": [
        {
          "output_type": "execute_result",
          "data": {
            "text/plain": [
              "        year  zip.code    ni.age  len.at.res  credit  coverage.type  \\\n",
              "0       2013   15056.0  0.099602    0.285728       0              0   \n",
              "1       2014   80014.0  0.113062    0.326547       2              0   \n",
              "2       2014   85002.0  0.080758    0.285728       0              0   \n",
              "3       2014   85051.0  0.104986    0.285728       0              0   \n",
              "4       2013   85077.0  0.064607    0.306138       0              1   \n",
              "...      ...       ...       ...         ...     ...            ...   \n",
              "700227  2014   50020.0  0.069991    0.346956       0              1   \n",
              "700228  2014   85030.0  0.091526    0.142864       0              2   \n",
              "700229  2014   98001.0  0.056531    0.183683       1              2   \n",
              "700230  2016   50038.0  0.043071    0.346956       1              1   \n",
              "700231  2013   15001.0  0.091526    0.367365       0              2   \n",
              "\n",
              "        dwelling.type   premium  sales.channel  ni.gender  ni.marital.status  \\\n",
              "0                   1  0.518647              2          0                1.0   \n",
              "1                   1  0.358558              2          0                1.0   \n",
              "2                   0  0.555454              0          1                1.0   \n",
              "3                   1  0.563491              2          0                1.0   \n",
              "4                   1  0.306053              0          0                1.0   \n",
              "...               ...       ...            ...        ...                ...   \n",
              "700227              1  0.303178              2          0                1.0   \n",
              "700228              1  0.317761              0          1                1.0   \n",
              "700229              1  0.469405              0          1                1.0   \n",
              "700230              1  0.725363              0          1                1.0   \n",
              "700231              1  0.404051              2          0                1.0   \n",
              "\n",
              "        n.adults  n.children    tenure  claim.ind  \n",
              "0       0.000000    0.083333  0.424242        0.0  \n",
              "1       0.000000    0.083333  0.515152        0.0  \n",
              "2       0.000000    0.000000  0.333333        1.0  \n",
              "3       0.090909    0.083333  0.575758        0.0  \n",
              "4       0.090909    0.166667  0.363636        0.0  \n",
              "...          ...         ...       ...        ...  \n",
              "700227  0.090909    0.000000  0.606061        0.0  \n",
              "700228  0.090909    0.083333  0.272727        0.0  \n",
              "700229  0.090909    0.083333  0.515152        1.0  \n",
              "700230  0.000000    0.166667  0.060606        1.0  \n",
              "700231  0.000000    0.166667  0.303030        0.0  \n",
              "\n",
              "[700232 rows x 15 columns]"
            ],
            "text/html": [
              "\n",
              "  <div id=\"df-8444c0cf-5df1-4a8c-9b4b-ce67dc58dd56\">\n",
              "    <div class=\"colab-df-container\">\n",
              "      <div>\n",
              "<style scoped>\n",
              "    .dataframe tbody tr th:only-of-type {\n",
              "        vertical-align: middle;\n",
              "    }\n",
              "\n",
              "    .dataframe tbody tr th {\n",
              "        vertical-align: top;\n",
              "    }\n",
              "\n",
              "    .dataframe thead th {\n",
              "        text-align: right;\n",
              "    }\n",
              "</style>\n",
              "<table border=\"1\" class=\"dataframe\">\n",
              "  <thead>\n",
              "    <tr style=\"text-align: right;\">\n",
              "      <th></th>\n",
              "      <th>year</th>\n",
              "      <th>zip.code</th>\n",
              "      <th>ni.age</th>\n",
              "      <th>len.at.res</th>\n",
              "      <th>credit</th>\n",
              "      <th>coverage.type</th>\n",
              "      <th>dwelling.type</th>\n",
              "      <th>premium</th>\n",
              "      <th>sales.channel</th>\n",
              "      <th>ni.gender</th>\n",
              "      <th>ni.marital.status</th>\n",
              "      <th>n.adults</th>\n",
              "      <th>n.children</th>\n",
              "      <th>tenure</th>\n",
              "      <th>claim.ind</th>\n",
              "    </tr>\n",
              "  </thead>\n",
              "  <tbody>\n",
              "    <tr>\n",
              "      <th>0</th>\n",
              "      <td>2013</td>\n",
              "      <td>15056.0</td>\n",
              "      <td>0.099602</td>\n",
              "      <td>0.285728</td>\n",
              "      <td>0</td>\n",
              "      <td>0</td>\n",
              "      <td>1</td>\n",
              "      <td>0.518647</td>\n",
              "      <td>2</td>\n",
              "      <td>0</td>\n",
              "      <td>1.0</td>\n",
              "      <td>0.000000</td>\n",
              "      <td>0.083333</td>\n",
              "      <td>0.424242</td>\n",
              "      <td>0.0</td>\n",
              "    </tr>\n",
              "    <tr>\n",
              "      <th>1</th>\n",
              "      <td>2014</td>\n",
              "      <td>80014.0</td>\n",
              "      <td>0.113062</td>\n",
              "      <td>0.326547</td>\n",
              "      <td>2</td>\n",
              "      <td>0</td>\n",
              "      <td>1</td>\n",
              "      <td>0.358558</td>\n",
              "      <td>2</td>\n",
              "      <td>0</td>\n",
              "      <td>1.0</td>\n",
              "      <td>0.000000</td>\n",
              "      <td>0.083333</td>\n",
              "      <td>0.515152</td>\n",
              "      <td>0.0</td>\n",
              "    </tr>\n",
              "    <tr>\n",
              "      <th>2</th>\n",
              "      <td>2014</td>\n",
              "      <td>85002.0</td>\n",
              "      <td>0.080758</td>\n",
              "      <td>0.285728</td>\n",
              "      <td>0</td>\n",
              "      <td>0</td>\n",
              "      <td>0</td>\n",
              "      <td>0.555454</td>\n",
              "      <td>0</td>\n",
              "      <td>1</td>\n",
              "      <td>1.0</td>\n",
              "      <td>0.000000</td>\n",
              "      <td>0.000000</td>\n",
              "      <td>0.333333</td>\n",
              "      <td>1.0</td>\n",
              "    </tr>\n",
              "    <tr>\n",
              "      <th>3</th>\n",
              "      <td>2014</td>\n",
              "      <td>85051.0</td>\n",
              "      <td>0.104986</td>\n",
              "      <td>0.285728</td>\n",
              "      <td>0</td>\n",
              "      <td>0</td>\n",
              "      <td>1</td>\n",
              "      <td>0.563491</td>\n",
              "      <td>2</td>\n",
              "      <td>0</td>\n",
              "      <td>1.0</td>\n",
              "      <td>0.090909</td>\n",
              "      <td>0.083333</td>\n",
              "      <td>0.575758</td>\n",
              "      <td>0.0</td>\n",
              "    </tr>\n",
              "    <tr>\n",
              "      <th>4</th>\n",
              "      <td>2013</td>\n",
              "      <td>85077.0</td>\n",
              "      <td>0.064607</td>\n",
              "      <td>0.306138</td>\n",
              "      <td>0</td>\n",
              "      <td>1</td>\n",
              "      <td>1</td>\n",
              "      <td>0.306053</td>\n",
              "      <td>0</td>\n",
              "      <td>0</td>\n",
              "      <td>1.0</td>\n",
              "      <td>0.090909</td>\n",
              "      <td>0.166667</td>\n",
              "      <td>0.363636</td>\n",
              "      <td>0.0</td>\n",
              "    </tr>\n",
              "    <tr>\n",
              "      <th>...</th>\n",
              "      <td>...</td>\n",
              "      <td>...</td>\n",
              "      <td>...</td>\n",
              "      <td>...</td>\n",
              "      <td>...</td>\n",
              "      <td>...</td>\n",
              "      <td>...</td>\n",
              "      <td>...</td>\n",
              "      <td>...</td>\n",
              "      <td>...</td>\n",
              "      <td>...</td>\n",
              "      <td>...</td>\n",
              "      <td>...</td>\n",
              "      <td>...</td>\n",
              "      <td>...</td>\n",
              "    </tr>\n",
              "    <tr>\n",
              "      <th>700227</th>\n",
              "      <td>2014</td>\n",
              "      <td>50020.0</td>\n",
              "      <td>0.069991</td>\n",
              "      <td>0.346956</td>\n",
              "      <td>0</td>\n",
              "      <td>1</td>\n",
              "      <td>1</td>\n",
              "      <td>0.303178</td>\n",
              "      <td>2</td>\n",
              "      <td>0</td>\n",
              "      <td>1.0</td>\n",
              "      <td>0.090909</td>\n",
              "      <td>0.000000</td>\n",
              "      <td>0.606061</td>\n",
              "      <td>0.0</td>\n",
              "    </tr>\n",
              "    <tr>\n",
              "      <th>700228</th>\n",
              "      <td>2014</td>\n",
              "      <td>85030.0</td>\n",
              "      <td>0.091526</td>\n",
              "      <td>0.142864</td>\n",
              "      <td>0</td>\n",
              "      <td>2</td>\n",
              "      <td>1</td>\n",
              "      <td>0.317761</td>\n",
              "      <td>0</td>\n",
              "      <td>1</td>\n",
              "      <td>1.0</td>\n",
              "      <td>0.090909</td>\n",
              "      <td>0.083333</td>\n",
              "      <td>0.272727</td>\n",
              "      <td>0.0</td>\n",
              "    </tr>\n",
              "    <tr>\n",
              "      <th>700229</th>\n",
              "      <td>2014</td>\n",
              "      <td>98001.0</td>\n",
              "      <td>0.056531</td>\n",
              "      <td>0.183683</td>\n",
              "      <td>1</td>\n",
              "      <td>2</td>\n",
              "      <td>1</td>\n",
              "      <td>0.469405</td>\n",
              "      <td>0</td>\n",
              "      <td>1</td>\n",
              "      <td>1.0</td>\n",
              "      <td>0.090909</td>\n",
              "      <td>0.083333</td>\n",
              "      <td>0.515152</td>\n",
              "      <td>1.0</td>\n",
              "    </tr>\n",
              "    <tr>\n",
              "      <th>700230</th>\n",
              "      <td>2016</td>\n",
              "      <td>50038.0</td>\n",
              "      <td>0.043071</td>\n",
              "      <td>0.346956</td>\n",
              "      <td>1</td>\n",
              "      <td>1</td>\n",
              "      <td>1</td>\n",
              "      <td>0.725363</td>\n",
              "      <td>0</td>\n",
              "      <td>1</td>\n",
              "      <td>1.0</td>\n",
              "      <td>0.000000</td>\n",
              "      <td>0.166667</td>\n",
              "      <td>0.060606</td>\n",
              "      <td>1.0</td>\n",
              "    </tr>\n",
              "    <tr>\n",
              "      <th>700231</th>\n",
              "      <td>2013</td>\n",
              "      <td>15001.0</td>\n",
              "      <td>0.091526</td>\n",
              "      <td>0.367365</td>\n",
              "      <td>0</td>\n",
              "      <td>2</td>\n",
              "      <td>1</td>\n",
              "      <td>0.404051</td>\n",
              "      <td>2</td>\n",
              "      <td>0</td>\n",
              "      <td>1.0</td>\n",
              "      <td>0.000000</td>\n",
              "      <td>0.166667</td>\n",
              "      <td>0.303030</td>\n",
              "      <td>0.0</td>\n",
              "    </tr>\n",
              "  </tbody>\n",
              "</table>\n",
              "<p>700232 rows × 15 columns</p>\n",
              "</div>\n",
              "      <button class=\"colab-df-convert\" onclick=\"convertToInteractive('df-8444c0cf-5df1-4a8c-9b4b-ce67dc58dd56')\"\n",
              "              title=\"Convert this dataframe to an interactive table.\"\n",
              "              style=\"display:none;\">\n",
              "        \n",
              "  <svg xmlns=\"http://www.w3.org/2000/svg\" height=\"24px\"viewBox=\"0 0 24 24\"\n",
              "       width=\"24px\">\n",
              "    <path d=\"M0 0h24v24H0V0z\" fill=\"none\"/>\n",
              "    <path d=\"M18.56 5.44l.94 2.06.94-2.06 2.06-.94-2.06-.94-.94-2.06-.94 2.06-2.06.94zm-11 1L8.5 8.5l.94-2.06 2.06-.94-2.06-.94L8.5 2.5l-.94 2.06-2.06.94zm10 10l.94 2.06.94-2.06 2.06-.94-2.06-.94-.94-2.06-.94 2.06-2.06.94z\"/><path d=\"M17.41 7.96l-1.37-1.37c-.4-.4-.92-.59-1.43-.59-.52 0-1.04.2-1.43.59L10.3 9.45l-7.72 7.72c-.78.78-.78 2.05 0 2.83L4 21.41c.39.39.9.59 1.41.59.51 0 1.02-.2 1.41-.59l7.78-7.78 2.81-2.81c.8-.78.8-2.07 0-2.86zM5.41 20L4 18.59l7.72-7.72 1.47 1.35L5.41 20z\"/>\n",
              "  </svg>\n",
              "      </button>\n",
              "      \n",
              "  <style>\n",
              "    .colab-df-container {\n",
              "      display:flex;\n",
              "      flex-wrap:wrap;\n",
              "      gap: 12px;\n",
              "    }\n",
              "\n",
              "    .colab-df-convert {\n",
              "      background-color: #E8F0FE;\n",
              "      border: none;\n",
              "      border-radius: 50%;\n",
              "      cursor: pointer;\n",
              "      display: none;\n",
              "      fill: #1967D2;\n",
              "      height: 32px;\n",
              "      padding: 0 0 0 0;\n",
              "      width: 32px;\n",
              "    }\n",
              "\n",
              "    .colab-df-convert:hover {\n",
              "      background-color: #E2EBFA;\n",
              "      box-shadow: 0px 1px 2px rgba(60, 64, 67, 0.3), 0px 1px 3px 1px rgba(60, 64, 67, 0.15);\n",
              "      fill: #174EA6;\n",
              "    }\n",
              "\n",
              "    [theme=dark] .colab-df-convert {\n",
              "      background-color: #3B4455;\n",
              "      fill: #D2E3FC;\n",
              "    }\n",
              "\n",
              "    [theme=dark] .colab-df-convert:hover {\n",
              "      background-color: #434B5C;\n",
              "      box-shadow: 0px 1px 3px 1px rgba(0, 0, 0, 0.15);\n",
              "      filter: drop-shadow(0px 1px 2px rgba(0, 0, 0, 0.3));\n",
              "      fill: #FFFFFF;\n",
              "    }\n",
              "  </style>\n",
              "\n",
              "      <script>\n",
              "        const buttonEl =\n",
              "          document.querySelector('#df-8444c0cf-5df1-4a8c-9b4b-ce67dc58dd56 button.colab-df-convert');\n",
              "        buttonEl.style.display =\n",
              "          google.colab.kernel.accessAllowed ? 'block' : 'none';\n",
              "\n",
              "        async function convertToInteractive(key) {\n",
              "          const element = document.querySelector('#df-8444c0cf-5df1-4a8c-9b4b-ce67dc58dd56');\n",
              "          const dataTable =\n",
              "            await google.colab.kernel.invokeFunction('convertToInteractive',\n",
              "                                                     [key], {});\n",
              "          if (!dataTable) return;\n",
              "\n",
              "          const docLinkHtml = 'Like what you see? Visit the ' +\n",
              "            '<a target=\"_blank\" href=https://colab.research.google.com/notebooks/data_table.ipynb>data table notebook</a>'\n",
              "            + ' to learn more about interactive tables.';\n",
              "          element.innerHTML = '';\n",
              "          dataTable['output_type'] = 'display_data';\n",
              "          await google.colab.output.renderOutput(dataTable, element);\n",
              "          const docLink = document.createElement('div');\n",
              "          docLink.innerHTML = docLinkHtml;\n",
              "          element.appendChild(docLink);\n",
              "        }\n",
              "      </script>\n",
              "    </div>\n",
              "  </div>\n",
              "  "
            ]
          },
          "metadata": {},
          "execution_count": 58
        }
      ]
    },
    {
      "cell_type": "code",
      "execution_count": 59,
      "metadata": {
        "colab": {
          "base_uri": "https://localhost:8080/",
          "height": 779
        },
        "id": "chNpyiGdD-L6",
        "outputId": "f49e87bd-0b64-4784-92e5-ccc4649e5bce"
      },
      "outputs": [
        {
          "output_type": "display_data",
          "data": {
            "text/plain": [
              "<Figure size 1000x800 with 1 Axes>"
            ],
            "image/png": "[encoded data removed]"
          },
          "metadata": {}
        }
      ],
      "source": [
        "#Check for the prediction variable importance\n",
        "from sklearn.inspection import permutation_importance\n",
        "\n",
        "# a model object to clf!\n",
        "\n",
        "clf = DTC \n",
        "\n",
        "result = permutation_importance(clf, X_train, y_train, n_repeats=20,\n",
        "                                random_state=42)\n",
        "perm_sorted_idx = result.importances_mean.argsort()\n",
        "\n",
        "fig, ax1 = plt.subplots(1, 1, figsize=(10,8))\n",
        "ax1.boxplot(result.importances[perm_sorted_idx].T, vert=False,\n",
        "            labels=X_train.columns[perm_sorted_idx])\n",
        "fig.suptitle('Feature Importance', y=1.05)\n",
        "fig.tight_layout()\n",
        "plt.show()"
      ]
    },
    {
      "cell_type": "markdown",
      "source": [
        "According to the results frm the feature importance, below five features are significant to this model. \n",
        "\n",
        "1. Credit\n",
        "2. Zip code\n",
        "3. n.adults\n",
        "4. ni.children\n",
        "5. sales channel\n",
        "\n"
      ],
      "metadata": {
        "id": "StFHLPziN-Pt"
      }
    },
    {
      "cell_type": "markdown",
      "metadata": {
        "id": "ely0U6zUN5cH"
      },
      "source": [
        "### Partial dependence plot analysis\n",
        "\n",
        "Using partial dependence plot (PDP), I can interpret the relation between insurance cancellation and each variables. "
      ]
    },
    {
      "cell_type": "code",
      "execution_count": 60,
      "metadata": {
        "colab": {
          "base_uri": "https://localhost:8080/"
        },
        "id": "tkOF67ION8_S",
        "outputId": "beb2f348-172d-4239-a8f4-71bdba466ef4"
      },
      "outputs": [
        {
          "output_type": "stream",
          "name": "stdout",
          "text": [
            "Looking in indexes: https://pypi.org/simple, https://us-python.pkg.dev/colab-wheels/public/simple/\n",
            "Collecting pulp\n",
            "  Downloading PuLP-2.7.0-py3-none-any.whl (14.3 MB)\n",
            "\u001b[2K     \u001b[90m━━━━━━━━━━━━━━━━━━━━━━━━━━━━━━━━━━━━━━━━\u001b[0m \u001b[32m14.3/14.3 MB\u001b[0m \u001b[31m56.0 MB/s\u001b[0m eta \u001b[36m0:00:00\u001b[0m\n",
            "\u001b[?25hInstalling collected packages: pulp\n",
            "Successfully installed pulp-2.7.0\n",
            "Looking in indexes: https://pypi.org/simple, https://us-python.pkg.dev/colab-wheels/public/simple/\n",
            "Collecting pycebox\n",
            "  Downloading pycebox-0.0.1.tar.gz (4.5 kB)\n",
            "  Preparing metadata (setup.py) ... \u001b[?25l\u001b[?25hdone\n",
            "Requirement already satisfied: matplotlib in /usr/local/lib/python3.10/dist-packages (from pycebox) (3.7.1)\n",
            "Requirement already satisfied: numpy in /usr/local/lib/python3.10/dist-packages (from pycebox) (1.22.4)\n",
            "Requirement already satisfied: pandas in /usr/local/lib/python3.10/dist-packages (from pycebox) (1.5.3)\n",
            "Requirement already satisfied: six in /usr/local/lib/python3.10/dist-packages (from pycebox) (1.16.0)\n",
            "Requirement already satisfied: contourpy>=1.0.1 in /usr/local/lib/python3.10/dist-packages (from matplotlib->pycebox) (1.0.7)\n",
            "Requirement already satisfied: cycler>=0.10 in /usr/local/lib/python3.10/dist-packages (from matplotlib->pycebox) (0.11.0)\n",
            "Requirement already satisfied: fonttools>=4.22.0 in /usr/local/lib/python3.10/dist-packages (from matplotlib->pycebox) (4.39.3)\n",
            "Requirement already satisfied: kiwisolver>=1.0.1 in /usr/local/lib/python3.10/dist-packages (from matplotlib->pycebox) (1.4.4)\n",
            "Requirement already satisfied: packaging>=20.0 in /usr/local/lib/python3.10/dist-packages (from matplotlib->pycebox) (23.1)\n",
            "Requirement already satisfied: pillow>=6.2.0 in /usr/local/lib/python3.10/dist-packages (from matplotlib->pycebox) (8.4.0)\n",
            "Requirement already satisfied: pyparsing>=2.3.1 in /usr/local/lib/python3.10/dist-packages (from matplotlib->pycebox) (3.0.9)\n",
            "Requirement already satisfied: python-dateutil>=2.7 in /usr/local/lib/python3.10/dist-packages (from matplotlib->pycebox) (2.8.2)\n",
            "Requirement already satisfied: pytz>=2020.1 in /usr/local/lib/python3.10/dist-packages (from pandas->pycebox) (2022.7.1)\n",
            "Building wheels for collected packages: pycebox\n",
            "  Building wheel for pycebox (setup.py) ... \u001b[?25l\u001b[?25hdone\n",
            "  Created wheel for pycebox: filename=pycebox-0.0.1-py3-none-any.whl size=3626 sha256=fc97319c4437e6665254dd087ecb5c416e93e35e15772b6acd880ffda665a221\n",
            "  Stored in directory: /root/.cache/pip/wheels/af/57/4b/0d7bdd5b5ee35d225b01da15c62ed0ec0af10073f24a4a03ce\n",
            "Successfully built pycebox\n",
            "Installing collected packages: pycebox\n",
            "Successfully installed pycebox-0.0.1\n"
          ]
        }
      ],
      "source": [
        "# import module for PDP (partial dependence plots)\n",
        "!pip install pulp \n",
        "!pip install pycebox\n",
        "from pycebox.ice import ice, ice_plot"
      ]
    },
    {
      "cell_type": "code",
      "execution_count": null,
      "metadata": {
        "colab": {
          "base_uri": "https://localhost:8080/",
          "height": 206
        },
        "id": "qQFpIZ9_x1j_",
        "outputId": "9f278a0c-3f7d-4034-90ae-0b585af86a03"
      },
      "outputs": [
        {
          "output_type": "execute_result",
          "data": {
            "text/plain": [
              "   year  zip.code    ni.age  len.at.res  credit  coverage.type  dwelling.type  \\\n",
              "0  2013   15056.0  0.099602    0.285728       0              0              1   \n",
              "1  2014   80014.0  0.113062    0.326547       2              0              1   \n",
              "2  2014   85002.0  0.080758    0.285728       0              0              0   \n",
              "3  2014   85051.0  0.104986    0.285728       0              0              1   \n",
              "4  2013   85077.0  0.064607    0.306138       0              1              1   \n",
              "\n",
              "    premium  sales.channel  ni.gender  ni.marital.status  n.adults  \\\n",
              "0  0.518647              2          0                1.0  0.000000   \n",
              "1  0.358558              2          0                1.0  0.000000   \n",
              "2  0.555454              0          1                1.0  0.000000   \n",
              "3  0.563491              2          0                1.0  0.090909   \n",
              "4  0.306053              0          0                1.0  0.090909   \n",
              "\n",
              "   n.children    tenure  claim.ind  \n",
              "0    0.083333  0.424242        0.0  \n",
              "1    0.083333  0.515152        0.0  \n",
              "2    0.000000  0.333333        1.0  \n",
              "3    0.083333  0.575758        0.0  \n",
              "4    0.166667  0.363636        0.0  "
            ],
            "text/html": [
              "\n",
              "  <div id=\"df-5b3d2a66-21f9-41cd-bad4-608704f79cbf\">\n",
              "    <div class=\"colab-df-container\">\n",
              "      <div>\n",
              "<style scoped>\n",
              "    .dataframe tbody tr th:only-of-type {\n",
              "        vertical-align: middle;\n",
              "    }\n",
              "\n",
              "    .dataframe tbody tr th {\n",
              "        vertical-align: top;\n",
              "    }\n",
              "\n",
              "    .dataframe thead th {\n",
              "        text-align: right;\n",
              "    }\n",
              "</style>\n",
              "<table border=\"1\" class=\"dataframe\">\n",
              "  <thead>\n",
              "    <tr style=\"text-align: right;\">\n",
              "      <th></th>\n",
              "      <th>year</th>\n",
              "      <th>zip.code</th>\n",
              "      <th>ni.age</th>\n",
              "      <th>len.at.res</th>\n",
              "      <th>credit</th>\n",
              "      <th>coverage.type</th>\n",
              "      <th>dwelling.type</th>\n",
              "      <th>premium</th>\n",
              "      <th>sales.channel</th>\n",
              "      <th>ni.gender</th>\n",
              "      <th>ni.marital.status</th>\n",
              "      <th>n.adults</th>\n",
              "      <th>n.children</th>\n",
              "      <th>tenure</th>\n",
              "      <th>claim.ind</th>\n",
              "    </tr>\n",
              "  </thead>\n",
              "  <tbody>\n",
              "    <tr>\n",
              "      <th>0</th>\n",
              "      <td>2013</td>\n",
              "      <td>15056.0</td>\n",
              "      <td>0.099602</td>\n",
              "      <td>0.285728</td>\n",
              "      <td>0</td>\n",
              "      <td>0</td>\n",
              "      <td>1</td>\n",
              "      <td>0.518647</td>\n",
              "      <td>2</td>\n",
              "      <td>0</td>\n",
              "      <td>1.0</td>\n",
              "      <td>0.000000</td>\n",
              "      <td>0.083333</td>\n",
              "      <td>0.424242</td>\n",
              "      <td>0.0</td>\n",
              "    </tr>\n",
              "    <tr>\n",
              "      <th>1</th>\n",
              "      <td>2014</td>\n",
              "      <td>80014.0</td>\n",
              "      <td>0.113062</td>\n",
              "      <td>0.326547</td>\n",
              "      <td>2</td>\n",
              "      <td>0</td>\n",
              "      <td>1</td>\n",
              "      <td>0.358558</td>\n",
              "      <td>2</td>\n",
              "      <td>0</td>\n",
              "      <td>1.0</td>\n",
              "      <td>0.000000</td>\n",
              "      <td>0.083333</td>\n",
              "      <td>0.515152</td>\n",
              "      <td>0.0</td>\n",
              "    </tr>\n",
              "    <tr>\n",
              "      <th>2</th>\n",
              "      <td>2014</td>\n",
              "      <td>85002.0</td>\n",
              "      <td>0.080758</td>\n",
              "      <td>0.285728</td>\n",
              "      <td>0</td>\n",
              "      <td>0</td>\n",
              "      <td>0</td>\n",
              "      <td>0.555454</td>\n",
              "      <td>0</td>\n",
              "      <td>1</td>\n",
              "      <td>1.0</td>\n",
              "      <td>0.000000</td>\n",
              "      <td>0.000000</td>\n",
              "      <td>0.333333</td>\n",
              "      <td>1.0</td>\n",
              "    </tr>\n",
              "    <tr>\n",
              "      <th>3</th>\n",
              "      <td>2014</td>\n",
              "      <td>85051.0</td>\n",
              "      <td>0.104986</td>\n",
              "      <td>0.285728</td>\n",
              "      <td>0</td>\n",
              "      <td>0</td>\n",
              "      <td>1</td>\n",
              "      <td>0.563491</td>\n",
              "      <td>2</td>\n",
              "      <td>0</td>\n",
              "      <td>1.0</td>\n",
              "      <td>0.090909</td>\n",
              "      <td>0.083333</td>\n",
              "      <td>0.575758</td>\n",
              "      <td>0.0</td>\n",
              "    </tr>\n",
              "    <tr>\n",
              "      <th>4</th>\n",
              "      <td>2013</td>\n",
              "      <td>85077.0</td>\n",
              "      <td>0.064607</td>\n",
              "      <td>0.306138</td>\n",
              "      <td>0</td>\n",
              "      <td>1</td>\n",
              "      <td>1</td>\n",
              "      <td>0.306053</td>\n",
              "      <td>0</td>\n",
              "      <td>0</td>\n",
              "      <td>1.0</td>\n",
              "      <td>0.090909</td>\n",
              "      <td>0.166667</td>\n",
              "      <td>0.363636</td>\n",
              "      <td>0.0</td>\n",
              "    </tr>\n",
              "  </tbody>\n",
              "</table>\n",
              "</div>\n",
              "      <button class=\"colab-df-convert\" onclick=\"convertToInteractive('df-5b3d2a66-21f9-41cd-bad4-608704f79cbf')\"\n",
              "              title=\"Convert this dataframe to an interactive table.\"\n",
              "              style=\"display:none;\">\n",
              "        \n",
              "  <svg xmlns=\"http://www.w3.org/2000/svg\" height=\"24px\"viewBox=\"0 0 24 24\"\n",
              "       width=\"24px\">\n",
              "    <path d=\"M0 0h24v24H0V0z\" fill=\"none\"/>\n",
              "    <path d=\"M18.56 5.44l.94 2.06.94-2.06 2.06-.94-2.06-.94-.94-2.06-.94 2.06-2.06.94zm-11 1L8.5 8.5l.94-2.06 2.06-.94-2.06-.94L8.5 2.5l-.94 2.06-2.06.94zm10 10l.94 2.06.94-2.06 2.06-.94-2.06-.94-.94-2.06-.94 2.06-2.06.94z\"/><path d=\"M17.41 7.96l-1.37-1.37c-.4-.4-.92-.59-1.43-.59-.52 0-1.04.2-1.43.59L10.3 9.45l-7.72 7.72c-.78.78-.78 2.05 0 2.83L4 21.41c.39.39.9.59 1.41.59.51 0 1.02-.2 1.41-.59l7.78-7.78 2.81-2.81c.8-.78.8-2.07 0-2.86zM5.41 20L4 18.59l7.72-7.72 1.47 1.35L5.41 20z\"/>\n",
              "  </svg>\n",
              "      </button>\n",
              "      \n",
              "  <style>\n",
              "    .colab-df-container {\n",
              "      display:flex;\n",
              "      flex-wrap:wrap;\n",
              "      gap: 12px;\n",
              "    }\n",
              "\n",
              "    .colab-df-convert {\n",
              "      background-color: #E8F0FE;\n",
              "      border: none;\n",
              "      border-radius: 50%;\n",
              "      cursor: pointer;\n",
              "      display: none;\n",
              "      fill: #1967D2;\n",
              "      height: 32px;\n",
              "      padding: 0 0 0 0;\n",
              "      width: 32px;\n",
              "    }\n",
              "\n",
              "    .colab-df-convert:hover {\n",
              "      background-color: #E2EBFA;\n",
              "      box-shadow: 0px 1px 2px rgba(60, 64, 67, 0.3), 0px 1px 3px 1px rgba(60, 64, 67, 0.15);\n",
              "      fill: #174EA6;\n",
              "    }\n",
              "\n",
              "    [theme=dark] .colab-df-convert {\n",
              "      background-color: #3B4455;\n",
              "      fill: #D2E3FC;\n",
              "    }\n",
              "\n",
              "    [theme=dark] .colab-df-convert:hover {\n",
              "      background-color: #434B5C;\n",
              "      box-shadow: 0px 1px 3px 1px rgba(0, 0, 0, 0.15);\n",
              "      filter: drop-shadow(0px 1px 2px rgba(0, 0, 0, 0.3));\n",
              "      fill: #FFFFFF;\n",
              "    }\n",
              "  </style>\n",
              "\n",
              "      <script>\n",
              "        const buttonEl =\n",
              "          document.querySelector('#df-5b3d2a66-21f9-41cd-bad4-608704f79cbf button.colab-df-convert');\n",
              "        buttonEl.style.display =\n",
              "          google.colab.kernel.accessAllowed ? 'block' : 'none';\n",
              "\n",
              "        async function convertToInteractive(key) {\n",
              "          const element = document.querySelector('#df-5b3d2a66-21f9-41cd-bad4-608704f79cbf');\n",
              "          const dataTable =\n",
              "            await google.colab.kernel.invokeFunction('convertToInteractive',\n",
              "                                                     [key], {});\n",
              "          if (!dataTable) return;\n",
              "\n",
              "          const docLinkHtml = 'Like what you see? Visit the ' +\n",
              "            '<a target=\"_blank\" href=https://colab.research.google.com/notebooks/data_table.ipynb>data table notebook</a>'\n",
              "            + ' to learn more about interactive tables.';\n",
              "          element.innerHTML = '';\n",
              "          dataTable['output_type'] = 'display_data';\n",
              "          await google.colab.output.renderOutput(dataTable, element);\n",
              "          const docLink = document.createElement('div');\n",
              "          docLink.innerHTML = docLinkHtml;\n",
              "          element.appendChild(docLink);\n",
              "        }\n",
              "      </script>\n",
              "    </div>\n",
              "  </div>\n",
              "  "
            ]
          },
          "metadata": {},
          "execution_count": 91
        }
      ],
      "source": [
        "X_train = pd.DataFrame(X_train)\n",
        "#train_pdp_df=X_train.drop('cancel', axis=1)\n",
        "X_train.head()"
      ]
    },
    {
      "cell_type": "markdown",
      "source": [
        "#### 1. Credit"
      ],
      "metadata": {
        "id": "UzZZv5V5L1k6"
      }
    },
    {
      "cell_type": "code",
      "execution_count": null,
      "metadata": {
        "colab": {
          "base_uri": "https://localhost:8080/",
          "height": 546
        },
        "id": "uewgUfsWN4ed",
        "outputId": "7c2fea0f-7d60-4cfa-a014-68ea2e0a3884"
      },
      "outputs": [
        {
          "output_type": "stream",
          "name": "stderr",
          "text": [
            "/usr/local/lib/python3.10/dist-packages/sklearn/base.py:439: UserWarning: X does not have valid feature names, but DecisionTreeClassifier was fitted with feature names\n",
            "  warnings.warn(\n"
          ]
        },
        {
          "output_type": "stream",
          "name": "stdout",
          "text": [
            "(3, 700232)\n"
          ]
        },
        {
          "output_type": "display_data",
          "data": {
            "text/plain": [
              "<Figure size 640x480 with 1 Axes>"
            ],
            "image/png": "[encoded data removed]"
          },
          "metadata": {}
        }
      ],
      "source": [
        "tmpdf = ice(data=X_train, # ice needs a dataframe\n",
        "            column='credit', # the column name\n",
        "            predict=DTC.predict,\n",
        "            num_grid_points=500) # the predict statement from the \n",
        "                                          # model\n",
        "print(np.shape(tmpdf))\n",
        "ice_plot(tmpdf, c='dimgray', linewidth=0.2,\n",
        "                  plot_pdp=True, \n",
        "         pdp_kwargs={'linewidth': 4, 'color':'blue'})\n",
        "plt.title('PDP: credit')\n",
        "plt.ylabel('Predicted Cancel Status')\n",
        "plt.xlabel('Credit');\n",
        "plt.show()"
      ]
    },
    {
      "cell_type": "markdown",
      "metadata": {
        "id": "n7UNlyY7hJSq"
      },
      "source": [
        "In this plot, a credit score of 0.0 represents high credit, 1.0 represents low credit, and 2.0 represents medium credit. A credit score of 1.0 indicates the highest cancellation rate, while 0.0 indicates the lowest and 2.0 indicates the middle. The plot suggests that lower credit scores are associated with higher cancellation rates."
      ]
    },
    {
      "cell_type": "markdown",
      "source": [
        "#### 2. Sales Chnnel"
      ],
      "metadata": {
        "id": "4-WhsOyGXpxO"
      }
    },
    {
      "cell_type": "code",
      "execution_count": null,
      "metadata": {
        "colab": {
          "base_uri": "https://localhost:8080/",
          "height": 546
        },
        "id": "YH7WHofeYtfo",
        "outputId": "61781074-09ec-4135-d62d-ca2985457cbc"
      },
      "outputs": [
        {
          "output_type": "stream",
          "name": "stderr",
          "text": [
            "/usr/local/lib/python3.10/dist-packages/sklearn/base.py:439: UserWarning: X does not have valid feature names, but DecisionTreeClassifier was fitted with feature names\n",
            "  warnings.warn(\n"
          ]
        },
        {
          "output_type": "stream",
          "name": "stdout",
          "text": [
            "(3, 700232)\n"
          ]
        },
        {
          "output_type": "display_data",
          "data": {
            "text/plain": [
              "<Figure size 640x480 with 1 Axes>"
            ],
            "image/png": "[encoded data removed]"
          },
          "metadata": {}
        }
      ],
      "source": [
        "tmpdf = ice(data=X_train, # ice needs a dataframe\n",
        "            column='sales.channel', # the column name\n",
        "            predict=DTC.predict,\n",
        "            num_grid_points=300) # the predict statement from the \n",
        "                                          # model\n",
        "print(np.shape(tmpdf))\n",
        "ice_plot(tmpdf, c='dimgray', linewidth=0.2,\n",
        "                  plot_pdp=True, \n",
        "         pdp_kwargs={'linewidth': 4, 'color':'blue'})\n",
        "plt.title('PDP: sales.channel')\n",
        "plt.ylabel('Predicted Cancel Status')\n",
        "plt.xlabel('sales.channel');\n",
        "plt.show()"
      ]
    },
    {
      "cell_type": "markdown",
      "metadata": {
        "id": "smUYaEl1j6oJ"
      },
      "source": [
        "In the sales.channel plot, a sales channel of 0.0 represents broker, 0.5 represents online, and 1.0 represents phone. The plot suggests that sales from brokers have the lowest cancellation rate, while online sales are associated with the highest cancellation rate."
      ]
    },
    {
      "cell_type": "markdown",
      "source": [
        "#### 3. n.adults"
      ],
      "metadata": {
        "id": "UvZA2Y1jXuF1"
      }
    },
    {
      "cell_type": "code",
      "execution_count": 61,
      "metadata": {
        "id": "OxiPwc1XY19M",
        "colab": {
          "base_uri": "https://localhost:8080/",
          "height": 546
        },
        "outputId": "5fd3ef71-cd6b-4b12-8587-3bda2d9dfcf7"
      },
      "outputs": [
        {
          "output_type": "stream",
          "name": "stderr",
          "text": [
            "/usr/local/lib/python3.10/dist-packages/sklearn/base.py:439: UserWarning: X does not have valid feature names, but DecisionTreeClassifier was fitted with feature names\n",
            "  warnings.warn(\n"
          ]
        },
        {
          "output_type": "stream",
          "name": "stdout",
          "text": [
            "(8, 700232)\n"
          ]
        },
        {
          "output_type": "display_data",
          "data": {
            "text/plain": [
              "<Figure size 640x480 with 1 Axes>"
            ],
            "image/png": "[encoded data removed]"
          },
          "metadata": {}
        }
      ],
      "source": [
        "tmpdf = ice(data=X_train, # ice needs a dataframe\n",
        "            column='n.adults', # the column name\n",
        "            predict=DTC.predict,\n",
        "            num_grid_points=300) # the predict statement from the \n",
        "                                          # model\n",
        "print(np.shape(tmpdf))\n",
        "ice_plot(tmpdf, c='dimgray', linewidth=0.2,\n",
        "                  plot_pdp=True, \n",
        "         pdp_kwargs={'linewidth': 4, 'color':'blue'})\n",
        "plt.title('PDP: n.adults')\n",
        "plt.ylabel('Predicted Cancel Status')\n",
        "plt.xlabel('n.adults');\n",
        "plt.show()"
      ]
    },
    {
      "cell_type": "markdown",
      "metadata": {
        "id": "jmpkD8UEk2IJ"
      },
      "source": [
        "Regarding \"n.adult\", the graph shows that as the number of adults increases, the corresponding number of cancellations also increases. However, the increase is not sharp, and the graph remains relatively stable around 0.5."
      ]
    },
    {
      "cell_type": "markdown",
      "source": [
        "#### 4. n.children"
      ],
      "metadata": {
        "id": "ebnOFpVNXyvN"
      }
    },
    {
      "cell_type": "code",
      "execution_count": null,
      "metadata": {
        "id": "I_Crw83jX5YU",
        "colab": {
          "base_uri": "https://localhost:8080/",
          "height": 546
        },
        "outputId": "958607ea-f7c3-4b71-96f0-4160a0d390f1"
      },
      "outputs": [
        {
          "output_type": "stream",
          "name": "stderr",
          "text": [
            "/usr/local/lib/python3.10/dist-packages/sklearn/base.py:439: UserWarning: X does not have valid feature names, but DecisionTreeClassifier was fitted with feature names\n",
            "  warnings.warn(\n"
          ]
        },
        {
          "output_type": "stream",
          "name": "stdout",
          "text": [
            "(13, 700232)\n"
          ]
        },
        {
          "output_type": "display_data",
          "data": {
            "text/plain": [
              "<Figure size 640x480 with 1 Axes>"
            ],
            "image/png": "[encoded data removed]"
          },
          "metadata": {}
        }
      ],
      "source": [
        "tmpdf = ice(data=X_train, # ice needs a dataframe\n",
        "            column='n.children', # the column name\n",
        "            predict=DTC.predict,\n",
        "            num_grid_points=300) # the predict statement from the \n",
        "                                          # model\n",
        "print(np.shape(tmpdf))\n",
        "ice_plot(tmpdf, c='dimgray', linewidth=0.2,\n",
        "                  plot_pdp=True, \n",
        "         pdp_kwargs={'linewidth': 4, 'color':'blue'})\n",
        "plt.title('PDP: n.children')\n",
        "plt.ylabel('Predicted Cancel Status')\n",
        "plt.xlabel('n.children');\n",
        "plt.show()"
      ]
    },
    {
      "cell_type": "markdown",
      "metadata": {
        "id": "2DUlLgKGlzbK"
      },
      "source": [
        "According to the n.children PDP plot, it can be interpreted that the more children in a property, the higher the number of cancellations."
      ]
    },
    {
      "cell_type": "markdown",
      "source": [
        "#### 5. zip.code"
      ],
      "metadata": {
        "id": "O8F9htXEX1_Y"
      }
    },
    {
      "cell_type": "code",
      "execution_count": null,
      "metadata": {
        "id": "T-oVg7DQZrev",
        "colab": {
          "base_uri": "https://localhost:8080/"
        },
        "outputId": "ff0fd118-2540-4933-aec7-e6d730cf8cc9"
      },
      "outputs": [
        {
          "output_type": "stream",
          "name": "stderr",
          "text": [
            "/usr/local/lib/python3.10/dist-packages/sklearn/base.py:439: UserWarning: X does not have valid feature names, but DecisionTreeClassifier was fitted with feature names\n",
            "  warnings.warn(\n"
          ]
        }
      ],
      "source": [
        "tmpdf = ice(data=X_train, \n",
        "            column='zip.code', # the column name\n",
        "            predict=DTC.predict,\n",
        "            num_grid_points=300) # the predict statement from the \n",
        "                                          # model\n",
        "print(np.shape(tmpdf))\n",
        "ice_plot(tmpdf, c='dimgray', linewidth=0.2,\n",
        "                  plot_pdp=True, \n",
        "         pdp_kwargs={'linewidth': 4, 'color':'blue'})\n",
        "plt.title('PDP: zip.code')\n",
        "plt.ylabel('Predicted Cancel Status')\n",
        "plt.xlabel('zip.code');\n",
        "plt.show()"
      ]
    },
    {
      "cell_type": "markdown",
      "metadata": {
        "id": "FF73kI_aZuYZ"
      },
      "source": [
        "![zip code.png](data:image/png;base64,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)"
      ]
    },
    {
      "cell_type": "markdown",
      "metadata": {
        "id": "OrdwvLXLmNNE"
      },
      "source": [
        "While the number of cancellations is generally stable across zip codes, certain regions tend to see more cancellations. "
      ]
    },
    {
      "cell_type": "markdown",
      "metadata": {
        "id": "xjy9SshLN_RI"
      },
      "source": [
        "## 5.Conclusion \n",
        "\n",
        "\n",
        "1. The cancel variable has three categories which are unbalanced, and hence, we used SMOTE to balance the classes.\n",
        "2. After trying out different classification models, we selected the RandomForestClassifier to solve our problem as it gave giving highest test accuracy (72% of weighted F1 score) \n",
        "3. We used permutation method to find that most influential features for this classification problem are zip.code, credit, sales.channel, n.adults and n.children\n",
        "4. Gender, dwelling type, coverage type and marital status were some of the least impactful variables for our model.\n",
        "5. Cancel Indicator shows positive correlation with Number of children, Number of adult and claim indicator\n",
        "6. To reduce the number of policy cancellations, it appears that brokers should prioritize face-to-face sales over online or phone sales. Furthermore, brokers may want to target customers with higher credit scores, and fewer children. The data also suggests that brokers should exercise caution when selling insurance in regions with a high incidence of cancellations."
      ]
    }
  ],
  "metadata": {
    "colab": {
      "machine_shape": "hm",
      "toc_visible": true,
      "provenance": [],
      "gpuType": "A100"
    },
    "gpuClass": "standard",
    "kernelspec": {
      "display_name": "Python 3",
      "name": "python3"
    },
    "language_info": {
      "name": "python"
    }
  },
  "nbformat": 4,
  "nbformat_minor": 0
}